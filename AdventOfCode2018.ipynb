{
 "cells": [
  {
   "cell_type": "code",
   "execution_count": 1,
   "metadata": {},
   "outputs": [],
   "source": [
    "# copy cookie from adventofcode.com to cookie.txt to get inputs\n",
    "import requests\n",
    "c = open('cookie.txt').readline()\n",
    "cookie = {'session': c}"
   ]
  },
  {
   "cell_type": "markdown",
   "metadata": {},
   "source": [
    "# Day 1"
   ]
  },
  {
   "cell_type": "code",
   "execution_count": 2,
   "metadata": {},
   "outputs": [],
   "source": [
    "#1\n",
    "url = 'https://adventofcode.com/2018/day/1/input'\n",
    "r = requests.post(url, cookies=cookie)\n",
    "inp = r.text"
   ]
  },
  {
   "cell_type": "code",
   "execution_count": 3,
   "metadata": {},
   "outputs": [
    {
     "data": {
      "text/plain": [
       "599"
      ]
     },
     "execution_count": 3,
     "metadata": {},
     "output_type": "execute_result"
    }
   ],
   "source": [
    "t = [int(i[1:]) if i[0]=='+' else int(i) for i in inp.split('\\n')[:-1]]\n",
    "sum(t)"
   ]
  },
  {
   "cell_type": "code",
   "execution_count": 4,
   "metadata": {},
   "outputs": [
    {
     "name": "stdout",
     "output_type": "stream",
     "text": [
      "81204\n"
     ]
    }
   ],
   "source": [
    "#2\n",
    "c = 0 \n",
    "s = []\n",
    "flag = False\n",
    "while True:\n",
    "    for i in t:\n",
    "        c += i\n",
    "        if c in s:\n",
    "            print(c)\n",
    "            flag = True\n",
    "            break\n",
    "        s.append(c)\n",
    "    if flag:\n",
    "        break"
   ]
  },
  {
   "cell_type": "markdown",
   "metadata": {},
   "source": [
    "# Day 2"
   ]
  },
  {
   "cell_type": "code",
   "execution_count": 5,
   "metadata": {},
   "outputs": [],
   "source": [
    "# 1\n",
    "url = 'https://adventofcode.com/2018/day/2/input'\n",
    "r = requests.post(url, cookies=cookie)\n",
    "inp = r.text"
   ]
  },
  {
   "cell_type": "code",
   "execution_count": 6,
   "metadata": {},
   "outputs": [
    {
     "name": "stdout",
     "output_type": "stream",
     "text": [
      "8296\n"
     ]
    }
   ],
   "source": [
    "lst = inp.split('\\n')[:-1]\n",
    "tmp2 = {}\n",
    "for i in lst:\n",
    "    tmp1 = {}\n",
    "    for j in i:\n",
    "        if j in tmp1:\n",
    "            tmp1[j] += 1\n",
    "        else:\n",
    "            tmp1[j] = 1\n",
    "    for k in list(set(tmp1.values())):\n",
    "        if k in tmp2:\n",
    "            tmp2[k] +=1\n",
    "        else:\n",
    "            tmp2[k] = 1\n",
    "\n",
    "res = 1  \n",
    "del tmp2[1]\n",
    "for l in tmp2.values():\n",
    "    res*=l\n",
    "print(res)"
   ]
  },
  {
   "cell_type": "code",
   "execution_count": 7,
   "metadata": {
    "scrolled": true
   },
   "outputs": [
    {
     "name": "stdout",
     "output_type": "stream",
     "text": [
      "25 pazvmqbfjtrbeosiecxlghkwud pazvmqbfotrbeosiecxlghkwud\n",
      "pazvmqbftrbeosiecxlghkwud\n"
     ]
    }
   ],
   "source": [
    "# 2\n",
    "def findSimilarity(l1,l2):\n",
    "    s = 0\n",
    "    for i in zip(l1,l2):\n",
    "        if i[0]==i[1]:\n",
    "            s+=1\n",
    "    return s\n",
    "\n",
    "def simletters(l1,l2):\n",
    "    s = ''\n",
    "    for i in zip(l1,l2):\n",
    "        if i[0]==i[1]:\n",
    "            s+=i[0]\n",
    "    return s\n",
    "\n",
    "m = 0\n",
    "k1, k2 = 0,0\n",
    "\n",
    "for i in range(len(lst)-1):\n",
    "    for j in range(i+1, len(lst)):\n",
    "        tmp = findSimilarity(lst[i],lst[j])\n",
    "        if tmp>m:\n",
    "            k1,k2 = i,j\n",
    "            m = tmp\n",
    "            \n",
    "print(m,lst[k1],lst[k2])\n",
    "print(simletters(lst[k1],lst[k2]))"
   ]
  },
  {
   "cell_type": "markdown",
   "metadata": {},
   "source": [
    "# Day 3"
   ]
  },
  {
   "cell_type": "code",
   "execution_count": 8,
   "metadata": {},
   "outputs": [
    {
     "data": {
      "text/plain": [
       "'#133 @ 305,659: 21x28'"
      ]
     },
     "execution_count": 8,
     "metadata": {},
     "output_type": "execute_result"
    }
   ],
   "source": [
    "# 1\n",
    "url = 'https://adventofcode.com/2018/day/3/input'\n",
    "r = requests.post(url, cookies=cookie)\n",
    "inp = r.text\n",
    "lst = inp.split('\\n')[:-1]\n",
    "lst[132]"
   ]
  },
  {
   "cell_type": "code",
   "execution_count": 9,
   "metadata": {},
   "outputs": [
    {
     "name": "stdout",
     "output_type": "stream",
     "text": [
      "117948\n"
     ]
    }
   ],
   "source": [
    "lst1 = [int(x.split('@ ')[1].split(',')[0]) for x in lst]\n",
    "lst2 = [int(x.split(',')[1].split(':')[0]) for x in lst]\n",
    "lst3 = [int(x.split(': ')[1].split('x')[0]) for x in lst]\n",
    "lst4 = [int(x.split('x')[1]) for x in lst]\n",
    "\n",
    "\n",
    "s = []\n",
    "for i in zip(lst1,lst3):\n",
    "    s.append(sum(i))\n",
    "max_h = max(s)\n",
    "\n",
    "s = []\n",
    "for i in zip(lst2,lst4):\n",
    "    s.append(sum(i))\n",
    "max_w = max(s)\n",
    "\n",
    "m = [[0]*max_w for i in range(max_h)]\n",
    "for i in range(len(lst1)):\n",
    "    for j in range(lst1[i],lst1[i]+lst3[i]):\n",
    "        for k in range(lst2[i],lst2[i]+lst4[i]):\n",
    "            m[j][k] += 1\n",
    "            \n",
    "s = 0\n",
    "for i in m:\n",
    "    for j in i:\n",
    "        if j>1:\n",
    "            s+=1\n",
    "print(s)"
   ]
  },
  {
   "cell_type": "code",
   "execution_count": 10,
   "metadata": {},
   "outputs": [
    {
     "name": "stdout",
     "output_type": "stream",
     "text": [
      "#567 @ 370,732: 23x19\n"
     ]
    }
   ],
   "source": [
    "# 2\n",
    "import numpy as np\n",
    "mm = np.asarray(m)\n",
    "for k in range(len(lst1)):\n",
    "    if np.max(mm[lst1[k]:lst1[k]+lst3[k],lst2[k]:lst2[k]+lst4[k]])==1:\n",
    "        print(lst[k])"
   ]
  },
  {
   "cell_type": "code",
   "execution_count": null,
   "metadata": {},
   "outputs": [],
   "source": []
  },
  {
   "cell_type": "code",
   "execution_count": null,
   "metadata": {},
   "outputs": [],
   "source": []
  },
  {
   "cell_type": "code",
   "execution_count": null,
   "metadata": {},
   "outputs": [],
   "source": []
  },
  {
   "cell_type": "code",
   "execution_count": null,
   "metadata": {},
   "outputs": [],
   "source": []
  }
 ],
 "metadata": {
  "kernelspec": {
   "display_name": "Python 3",
   "language": "python",
   "name": "python3"
  },
  "language_info": {
   "codemirror_mode": {
    "name": "ipython",
    "version": 3
   },
   "file_extension": ".py",
   "mimetype": "text/x-python",
   "name": "python",
   "nbconvert_exporter": "python",
   "pygments_lexer": "ipython3",
   "version": "3.6.5"
  }
 },
 "nbformat": 4,
 "nbformat_minor": 2
}
