{
 "cells": [
  {
   "cell_type": "code",
   "execution_count": 1,
   "metadata": {},
   "outputs": [],
   "source": [
    "# copy cookie from adventofcode.com to cookie.txt to get inputs\n",
    "import requests\n",
    "c = open('cookie.txt').readline()\n",
    "cookie = {'session': c[:-1]}"
   ]
  },
  {
   "cell_type": "markdown",
   "metadata": {},
   "source": [
    "# Day 1"
   ]
  },
  {
   "cell_type": "code",
   "execution_count": 2,
   "metadata": {},
   "outputs": [],
   "source": [
    "#1\n",
    "url = 'https://adventofcode.com/2018/day/1/input'\n",
    "r = requests.post(url, cookies=cookie)\n",
    "inp = r.text"
   ]
  },
  {
   "cell_type": "code",
   "execution_count": 3,
   "metadata": {},
   "outputs": [
    {
     "data": {
      "text/plain": [
       "599"
      ]
     },
     "execution_count": 3,
     "metadata": {},
     "output_type": "execute_result"
    }
   ],
   "source": [
    "t = [int(i[1:]) if i[0]=='+' else int(i) for i in inp.split('\\n')[:-1]]\n",
    "sum(t)"
   ]
  },
  {
   "cell_type": "code",
   "execution_count": 4,
   "metadata": {},
   "outputs": [
    {
     "name": "stdout",
     "output_type": "stream",
     "text": [
      "81204\n"
     ]
    }
   ],
   "source": [
    "#2\n",
    "c = 0 \n",
    "s = []\n",
    "flag = False\n",
    "while True:\n",
    "    for i in t:\n",
    "        c += i\n",
    "        if c in s:\n",
    "            print(c)\n",
    "            flag = True\n",
    "            break\n",
    "        s.append(c)\n",
    "    if flag:\n",
    "        break"
   ]
  },
  {
   "cell_type": "markdown",
   "metadata": {},
   "source": [
    "# Day 2"
   ]
  },
  {
   "cell_type": "code",
   "execution_count": 5,
   "metadata": {},
   "outputs": [],
   "source": [
    "# 1\n",
    "url = 'https://adventofcode.com/2018/day/2/input'\n",
    "r = requests.post(url, cookies=cookie)\n",
    "inp = r.text"
   ]
  },
  {
   "cell_type": "code",
   "execution_count": 6,
   "metadata": {},
   "outputs": [
    {
     "name": "stdout",
     "output_type": "stream",
     "text": [
      "8296\n"
     ]
    }
   ],
   "source": [
    "lst = inp.split('\\n')[:-1]\n",
    "tmp2 = {}\n",
    "for i in lst:\n",
    "    tmp1 = {}\n",
    "    for j in i:\n",
    "        if j in tmp1:\n",
    "            tmp1[j] += 1\n",
    "        else:\n",
    "            tmp1[j] = 1\n",
    "    for k in list(set(tmp1.values())):\n",
    "        if k in tmp2:\n",
    "            tmp2[k] +=1\n",
    "        else:\n",
    "            tmp2[k] = 1\n",
    "\n",
    "res = 1  \n",
    "del tmp2[1]\n",
    "for l in tmp2.values():\n",
    "    res*=l\n",
    "print(res)"
   ]
  },
  {
   "cell_type": "code",
   "execution_count": 7,
   "metadata": {
    "scrolled": true
   },
   "outputs": [
    {
     "name": "stdout",
     "output_type": "stream",
     "text": [
      "25 pazvmqbfjtrbeosiecxlghkwud pazvmqbfotrbeosiecxlghkwud\n",
      "pazvmqbftrbeosiecxlghkwud\n"
     ]
    }
   ],
   "source": [
    "# 2\n",
    "def findSimilarity(l1,l2):\n",
    "    s = 0\n",
    "    for i in zip(l1,l2):\n",
    "        if i[0]==i[1]:\n",
    "            s+=1\n",
    "    return s\n",
    "\n",
    "def simletters(l1,l2):\n",
    "    s = ''\n",
    "    for i in zip(l1,l2):\n",
    "        if i[0]==i[1]:\n",
    "            s+=i[0]\n",
    "    return s\n",
    "\n",
    "m = 0\n",
    "k1, k2 = 0,0\n",
    "\n",
    "for i in range(len(lst)-1):\n",
    "    for j in range(i+1, len(lst)):\n",
    "        tmp = findSimilarity(lst[i],lst[j])\n",
    "        if tmp>m:\n",
    "            k1,k2 = i,j\n",
    "            m = tmp\n",
    "            \n",
    "print(m,lst[k1],lst[k2])\n",
    "print(simletters(lst[k1],lst[k2]))"
   ]
  },
  {
   "cell_type": "markdown",
   "metadata": {},
   "source": [
    "# Day 3"
   ]
  },
  {
   "cell_type": "code",
   "execution_count": 8,
   "metadata": {},
   "outputs": [
    {
     "data": {
      "text/plain": [
       "'#133 @ 305,659: 21x28'"
      ]
     },
     "execution_count": 8,
     "metadata": {},
     "output_type": "execute_result"
    }
   ],
   "source": [
    "# 1\n",
    "url = 'https://adventofcode.com/2018/day/3/input'\n",
    "r = requests.post(url, cookies=cookie)\n",
    "inp = r.text\n",
    "lst = inp.split('\\n')[:-1]\n",
    "lst[132]"
   ]
  },
  {
   "cell_type": "code",
   "execution_count": 9,
   "metadata": {},
   "outputs": [
    {
     "name": "stdout",
     "output_type": "stream",
     "text": [
      "117948\n"
     ]
    }
   ],
   "source": [
    "lst1 = [int(x.split('@ ')[1].split(',')[0]) for x in lst]\n",
    "lst2 = [int(x.split(',')[1].split(':')[0]) for x in lst]\n",
    "lst3 = [int(x.split(': ')[1].split('x')[0]) for x in lst]\n",
    "lst4 = [int(x.split('x')[1]) for x in lst]\n",
    "\n",
    "\n",
    "s = []\n",
    "for i in zip(lst1,lst3):\n",
    "    s.append(sum(i))\n",
    "max_h = max(s)\n",
    "\n",
    "s = []\n",
    "for i in zip(lst2,lst4):\n",
    "    s.append(sum(i))\n",
    "max_w = max(s)\n",
    "\n",
    "m = [[0]*max_w for i in range(max_h)]\n",
    "for i in range(len(lst1)):\n",
    "    for j in range(lst1[i],lst1[i]+lst3[i]):\n",
    "        for k in range(lst2[i],lst2[i]+lst4[i]):\n",
    "            m[j][k] += 1\n",
    "            \n",
    "s = 0\n",
    "for i in m:\n",
    "    for j in i:\n",
    "        if j>1:\n",
    "            s+=1\n",
    "print(s)"
   ]
  },
  {
   "cell_type": "code",
   "execution_count": 10,
   "metadata": {},
   "outputs": [
    {
     "name": "stdout",
     "output_type": "stream",
     "text": [
      "#567 @ 370,732: 23x19\n"
     ]
    }
   ],
   "source": [
    "# 2\n",
    "import numpy as np\n",
    "mm = np.asarray(m)\n",
    "for k in range(len(lst1)):\n",
    "    if np.max(mm[lst1[k]:lst1[k]+lst3[k],lst2[k]:lst2[k]+lst4[k]])==1:\n",
    "        print(lst[k])"
   ]
  },
  {
   "cell_type": "code",
   "execution_count": null,
   "metadata": {},
   "outputs": [],
   "source": []
  },
  {
   "cell_type": "markdown",
   "metadata": {},
   "source": [
    "# Day 4"
   ]
  },
  {
   "cell_type": "code",
   "execution_count": 2,
   "metadata": {},
   "outputs": [
    {
     "data": {
      "text/plain": [
       "['[1518-08-08 00:45] falls asleep',\n",
       " '[1518-05-02 00:52] falls asleep',\n",
       " '[1518-05-07 00:56] wakes up',\n",
       " '[1518-08-18 00:06] falls asleep',\n",
       " '[1518-11-11 00:04] Guard #2179 begins shift']"
      ]
     },
     "execution_count": 2,
     "metadata": {},
     "output_type": "execute_result"
    }
   ],
   "source": [
    "# 1\n",
    "url = 'https://adventofcode.com/2018/day/4/input'\n",
    "r = requests.post(url, cookies=cookie)\n",
    "inp = r.text\n",
    "lst = inp.split('\\n')[:-1]\n",
    "lst[:5]"
   ]
  },
  {
   "cell_type": "code",
   "execution_count": 3,
   "metadata": {},
   "outputs": [
    {
     "data": {
      "text/html": [
       "<div>\n",
       "<style scoped>\n",
       "    .dataframe tbody tr th:only-of-type {\n",
       "        vertical-align: middle;\n",
       "    }\n",
       "\n",
       "    .dataframe tbody tr th {\n",
       "        vertical-align: top;\n",
       "    }\n",
       "\n",
       "    .dataframe thead th {\n",
       "        text-align: right;\n",
       "    }\n",
       "</style>\n",
       "<table border=\"1\" class=\"dataframe\">\n",
       "  <thead>\n",
       "    <tr style=\"text-align: right;\">\n",
       "      <th></th>\n",
       "      <th>time</th>\n",
       "      <th>action</th>\n",
       "    </tr>\n",
       "  </thead>\n",
       "  <tbody>\n",
       "    <tr>\n",
       "      <th>0</th>\n",
       "      <td>1518-08-08 00:45</td>\n",
       "      <td>falls asleep</td>\n",
       "    </tr>\n",
       "    <tr>\n",
       "      <th>1</th>\n",
       "      <td>1518-05-02 00:52</td>\n",
       "      <td>falls asleep</td>\n",
       "    </tr>\n",
       "    <tr>\n",
       "      <th>2</th>\n",
       "      <td>1518-05-07 00:56</td>\n",
       "      <td>wakes up</td>\n",
       "    </tr>\n",
       "    <tr>\n",
       "      <th>3</th>\n",
       "      <td>1518-08-18 00:06</td>\n",
       "      <td>falls asleep</td>\n",
       "    </tr>\n",
       "    <tr>\n",
       "      <th>4</th>\n",
       "      <td>1518-11-11 00:04</td>\n",
       "      <td>Guard #2179 begins shift</td>\n",
       "    </tr>\n",
       "  </tbody>\n",
       "</table>\n",
       "</div>"
      ],
      "text/plain": [
       "               time                    action\n",
       "0  1518-08-08 00:45              falls asleep\n",
       "1  1518-05-02 00:52              falls asleep\n",
       "2  1518-05-07 00:56                  wakes up\n",
       "3  1518-08-18 00:06              falls asleep\n",
       "4  1518-11-11 00:04  Guard #2179 begins shift"
      ]
     },
     "execution_count": 3,
     "metadata": {},
     "output_type": "execute_result"
    }
   ],
   "source": [
    "import pandas as pd\n",
    "\n",
    "lst_new = [x.split('[')[1].split('] ') for x  in lst]\n",
    "df = pd.DataFrame(lst_new)\n",
    "df.columns = ['time', 'action']\n",
    "df.head()"
   ]
  },
  {
   "cell_type": "code",
   "execution_count": 4,
   "metadata": {},
   "outputs": [
    {
     "data": {
      "text/html": [
       "<div>\n",
       "<style scoped>\n",
       "    .dataframe tbody tr th:only-of-type {\n",
       "        vertical-align: middle;\n",
       "    }\n",
       "\n",
       "    .dataframe tbody tr th {\n",
       "        vertical-align: top;\n",
       "    }\n",
       "\n",
       "    .dataframe thead th {\n",
       "        text-align: right;\n",
       "    }\n",
       "</style>\n",
       "<table border=\"1\" class=\"dataframe\">\n",
       "  <thead>\n",
       "    <tr style=\"text-align: right;\">\n",
       "      <th></th>\n",
       "      <th>time</th>\n",
       "      <th>action</th>\n",
       "    </tr>\n",
       "  </thead>\n",
       "  <tbody>\n",
       "    <tr>\n",
       "      <th>292</th>\n",
       "      <td>1518-02-10 23:47:00</td>\n",
       "      <td>Guard #631 begins shift</td>\n",
       "    </tr>\n",
       "    <tr>\n",
       "      <th>465</th>\n",
       "      <td>1518-02-11 00:03:00</td>\n",
       "      <td>falls asleep</td>\n",
       "    </tr>\n",
       "    <tr>\n",
       "      <th>1002</th>\n",
       "      <td>1518-02-11 00:19:00</td>\n",
       "      <td>wakes up</td>\n",
       "    </tr>\n",
       "    <tr>\n",
       "      <th>31</th>\n",
       "      <td>1518-02-12 00:03:00</td>\n",
       "      <td>Guard #983 begins shift</td>\n",
       "    </tr>\n",
       "    <tr>\n",
       "      <th>1067</th>\n",
       "      <td>1518-02-12 00:09:00</td>\n",
       "      <td>falls asleep</td>\n",
       "    </tr>\n",
       "  </tbody>\n",
       "</table>\n",
       "</div>"
      ],
      "text/plain": [
       "                     time                   action\n",
       "292   1518-02-10 23:47:00  Guard #631 begins shift\n",
       "465   1518-02-11 00:03:00             falls asleep\n",
       "1002  1518-02-11 00:19:00                 wakes up\n",
       "31    1518-02-12 00:03:00  Guard #983 begins shift\n",
       "1067  1518-02-12 00:09:00             falls asleep"
      ]
     },
     "execution_count": 4,
     "metadata": {},
     "output_type": "execute_result"
    }
   ],
   "source": [
    "import datetime as dt\n",
    "df['time'] = df['time'].apply(lambda x: \n",
    "                                    dt.datetime.strptime(x,'%Y-%m-%d %H:%M'))\n",
    "df = df.sort_values(['time'])\n",
    "df.head()"
   ]
  },
  {
   "cell_type": "code",
   "execution_count": 5,
   "metadata": {},
   "outputs": [
    {
     "name": "stdout",
     "output_type": "stream",
     "text": [
      "Answer1 =  30630\n"
     ]
    }
   ],
   "source": [
    "res = []\n",
    "for i in range(len(df)):\n",
    "    act = df.action.iloc[i] \n",
    "    if act not in ['falls asleep','wakes up']:\n",
    "        g = act.split('#')[1].split(' ')[0]\n",
    "    \n",
    "    elif act == 'falls asleep':\n",
    "        t1 = df.time.iloc[i].minute\n",
    "    elif act == 'wakes up':\n",
    "        t2 = df.time.iloc[i].minute\n",
    "        for ts in range(t1,t2):\n",
    "            res.append([g,ts])\n",
    "            \n",
    "df_res= pd.DataFrame(res)\n",
    "df_res.columns = ['guard', 'time']\n",
    "most_guard = df_res.groupby('guard').count().sort_values(['time'],ascending=False).head(1).index[0]\n",
    "most_minutes = df_res[df_res['guard']==most_guard].groupby('time').count().sort_values(['guard'],ascending=False).head(1).index[0]\n",
    "print('Answer1 = ', int(most_guard)*most_minutes)"
   ]
  },
  {
   "cell_type": "code",
   "execution_count": 6,
   "metadata": {},
   "outputs": [
    {
     "name": "stdout",
     "output_type": "stream",
     "text": [
      "Answer2 =  136571\n"
     ]
    }
   ],
   "source": [
    "# 2\n",
    "df_res['col'] = 1\n",
    "a,b = df_res.groupby(['guard','time']).count().sort_values(['col'],ascending=False).head(1).index[0]\n",
    "print('Answer2 = ',int(a)*b)"
   ]
  },
  {
   "cell_type": "code",
   "execution_count": null,
   "metadata": {},
   "outputs": [],
   "source": []
  },
  {
   "cell_type": "markdown",
   "metadata": {},
   "source": [
    "# Day 5"
   ]
  },
  {
   "cell_type": "code",
   "execution_count": 3,
   "metadata": {},
   "outputs": [],
   "source": [
    "# 1\n",
    "url = 'https://adventofcode.com/2018/day/5/input'\n",
    "r = requests.post(url, cookies=cookie)\n",
    "inp = r.text\n",
    "lst = inp.split('\\n')[:-1]"
   ]
  },
  {
   "cell_type": "code",
   "execution_count": 30,
   "metadata": {},
   "outputs": [],
   "source": [
    "def react(s):\n",
    "    flag = False\n",
    "    s_new = ''\n",
    "    for i in range(0,len(s)):\n",
    "        if flag:\n",
    "            flag = False\n",
    "            continue    \n",
    "        elif i == len(s)-1:\n",
    "            s_new += s[i]\n",
    "        elif s[i].lower()==s[i+1].lower() and s[i]!=s[i+1]:\n",
    "            flag = True\n",
    "            continue\n",
    "        else:\n",
    "            s_new += s[i]\n",
    "    return s_new"
   ]
  },
  {
   "cell_type": "code",
   "execution_count": 33,
   "metadata": {},
   "outputs": [
    {
     "name": "stdout",
     "output_type": "stream",
     "text": [
      "11310\n"
     ]
    }
   ],
   "source": [
    "s = lst[0]\n",
    "while True:\n",
    "    s_new = react(s)\n",
    "    if s == s_new:\n",
    "        print(len(s_new))\n",
    "        break\n",
    "    else:\n",
    "        s = s_new"
   ]
  },
  {
   "cell_type": "code",
   "execution_count": 41,
   "metadata": {},
   "outputs": [
    {
     "name": "stdout",
     "output_type": "stream",
     "text": [
      "6020\n"
     ]
    }
   ],
   "source": [
    "#2\n",
    "import string\n",
    "minval = len(s)\n",
    "for i in string.ascii_lowercase:\n",
    "    s = lst[0]\n",
    "    s = s.replace(i,'')\n",
    "    s = s.replace(i.upper(),'')\n",
    "    while True:\n",
    "        s_new = react(s)\n",
    "        if s == s_new:\n",
    "            if len(s_new)<minval:\n",
    "                minval = len(s_new)\n",
    "            break\n",
    "        else:\n",
    "            s = s_new\n",
    "print(minval)"
   ]
  },
  {
   "cell_type": "code",
   "execution_count": null,
   "metadata": {},
   "outputs": [],
   "source": []
  },
  {
   "cell_type": "markdown",
   "metadata": {},
   "source": [
    "# Day 6"
   ]
  },
  {
   "cell_type": "code",
   "execution_count": 7,
   "metadata": {},
   "outputs": [],
   "source": [
    "# 1\n",
    "url = 'https://adventofcode.com/2018/day/6/input'\n",
    "r = requests.post(url, cookies=cookie)\n",
    "inp = r.text\n",
    "lst = inp.split('\\n')[:-1]"
   ]
  },
  {
   "cell_type": "code",
   "execution_count": 18,
   "metadata": {},
   "outputs": [
    {
     "name": "stdout",
     "output_type": "stream",
     "text": [
      "46 352 47 359\n",
      "0 306 0 312\n"
     ]
    }
   ],
   "source": [
    "x = [int(i.split(',')[0]) for i in lst]\n",
    "y = [int(i.split(' ')[1]) for i in lst]\n",
    "print(min(x), max(x), min(y), max(y))\n",
    "x = [i-min(x) for i in x]\n",
    "y = [i-min(y) for i in y]\n",
    "print(min(x), max(x), min(y), max(y))"
   ]
  },
  {
   "cell_type": "code",
   "execution_count": 57,
   "metadata": {},
   "outputs": [],
   "source": [
    "def mdist(x1,y1,x2,y2):\n",
    "    return abs(x1-x2)+abs(y1-y2)"
   ]
  },
  {
   "cell_type": "code",
   "execution_count": 58,
   "metadata": {},
   "outputs": [],
   "source": [
    "main = []\n",
    "k = 0\n",
    "for i in zip(x,y):\n",
    "    main.append([k,i[0],i[1]])\n",
    "    k+=1"
   ]
  },
  {
   "cell_type": "code",
   "execution_count": 64,
   "metadata": {},
   "outputs": [],
   "source": [
    "main_dict = {}\n",
    "\n",
    "def findmin(x,y, main):\n",
    "    res =  1e3\n",
    "    for i in range(len(main)):\n",
    "        t = mdist(x,y,main[i][1],main[i][2])\n",
    "        if t<res:\n",
    "            res = t\n",
    "            count = 0\n",
    "            point = main[i][0]\n",
    "        elif t==res:\n",
    "            count+=1\n",
    "    if count>0:\n",
    "        point = -1\n",
    "    return point\n",
    "\n",
    "\n",
    "for i in range(max(x)):\n",
    "    for j in range(max(y)):\n",
    "        main_dict[(i,j)]=findmin(i,j,main) "
   ]
  },
  {
   "cell_type": "code",
   "execution_count": 77,
   "metadata": {},
   "outputs": [
    {
     "data": {
      "text/plain": [
       "[49, 11, 44, 1]"
      ]
     },
     "execution_count": 77,
     "metadata": {},
     "output_type": "execute_result"
    }
   ],
   "source": [
    "infinitePoints = []\n",
    "for i in [0, max(x)-1]:\n",
    "    for j in [0,max(y)-1]:\n",
    "        infinitePoints.append(main_dict[(i,j)])\n",
    "infinitePoints = list(set(infinitePoints))\n",
    "infinitePoints"
   ]
  },
  {
   "cell_type": "code",
   "execution_count": 93,
   "metadata": {},
   "outputs": [
    {
     "data": {
      "text/html": [
       "<div>\n",
       "<style scoped>\n",
       "    .dataframe tbody tr th:only-of-type {\n",
       "        vertical-align: middle;\n",
       "    }\n",
       "\n",
       "    .dataframe tbody tr th {\n",
       "        vertical-align: top;\n",
       "    }\n",
       "\n",
       "    .dataframe thead th {\n",
       "        text-align: right;\n",
       "    }\n",
       "</style>\n",
       "<table border=\"1\" class=\"dataframe\">\n",
       "  <thead>\n",
       "    <tr style=\"text-align: right;\">\n",
       "      <th></th>\n",
       "      <th>index</th>\n",
       "    </tr>\n",
       "    <tr>\n",
       "      <th>points</th>\n",
       "      <th></th>\n",
       "    </tr>\n",
       "  </thead>\n",
       "  <tbody>\n",
       "    <tr>\n",
       "      <th>27</th>\n",
       "      <td>5804</td>\n",
       "    </tr>\n",
       "    <tr>\n",
       "      <th>-1</th>\n",
       "      <td>3787</td>\n",
       "    </tr>\n",
       "    <tr>\n",
       "      <th>28</th>\n",
       "      <td>3449</td>\n",
       "    </tr>\n",
       "    <tr>\n",
       "      <th>39</th>\n",
       "      <td>3367</td>\n",
       "    </tr>\n",
       "    <tr>\n",
       "      <th>41</th>\n",
       "      <td>3254</td>\n",
       "    </tr>\n",
       "    <tr>\n",
       "      <th>5</th>\n",
       "      <td>3186</td>\n",
       "    </tr>\n",
       "    <tr>\n",
       "      <th>48</th>\n",
       "      <td>3077</td>\n",
       "    </tr>\n",
       "    <tr>\n",
       "      <th>31</th>\n",
       "      <td>3068</td>\n",
       "    </tr>\n",
       "    <tr>\n",
       "      <th>49</th>\n",
       "      <td>2890</td>\n",
       "    </tr>\n",
       "    <tr>\n",
       "      <th>7</th>\n",
       "      <td>2842</td>\n",
       "    </tr>\n",
       "    <tr>\n",
       "      <th>38</th>\n",
       "      <td>2840</td>\n",
       "    </tr>\n",
       "    <tr>\n",
       "      <th>8</th>\n",
       "      <td>2829</td>\n",
       "    </tr>\n",
       "    <tr>\n",
       "      <th>4</th>\n",
       "      <td>2488</td>\n",
       "    </tr>\n",
       "    <tr>\n",
       "      <th>17</th>\n",
       "      <td>2453</td>\n",
       "    </tr>\n",
       "    <tr>\n",
       "      <th>19</th>\n",
       "      <td>2388</td>\n",
       "    </tr>\n",
       "    <tr>\n",
       "      <th>1</th>\n",
       "      <td>2216</td>\n",
       "    </tr>\n",
       "    <tr>\n",
       "      <th>9</th>\n",
       "      <td>2164</td>\n",
       "    </tr>\n",
       "    <tr>\n",
       "      <th>44</th>\n",
       "      <td>2127</td>\n",
       "    </tr>\n",
       "    <tr>\n",
       "      <th>13</th>\n",
       "      <td>2086</td>\n",
       "    </tr>\n",
       "    <tr>\n",
       "      <th>15</th>\n",
       "      <td>2030</td>\n",
       "    </tr>\n",
       "    <tr>\n",
       "      <th>21</th>\n",
       "      <td>2019</td>\n",
       "    </tr>\n",
       "    <tr>\n",
       "      <th>34</th>\n",
       "      <td>1895</td>\n",
       "    </tr>\n",
       "    <tr>\n",
       "      <th>40</th>\n",
       "      <td>1801</td>\n",
       "    </tr>\n",
       "    <tr>\n",
       "      <th>6</th>\n",
       "      <td>1791</td>\n",
       "    </tr>\n",
       "    <tr>\n",
       "      <th>20</th>\n",
       "      <td>1786</td>\n",
       "    </tr>\n",
       "    <tr>\n",
       "      <th>3</th>\n",
       "      <td>1704</td>\n",
       "    </tr>\n",
       "    <tr>\n",
       "      <th>30</th>\n",
       "      <td>1697</td>\n",
       "    </tr>\n",
       "    <tr>\n",
       "      <th>37</th>\n",
       "      <td>1690</td>\n",
       "    </tr>\n",
       "    <tr>\n",
       "      <th>29</th>\n",
       "      <td>1612</td>\n",
       "    </tr>\n",
       "    <tr>\n",
       "      <th>16</th>\n",
       "      <td>1555</td>\n",
       "    </tr>\n",
       "    <tr>\n",
       "      <th>35</th>\n",
       "      <td>1525</td>\n",
       "    </tr>\n",
       "    <tr>\n",
       "      <th>10</th>\n",
       "      <td>1438</td>\n",
       "    </tr>\n",
       "    <tr>\n",
       "      <th>25</th>\n",
       "      <td>1412</td>\n",
       "    </tr>\n",
       "    <tr>\n",
       "      <th>14</th>\n",
       "      <td>1407</td>\n",
       "    </tr>\n",
       "    <tr>\n",
       "      <th>43</th>\n",
       "      <td>1396</td>\n",
       "    </tr>\n",
       "    <tr>\n",
       "      <th>22</th>\n",
       "      <td>1213</td>\n",
       "    </tr>\n",
       "    <tr>\n",
       "      <th>11</th>\n",
       "      <td>1196</td>\n",
       "    </tr>\n",
       "    <tr>\n",
       "      <th>32</th>\n",
       "      <td>1031</td>\n",
       "    </tr>\n",
       "    <tr>\n",
       "      <th>45</th>\n",
       "      <td>972</td>\n",
       "    </tr>\n",
       "    <tr>\n",
       "      <th>47</th>\n",
       "      <td>958</td>\n",
       "    </tr>\n",
       "    <tr>\n",
       "      <th>2</th>\n",
       "      <td>934</td>\n",
       "    </tr>\n",
       "    <tr>\n",
       "      <th>23</th>\n",
       "      <td>917</td>\n",
       "    </tr>\n",
       "    <tr>\n",
       "      <th>33</th>\n",
       "      <td>856</td>\n",
       "    </tr>\n",
       "    <tr>\n",
       "      <th>12</th>\n",
       "      <td>835</td>\n",
       "    </tr>\n",
       "    <tr>\n",
       "      <th>24</th>\n",
       "      <td>800</td>\n",
       "    </tr>\n",
       "    <tr>\n",
       "      <th>18</th>\n",
       "      <td>749</td>\n",
       "    </tr>\n",
       "    <tr>\n",
       "      <th>36</th>\n",
       "      <td>528</td>\n",
       "    </tr>\n",
       "    <tr>\n",
       "      <th>46</th>\n",
       "      <td>486</td>\n",
       "    </tr>\n",
       "    <tr>\n",
       "      <th>0</th>\n",
       "      <td>459</td>\n",
       "    </tr>\n",
       "    <tr>\n",
       "      <th>42</th>\n",
       "      <td>424</td>\n",
       "    </tr>\n",
       "    <tr>\n",
       "      <th>26</th>\n",
       "      <td>41</td>\n",
       "    </tr>\n",
       "  </tbody>\n",
       "</table>\n",
       "</div>"
      ],
      "text/plain": [
       "        index\n",
       "points       \n",
       " 27      5804\n",
       "-1       3787\n",
       " 28      3449\n",
       " 39      3367\n",
       " 41      3254\n",
       " 5       3186\n",
       " 48      3077\n",
       " 31      3068\n",
       " 49      2890\n",
       " 7       2842\n",
       " 38      2840\n",
       " 8       2829\n",
       " 4       2488\n",
       " 17      2453\n",
       " 19      2388\n",
       " 1       2216\n",
       " 9       2164\n",
       " 44      2127\n",
       " 13      2086\n",
       " 15      2030\n",
       " 21      2019\n",
       " 34      1895\n",
       " 40      1801\n",
       " 6       1791\n",
       " 20      1786\n",
       " 3       1704\n",
       " 30      1697\n",
       " 37      1690\n",
       " 29      1612\n",
       " 16      1555\n",
       " 35      1525\n",
       " 10      1438\n",
       " 25      1412\n",
       " 14      1407\n",
       " 43      1396\n",
       " 22      1213\n",
       " 11      1196\n",
       " 32      1031\n",
       " 45       972\n",
       " 47       958\n",
       " 2        934\n",
       " 23       917\n",
       " 33       856\n",
       " 12       835\n",
       " 24       800\n",
       " 18       749\n",
       " 36       528\n",
       " 46       486\n",
       " 0        459\n",
       " 42       424\n",
       " 26        41"
      ]
     },
     "execution_count": 93,
     "metadata": {},
     "output_type": "execute_result"
    }
   ],
   "source": [
    "main_pd = pd.DataFrame(list(main_dict.values()),columns = ['points']).reset_index()\n",
    "main_pd\n",
    "main_pd.groupby('points').count().sort_values('index', ascending=False)"
   ]
  },
  {
   "cell_type": "code",
   "execution_count": null,
   "metadata": {},
   "outputs": [],
   "source": [
    "i"
   ]
  }
 ],
 "metadata": {
  "kernelspec": {
   "display_name": "Python 3",
   "language": "python",
   "name": "python3"
  },
  "language_info": {
   "codemirror_mode": {
    "name": "ipython",
    "version": 3
   },
   "file_extension": ".py",
   "mimetype": "text/x-python",
   "name": "python",
   "nbconvert_exporter": "python",
   "pygments_lexer": "ipython3",
   "version": "3.6.6"
  }
 },
 "nbformat": 4,
 "nbformat_minor": 2
}
