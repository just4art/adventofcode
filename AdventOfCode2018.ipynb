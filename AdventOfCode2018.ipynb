{
 "cells": [
  {
   "cell_type": "code",
   "execution_count": 1,
   "metadata": {},
   "outputs": [],
   "source": [
    "# copy cookie from adventofcode.com to cookie.txt to get inputs\n",
    "import requests\n",
    "c = open('cookie.txt').readline()\n",
    "cookie = {'session': c[:-1]}"
   ]
  },
  {
   "cell_type": "markdown",
   "metadata": {},
   "source": [
    "# Day 1"
   ]
  },
  {
   "cell_type": "code",
   "execution_count": 2,
   "metadata": {},
   "outputs": [],
   "source": [
    "#1\n",
    "url = 'https://adventofcode.com/2018/day/1/input'\n",
    "r = requests.post(url, cookies=cookie)\n",
    "inp = r.text"
   ]
  },
  {
   "cell_type": "code",
   "execution_count": 3,
   "metadata": {},
   "outputs": [
    {
     "data": {
      "text/plain": [
       "599"
      ]
     },
     "execution_count": 3,
     "metadata": {},
     "output_type": "execute_result"
    }
   ],
   "source": [
    "t = [int(i[1:]) if i[0]=='+' else int(i) for i in inp.split('\\n')[:-1]]\n",
    "sum(t)"
   ]
  },
  {
   "cell_type": "code",
   "execution_count": 4,
   "metadata": {},
   "outputs": [
    {
     "name": "stdout",
     "output_type": "stream",
     "text": [
      "81204\n"
     ]
    }
   ],
   "source": [
    "#2\n",
    "c = 0 \n",
    "s = []\n",
    "flag = False\n",
    "while True:\n",
    "    for i in t:\n",
    "        c += i\n",
    "        if c in s:\n",
    "            print(c)\n",
    "            flag = True\n",
    "            break\n",
    "        s.append(c)\n",
    "    if flag:\n",
    "        break"
   ]
  },
  {
   "cell_type": "markdown",
   "metadata": {},
   "source": [
    "# Day 2"
   ]
  },
  {
   "cell_type": "code",
   "execution_count": 5,
   "metadata": {},
   "outputs": [],
   "source": [
    "# 1\n",
    "url = 'https://adventofcode.com/2018/day/2/input'\n",
    "r = requests.post(url, cookies=cookie)\n",
    "inp = r.text"
   ]
  },
  {
   "cell_type": "code",
   "execution_count": 6,
   "metadata": {},
   "outputs": [
    {
     "name": "stdout",
     "output_type": "stream",
     "text": [
      "8296\n"
     ]
    }
   ],
   "source": [
    "lst = inp.split('\\n')[:-1]\n",
    "tmp2 = {}\n",
    "for i in lst:\n",
    "    tmp1 = {}\n",
    "    for j in i:\n",
    "        if j in tmp1:\n",
    "            tmp1[j] += 1\n",
    "        else:\n",
    "            tmp1[j] = 1\n",
    "    for k in list(set(tmp1.values())):\n",
    "        if k in tmp2:\n",
    "            tmp2[k] +=1\n",
    "        else:\n",
    "            tmp2[k] = 1\n",
    "\n",
    "res = 1  \n",
    "del tmp2[1]\n",
    "for l in tmp2.values():\n",
    "    res*=l\n",
    "print(res)"
   ]
  },
  {
   "cell_type": "code",
   "execution_count": 7,
   "metadata": {
    "scrolled": true
   },
   "outputs": [
    {
     "name": "stdout",
     "output_type": "stream",
     "text": [
      "25 pazvmqbfjtrbeosiecxlghkwud pazvmqbfotrbeosiecxlghkwud\n",
      "pazvmqbftrbeosiecxlghkwud\n"
     ]
    }
   ],
   "source": [
    "# 2\n",
    "def findSimilarity(l1,l2):\n",
    "    s = 0\n",
    "    for i in zip(l1,l2):\n",
    "        if i[0]==i[1]:\n",
    "            s+=1\n",
    "    return s\n",
    "\n",
    "def simletters(l1,l2):\n",
    "    s = ''\n",
    "    for i in zip(l1,l2):\n",
    "        if i[0]==i[1]:\n",
    "            s+=i[0]\n",
    "    return s\n",
    "\n",
    "m = 0\n",
    "k1, k2 = 0,0\n",
    "\n",
    "for i in range(len(lst)-1):\n",
    "    for j in range(i+1, len(lst)):\n",
    "        tmp = findSimilarity(lst[i],lst[j])\n",
    "        if tmp>m:\n",
    "            k1,k2 = i,j\n",
    "            m = tmp\n",
    "            \n",
    "print(m,lst[k1],lst[k2])\n",
    "print(simletters(lst[k1],lst[k2]))"
   ]
  },
  {
   "cell_type": "markdown",
   "metadata": {},
   "source": [
    "# Day 3"
   ]
  },
  {
   "cell_type": "code",
   "execution_count": 8,
   "metadata": {},
   "outputs": [
    {
     "data": {
      "text/plain": [
       "'#133 @ 305,659: 21x28'"
      ]
     },
     "execution_count": 8,
     "metadata": {},
     "output_type": "execute_result"
    }
   ],
   "source": [
    "# 1\n",
    "url = 'https://adventofcode.com/2018/day/3/input'\n",
    "r = requests.post(url, cookies=cookie)\n",
    "inp = r.text\n",
    "lst = inp.split('\\n')[:-1]\n",
    "lst[132]"
   ]
  },
  {
   "cell_type": "code",
   "execution_count": 9,
   "metadata": {},
   "outputs": [
    {
     "name": "stdout",
     "output_type": "stream",
     "text": [
      "117948\n"
     ]
    }
   ],
   "source": [
    "lst1 = [int(x.split('@ ')[1].split(',')[0]) for x in lst]\n",
    "lst2 = [int(x.split(',')[1].split(':')[0]) for x in lst]\n",
    "lst3 = [int(x.split(': ')[1].split('x')[0]) for x in lst]\n",
    "lst4 = [int(x.split('x')[1]) for x in lst]\n",
    "\n",
    "\n",
    "s = []\n",
    "for i in zip(lst1,lst3):\n",
    "    s.append(sum(i))\n",
    "max_h = max(s)\n",
    "\n",
    "s = []\n",
    "for i in zip(lst2,lst4):\n",
    "    s.append(sum(i))\n",
    "max_w = max(s)\n",
    "\n",
    "m = [[0]*max_w for i in range(max_h)]\n",
    "for i in range(len(lst1)):\n",
    "    for j in range(lst1[i],lst1[i]+lst3[i]):\n",
    "        for k in range(lst2[i],lst2[i]+lst4[i]):\n",
    "            m[j][k] += 1\n",
    "            \n",
    "s = 0\n",
    "for i in m:\n",
    "    for j in i:\n",
    "        if j>1:\n",
    "            s+=1\n",
    "print(s)"
   ]
  },
  {
   "cell_type": "code",
   "execution_count": 10,
   "metadata": {},
   "outputs": [
    {
     "name": "stdout",
     "output_type": "stream",
     "text": [
      "#567 @ 370,732: 23x19\n"
     ]
    }
   ],
   "source": [
    "# 2\n",
    "import numpy as np\n",
    "mm = np.asarray(m)\n",
    "for k in range(len(lst1)):\n",
    "    if np.max(mm[lst1[k]:lst1[k]+lst3[k],lst2[k]:lst2[k]+lst4[k]])==1:\n",
    "        print(lst[k])"
   ]
  },
  {
   "cell_type": "code",
   "execution_count": null,
   "metadata": {},
   "outputs": [],
   "source": []
  },
  {
   "cell_type": "markdown",
   "metadata": {},
   "source": [
    "# Day 4"
   ]
  },
  {
   "cell_type": "code",
   "execution_count": 2,
   "metadata": {},
   "outputs": [
    {
     "data": {
      "text/plain": [
       "['[1518-08-08 00:45] falls asleep',\n",
       " '[1518-05-02 00:52] falls asleep',\n",
       " '[1518-05-07 00:56] wakes up',\n",
       " '[1518-08-18 00:06] falls asleep',\n",
       " '[1518-11-11 00:04] Guard #2179 begins shift']"
      ]
     },
     "execution_count": 2,
     "metadata": {},
     "output_type": "execute_result"
    }
   ],
   "source": [
    "# 1\n",
    "url = 'https://adventofcode.com/2018/day/4/input'\n",
    "r = requests.post(url, cookies=cookie)\n",
    "inp = r.text\n",
    "lst = inp.split('\\n')[:-1]\n",
    "lst[:5]"
   ]
  },
  {
   "cell_type": "code",
   "execution_count": 3,
   "metadata": {},
   "outputs": [
    {
     "data": {
      "text/html": [
       "<div>\n",
       "<style scoped>\n",
       "    .dataframe tbody tr th:only-of-type {\n",
       "        vertical-align: middle;\n",
       "    }\n",
       "\n",
       "    .dataframe tbody tr th {\n",
       "        vertical-align: top;\n",
       "    }\n",
       "\n",
       "    .dataframe thead th {\n",
       "        text-align: right;\n",
       "    }\n",
       "</style>\n",
       "<table border=\"1\" class=\"dataframe\">\n",
       "  <thead>\n",
       "    <tr style=\"text-align: right;\">\n",
       "      <th></th>\n",
       "      <th>time</th>\n",
       "      <th>action</th>\n",
       "    </tr>\n",
       "  </thead>\n",
       "  <tbody>\n",
       "    <tr>\n",
       "      <th>0</th>\n",
       "      <td>1518-08-08 00:45</td>\n",
       "      <td>falls asleep</td>\n",
       "    </tr>\n",
       "    <tr>\n",
       "      <th>1</th>\n",
       "      <td>1518-05-02 00:52</td>\n",
       "      <td>falls asleep</td>\n",
       "    </tr>\n",
       "    <tr>\n",
       "      <th>2</th>\n",
       "      <td>1518-05-07 00:56</td>\n",
       "      <td>wakes up</td>\n",
       "    </tr>\n",
       "    <tr>\n",
       "      <th>3</th>\n",
       "      <td>1518-08-18 00:06</td>\n",
       "      <td>falls asleep</td>\n",
       "    </tr>\n",
       "    <tr>\n",
       "      <th>4</th>\n",
       "      <td>1518-11-11 00:04</td>\n",
       "      <td>Guard #2179 begins shift</td>\n",
       "    </tr>\n",
       "  </tbody>\n",
       "</table>\n",
       "</div>"
      ],
      "text/plain": [
       "               time                    action\n",
       "0  1518-08-08 00:45              falls asleep\n",
       "1  1518-05-02 00:52              falls asleep\n",
       "2  1518-05-07 00:56                  wakes up\n",
       "3  1518-08-18 00:06              falls asleep\n",
       "4  1518-11-11 00:04  Guard #2179 begins shift"
      ]
     },
     "execution_count": 3,
     "metadata": {},
     "output_type": "execute_result"
    }
   ],
   "source": [
    "import pandas as pd\n",
    "\n",
    "lst_new = [x.split('[')[1].split('] ') for x  in lst]\n",
    "df = pd.DataFrame(lst_new)\n",
    "df.columns = ['time', 'action']\n",
    "df.head()"
   ]
  },
  {
   "cell_type": "code",
   "execution_count": 4,
   "metadata": {},
   "outputs": [
    {
     "data": {
      "text/html": [
       "<div>\n",
       "<style scoped>\n",
       "    .dataframe tbody tr th:only-of-type {\n",
       "        vertical-align: middle;\n",
       "    }\n",
       "\n",
       "    .dataframe tbody tr th {\n",
       "        vertical-align: top;\n",
       "    }\n",
       "\n",
       "    .dataframe thead th {\n",
       "        text-align: right;\n",
       "    }\n",
       "</style>\n",
       "<table border=\"1\" class=\"dataframe\">\n",
       "  <thead>\n",
       "    <tr style=\"text-align: right;\">\n",
       "      <th></th>\n",
       "      <th>time</th>\n",
       "      <th>action</th>\n",
       "    </tr>\n",
       "  </thead>\n",
       "  <tbody>\n",
       "    <tr>\n",
       "      <th>292</th>\n",
       "      <td>1518-02-10 23:47:00</td>\n",
       "      <td>Guard #631 begins shift</td>\n",
       "    </tr>\n",
       "    <tr>\n",
       "      <th>465</th>\n",
       "      <td>1518-02-11 00:03:00</td>\n",
       "      <td>falls asleep</td>\n",
       "    </tr>\n",
       "    <tr>\n",
       "      <th>1002</th>\n",
       "      <td>1518-02-11 00:19:00</td>\n",
       "      <td>wakes up</td>\n",
       "    </tr>\n",
       "    <tr>\n",
       "      <th>31</th>\n",
       "      <td>1518-02-12 00:03:00</td>\n",
       "      <td>Guard #983 begins shift</td>\n",
       "    </tr>\n",
       "    <tr>\n",
       "      <th>1067</th>\n",
       "      <td>1518-02-12 00:09:00</td>\n",
       "      <td>falls asleep</td>\n",
       "    </tr>\n",
       "  </tbody>\n",
       "</table>\n",
       "</div>"
      ],
      "text/plain": [
       "                     time                   action\n",
       "292   1518-02-10 23:47:00  Guard #631 begins shift\n",
       "465   1518-02-11 00:03:00             falls asleep\n",
       "1002  1518-02-11 00:19:00                 wakes up\n",
       "31    1518-02-12 00:03:00  Guard #983 begins shift\n",
       "1067  1518-02-12 00:09:00             falls asleep"
      ]
     },
     "execution_count": 4,
     "metadata": {},
     "output_type": "execute_result"
    }
   ],
   "source": [
    "import datetime as dt\n",
    "df['time'] = df['time'].apply(lambda x: \n",
    "                                    dt.datetime.strptime(x,'%Y-%m-%d %H:%M'))\n",
    "df = df.sort_values(['time'])\n",
    "df.head()"
   ]
  },
  {
   "cell_type": "code",
   "execution_count": 5,
   "metadata": {},
   "outputs": [
    {
     "name": "stdout",
     "output_type": "stream",
     "text": [
      "Answer1 =  30630\n"
     ]
    }
   ],
   "source": [
    "res = []\n",
    "for i in range(len(df)):\n",
    "    act = df.action.iloc[i] \n",
    "    if act not in ['falls asleep','wakes up']:\n",
    "        g = act.split('#')[1].split(' ')[0]\n",
    "    \n",
    "    elif act == 'falls asleep':\n",
    "        t1 = df.time.iloc[i].minute\n",
    "    elif act == 'wakes up':\n",
    "        t2 = df.time.iloc[i].minute\n",
    "        for ts in range(t1,t2):\n",
    "            res.append([g,ts])\n",
    "            \n",
    "df_res= pd.DataFrame(res)\n",
    "df_res.columns = ['guard', 'time']\n",
    "most_guard = df_res.groupby('guard').count().sort_values(['time'],ascending=False).head(1).index[0]\n",
    "most_minutes = df_res[df_res['guard']==most_guard].groupby('time').count().sort_values(['guard'],ascending=False).head(1).index[0]\n",
    "print('Answer1 = ', int(most_guard)*most_minutes)"
   ]
  },
  {
   "cell_type": "code",
   "execution_count": 6,
   "metadata": {},
   "outputs": [
    {
     "name": "stdout",
     "output_type": "stream",
     "text": [
      "Answer2 =  136571\n"
     ]
    }
   ],
   "source": [
    "# 2\n",
    "df_res['col'] = 1\n",
    "a,b = df_res.groupby(['guard','time']).count().sort_values(['col'],ascending=False).head(1).index[0]\n",
    "print('Answer2 = ',int(a)*b)"
   ]
  },
  {
   "cell_type": "code",
   "execution_count": null,
   "metadata": {},
   "outputs": [],
   "source": []
  },
  {
   "cell_type": "markdown",
   "metadata": {},
   "source": [
    "# Day 5"
   ]
  },
  {
   "cell_type": "code",
   "execution_count": 2,
   "metadata": {},
   "outputs": [],
   "source": [
    "# 1\n",
    "url = 'https://adventofcode.com/2018/day/5/input'\n",
    "r = requests.post(url, cookies=cookie)\n",
    "inp = r.text\n",
    "lst = inp.split('\\n')[:-1]"
   ]
  },
  {
   "cell_type": "code",
   "execution_count": 3,
   "metadata": {},
   "outputs": [],
   "source": [
    "def react(s):\n",
    "    flag = False\n",
    "    s_new = ''\n",
    "    for i in range(0,len(s)):\n",
    "        if flag:\n",
    "            flag = False\n",
    "            continue    \n",
    "        elif i == len(s)-1:\n",
    "            s_new += s[i]\n",
    "        elif s[i].lower()==s[i+1].lower() and s[i]!=s[i+1]:\n",
    "            flag = True\n",
    "            continue\n",
    "        else:\n",
    "            s_new += s[i]\n",
    "    return s_new"
   ]
  },
  {
   "cell_type": "code",
   "execution_count": 4,
   "metadata": {},
   "outputs": [
    {
     "name": "stdout",
     "output_type": "stream",
     "text": [
      "11310\n"
     ]
    }
   ],
   "source": [
    "s = lst[0]\n",
    "while True:\n",
    "    s_new = react(s)\n",
    "    if s == s_new:\n",
    "        print(len(s_new))\n",
    "        break\n",
    "    else:\n",
    "        s = s_new"
   ]
  },
  {
   "cell_type": "code",
   "execution_count": 5,
   "metadata": {},
   "outputs": [
    {
     "name": "stdout",
     "output_type": "stream",
     "text": [
      "6020\n"
     ]
    }
   ],
   "source": [
    "#2\n",
    "import string\n",
    "minval = len(s)\n",
    "for i in string.ascii_lowercase:\n",
    "    s = lst[0]\n",
    "    s = s.replace(i,'')\n",
    "    s = s.replace(i.upper(),'')\n",
    "    while True:\n",
    "        s_new = react(s)\n",
    "        if s == s_new:\n",
    "            if len(s_new)<minval:\n",
    "                minval = len(s_new)\n",
    "            break\n",
    "        else:\n",
    "            s = s_new\n",
    "print(minval)"
   ]
  },
  {
   "cell_type": "code",
   "execution_count": null,
   "metadata": {},
   "outputs": [],
   "source": []
  },
  {
   "cell_type": "markdown",
   "metadata": {},
   "source": [
    "# Day 6"
   ]
  },
  {
   "cell_type": "code",
   "execution_count": 2,
   "metadata": {},
   "outputs": [],
   "source": [
    "# 1\n",
    "url = 'https://adventofcode.com/2018/day/6/input'\n",
    "r = requests.post(url, cookies=cookie)\n",
    "inp = r.text\n",
    "lst = inp.split('\\n')[:-1]"
   ]
  },
  {
   "cell_type": "code",
   "execution_count": 3,
   "metadata": {},
   "outputs": [
    {
     "name": "stdout",
     "output_type": "stream",
     "text": [
      "46 352 47 359\n",
      "0 306 0 312\n"
     ]
    }
   ],
   "source": [
    "x = [int(i.split(',')[0]) for i in lst]\n",
    "y = [int(i.split(' ')[1]) for i in lst]\n",
    "print(min(x), max(x), min(y), max(y))\n",
    "x = [i-min(x) for i in x]\n",
    "y = [i-min(y) for i in y]\n",
    "print(min(x), max(x), min(y), max(y))"
   ]
  },
  {
   "cell_type": "code",
   "execution_count": 4,
   "metadata": {},
   "outputs": [],
   "source": [
    "def mdist(x1,y1,x2,y2):\n",
    "    return abs(x1-x2)+abs(y1-y2)\n",
    "\n",
    "\n",
    "main = []\n",
    "k = 0\n",
    "for i in zip(x,y):\n",
    "    main.append([k,i[0],i[1]])\n",
    "    k+=1\n",
    "\n",
    "    \n",
    "def findmin(x,y, main):\n",
    "    res =  1e3\n",
    "    for i in range(len(main)):\n",
    "        t = mdist(x,y,main[i][1],main[i][2])\n",
    "        if t<res:\n",
    "            res = t\n",
    "            count = 0\n",
    "            point = main[i][0]\n",
    "        elif t==res:\n",
    "            count+=1\n",
    "    if count>0:\n",
    "        point = -1\n",
    "    return point\n",
    "\n",
    "\n",
    "main_dict = {}\n",
    "for i in range(max(x)):\n",
    "    for j in range(max(y)):\n",
    "        main_dict[(i,j)]=findmin(i,j,main) "
   ]
  },
  {
   "cell_type": "code",
   "execution_count": 5,
   "metadata": {},
   "outputs": [
    {
     "name": "stdout",
     "output_type": "stream",
     "text": [
      "[0, 1, 2, 5, 10, 11, 14, 16, 24, 26, 27, 33, 35, 36, 39, 41, 44, 47, 48, 49, -1]\n"
     ]
    }
   ],
   "source": [
    "infinitePoints = []\n",
    "for i in [0, max(x)-1]:\n",
    "    for j in range(max(y)):\n",
    "        infinitePoints.append(main_dict[(i,j)])\n",
    "        \n",
    "for j in [0, max(y)-1]:\n",
    "    for i in range(max(x)):\n",
    "        infinitePoints.append(main_dict[(i,j)])\n",
    "\n",
    "infinitePoints = list(set(infinitePoints))\n",
    "print(infinitePoints)"
   ]
  },
  {
   "cell_type": "code",
   "execution_count": 6,
   "metadata": {},
   "outputs": [
    {
     "data": {
      "text/html": [
       "<div>\n",
       "<style scoped>\n",
       "    .dataframe tbody tr th:only-of-type {\n",
       "        vertical-align: middle;\n",
       "    }\n",
       "\n",
       "    .dataframe tbody tr th {\n",
       "        vertical-align: top;\n",
       "    }\n",
       "\n",
       "    .dataframe thead th {\n",
       "        text-align: right;\n",
       "    }\n",
       "</style>\n",
       "<table border=\"1\" class=\"dataframe\">\n",
       "  <thead>\n",
       "    <tr style=\"text-align: right;\">\n",
       "      <th></th>\n",
       "      <th>index</th>\n",
       "    </tr>\n",
       "    <tr>\n",
       "      <th>points</th>\n",
       "      <th></th>\n",
       "    </tr>\n",
       "  </thead>\n",
       "  <tbody>\n",
       "    <tr>\n",
       "      <th>28</th>\n",
       "      <td>3449</td>\n",
       "    </tr>\n",
       "  </tbody>\n",
       "</table>\n",
       "</div>"
      ],
      "text/plain": [
       "        index\n",
       "points       \n",
       "28       3449"
      ]
     },
     "execution_count": 6,
     "metadata": {},
     "output_type": "execute_result"
    }
   ],
   "source": [
    "import pandas as pd\n",
    "main_pd = pd.DataFrame(list(main_dict.values()),columns = ['points']).reset_index()\n",
    "main_pd = main_pd[~main_pd['points'].isin(infinitePoints)]\n",
    "main_pd.groupby('points').count().sort_values('index', ascending=False).head(1)"
   ]
  },
  {
   "cell_type": "code",
   "execution_count": 7,
   "metadata": {},
   "outputs": [
    {
     "data": {
      "text/plain": [
       "44868"
      ]
     },
     "execution_count": 7,
     "metadata": {},
     "output_type": "execute_result"
    }
   ],
   "source": [
    "# 2 \n",
    "def sumdist(x,y, main):\n",
    "    summ = 0\n",
    "    for i in range(len(main)):\n",
    "        t = mdist(x,y,main[i][1],main[i][2])\n",
    "        summ += t\n",
    "    if summ<10000:\n",
    "        return 1\n",
    "    else:\n",
    "        return 0\n",
    "    \n",
    "num = 0 \n",
    "for i in range(max(x)):\n",
    "    for j in range(max(y)):\n",
    "        num += sumdist(i,j,main)\n",
    "num"
   ]
  },
  {
   "cell_type": "code",
   "execution_count": null,
   "metadata": {},
   "outputs": [],
   "source": []
  },
  {
   "cell_type": "markdown",
   "metadata": {},
   "source": [
    "# Day 7"
   ]
  },
  {
   "cell_type": "code",
   "execution_count": 2,
   "metadata": {},
   "outputs": [],
   "source": [
    "# 1\n",
    "url = 'https://adventofcode.com/2018/day/7/input'\n",
    "r = requests.post(url, cookies=cookie)\n",
    "inp = r.text\n",
    "lst = inp.split('\\n')[:-1]"
   ]
  },
  {
   "cell_type": "code",
   "execution_count": 3,
   "metadata": {},
   "outputs": [],
   "source": [
    "t1 = [i.split(' ')[1] for i in lst]\n",
    "t2 = [i.split('step ')[1].split(' ')[0] for i in lst]\n",
    "l = len(list(set(t1 + t2)))"
   ]
  },
  {
   "cell_type": "code",
   "execution_count": 4,
   "metadata": {},
   "outputs": [
    {
     "name": "stdout",
     "output_type": "stream",
     "text": [
      "GKPTSLUXBIJMNCADFOVHEWYQRZ\n"
     ]
    }
   ],
   "source": [
    "def getfirst(t1,t2):\n",
    "    free = list(set(t1)-set(t2))\n",
    "    free.sort()\n",
    "    res = free[0]\n",
    "    for i in range(len(t1)):\n",
    "        if t1[i] == res:\n",
    "            t1[i] = t2[i]\n",
    "            t2[i] = ''\n",
    "            \n",
    "    return t1,t2,res\n",
    "\n",
    "ans = ''\n",
    "for i in range(l):\n",
    "    t1,t2,a = getfirst(t1,t2)\n",
    "    ans += a\n",
    "print(ans)"
   ]
  },
  {
   "cell_type": "code",
   "execution_count": 5,
   "metadata": {},
   "outputs": [
    {
     "name": "stdout",
     "output_type": "stream",
     "text": [
      "920\n"
     ]
    }
   ],
   "source": [
    "#2\n",
    "workers = {'1':[0,''],'2':[0,''],'3':[0,''],'4':[0,''],'5':[0,'']}\n",
    "t1 = [i.split(' ')[1] for i in lst]\n",
    "t2 = [i.split('step ')[1].split(' ')[0] for i in lst]\n",
    "l = len(list(set(t1 + t2)))\n",
    "\n",
    "time = 0 \n",
    "\n",
    "import string\n",
    "def convert(letter):\n",
    "    # get time per letter \n",
    "    return 1 + list(string.ascii_uppercase).index(letter)\n",
    "\n",
    "\n",
    "while True: \n",
    "    #if work done by worker_i\n",
    "    for i in workers.keys():\n",
    "        if workers[i][0]==0 and workers[i][1]!='':\n",
    "            for j in range(len(t1)):\n",
    "                if t1[j] == workers[i][1]:\n",
    "                    t1[j] = t2[j]\n",
    "                    t2[j] = ''\n",
    "            workers[i] = [0,'']\n",
    "            l -= 1\n",
    "    \n",
    "    if l==0: \n",
    "        #all work done\n",
    "        break\n",
    "\n",
    "    # if there free workers and free jobs to do\n",
    "    free_workers_num =len([j[0] for j in workers.values() if j[0]==0])\n",
    "    if free_workers_num>0:    \n",
    "        free = set(t1)-set(t2)\n",
    "        ready = list(free - set([j[1] for j in workers.values()]))\n",
    "        ready.sort()\n",
    "        for k in range(min(len(ready), free_workers_num)):\n",
    "            for h in workers.keys():\n",
    "                if workers[h][0]==0:\n",
    "                    workers[h] = [convert(ready[k])+60, ready[k]]   \n",
    "                    break\n",
    "\n",
    "    # increment time and subtract workers time.\n",
    "    time += 1\n",
    "    for h in workers.keys():\n",
    "        if workers[h][1]!='':\n",
    "            workers[h][0] -= 1\n",
    "                \n",
    "print(time)"
   ]
  },
  {
   "cell_type": "code",
   "execution_count": null,
   "metadata": {},
   "outputs": [],
   "source": []
  },
  {
   "cell_type": "markdown",
   "metadata": {},
   "source": [
    "# Day 8"
   ]
  },
  {
   "cell_type": "code",
   "execution_count": 2,
   "metadata": {},
   "outputs": [],
   "source": [
    "# 1\n",
    "url = 'https://adventofcode.com/2018/day/8/input'\n",
    "r = requests.post(url, cookies=cookie)\n",
    "inp = r.text\n",
    "lst = inp.split('\\n')[:-1]"
   ]
  },
  {
   "cell_type": "code",
   "execution_count": 3,
   "metadata": {},
   "outputs": [
    {
     "data": {
      "text/plain": [
       "46829"
      ]
     },
     "execution_count": 3,
     "metadata": {},
     "output_type": "execute_result"
    }
   ],
   "source": [
    "inp = [int(x) for x in lst[0].split(' ')]\n",
    "\n",
    "def getMeta(inp, start):\n",
    "    s = 0\n",
    "    nodes = inp[start]\n",
    "    m = inp[start+1]\n",
    "    cursor = start+2\n",
    "    \n",
    "    while nodes>0:\n",
    "        cursor,meta = getMeta(inp, cursor)\n",
    "        s += meta\n",
    "        nodes -= 1\n",
    "        \n",
    "    if nodes == 0:\n",
    "        meta = sum(inp[cursor:cursor+m])\n",
    "\n",
    "    return cursor+m,s + meta\n",
    "\n",
    "getMeta(inp,0)[1]"
   ]
  },
  {
   "cell_type": "code",
   "execution_count": 4,
   "metadata": {},
   "outputs": [
    {
     "data": {
      "text/plain": [
       "37450"
      ]
     },
     "execution_count": 4,
     "metadata": {},
     "output_type": "execute_result"
    }
   ],
   "source": [
    "#2\n",
    "def getMeta2(inp, start):\n",
    "    s = 0\n",
    "    nodes = inp[start]\n",
    "    m = inp[start+1]\n",
    "    cursor = start+2\n",
    "    \n",
    "    meta_tmp = []\n",
    "    while nodes>0:\n",
    "        cursor,meta_tmp_val = getMeta2(inp, cursor)\n",
    "        meta_tmp.append(meta_tmp_val)\n",
    "        nodes -= 1\n",
    "        \n",
    "    meta = inp[cursor:cursor+m]\n",
    "    if len(meta_tmp)!=0:\n",
    "        meta.append(meta_tmp)\n",
    "    else:\n",
    "        meta.append(0)\n",
    "        \n",
    "    return cursor+m, meta\n",
    "\n",
    "inp2 = getMeta2(inp, 0)[1]\n",
    "\n",
    "def getvalue(inp):\n",
    "    if inp[-1]==0:\n",
    "        return sum(inp)\n",
    "    \n",
    "    s = 0\n",
    "    for i in range(len(inp)-1):\n",
    "        if inp[i]-1< len(inp[-1]):\n",
    "            s += getvalue(inp[-1][inp[i]-1])\n",
    "    return s\n",
    "\n",
    "getvalue(inp2)"
   ]
  },
  {
   "cell_type": "code",
   "execution_count": null,
   "metadata": {},
   "outputs": [],
   "source": []
  },
  {
   "cell_type": "markdown",
   "metadata": {},
   "source": [
    "# Day 9"
   ]
  },
  {
   "cell_type": "code",
   "execution_count": 2,
   "metadata": {},
   "outputs": [],
   "source": [
    "# 1\n",
    "url = 'https://adventofcode.com/2018/day/9/input'\n",
    "r = requests.post(url, cookies=cookie)\n",
    "inp = r.text\n",
    "lst = inp.split('\\n')[:-1]"
   ]
  },
  {
   "cell_type": "code",
   "execution_count": 3,
   "metadata": {},
   "outputs": [
    {
     "data": {
      "text/plain": [
       "['459 players; last marble is worth 71790 points']"
      ]
     },
     "execution_count": 3,
     "metadata": {},
     "output_type": "execute_result"
    }
   ],
   "source": [
    "lst"
   ]
  },
  {
   "cell_type": "code",
   "execution_count": 4,
   "metadata": {},
   "outputs": [
    {
     "data": {
      "text/plain": [
       "(18, 386151)"
      ]
     },
     "execution_count": 4,
     "metadata": {},
     "output_type": "execute_result"
    }
   ],
   "source": [
    "from collections import deque\n",
    "\n",
    "def marblegame(players, last):\n",
    "    s = deque([0])\n",
    "    plrs = {}\n",
    "    current = 1\n",
    "    for i in range(players):\n",
    "        plrs[i] = 0\n",
    "    while current<=last:\n",
    "        if current%23==0:\n",
    "            s.rotate(-7)\n",
    "            #pos = (pos -7)%len(s)\n",
    "            score = current + s.pop()\n",
    "            plrs[current%players] += score\n",
    "        else:\n",
    "            s.rotate(2)\n",
    "            #pos = (pos+2)%len(s)\n",
    "            s.append(current)\n",
    "        current += 1\n",
    "    return max(plrs, key=plrs.get), max(plrs.values())\n",
    "\n",
    "marblegame(459, 71790)"
   ]
  },
  {
   "cell_type": "code",
   "execution_count": 5,
   "metadata": {},
   "outputs": [
    {
     "data": {
      "text/plain": [
       "(390, 3211264152)"
      ]
     },
     "execution_count": 5,
     "metadata": {},
     "output_type": "execute_result"
    }
   ],
   "source": [
    "marblegame(459, 7179000)"
   ]
  },
  {
   "cell_type": "code",
   "execution_count": null,
   "metadata": {},
   "outputs": [],
   "source": []
  },
  {
   "cell_type": "markdown",
   "metadata": {},
   "source": [
    "# Day 10"
   ]
  },
  {
   "cell_type": "code",
   "execution_count": 2,
   "metadata": {},
   "outputs": [],
   "source": [
    "# 1\n",
    "url = 'https://adventofcode.com/2018/day/10/input'\n",
    "r = requests.post(url, cookies=cookie)\n",
    "inp = r.text\n",
    "lst = inp.split('\\n')[:-1]"
   ]
  },
  {
   "cell_type": "code",
   "execution_count": 3,
   "metadata": {},
   "outputs": [
    {
     "data": {
      "text/plain": [
       "['position=< 41660,  20869> velocity=<-4, -2>',\n",
       " 'position=< 41617,  10491> velocity=<-4, -1>']"
      ]
     },
     "execution_count": 3,
     "metadata": {},
     "output_type": "execute_result"
    }
   ],
   "source": [
    "lst[:2]"
   ]
  },
  {
   "cell_type": "code",
   "execution_count": 4,
   "metadata": {},
   "outputs": [],
   "source": [
    "X = [int(i.split('=<')[1].split(',')[0]) for i in lst]\n",
    "Y = [int(i.split(', ')[1].split('>')[0]) for i in lst]\n",
    "Vx = [int(i.split('velocity=<')[1].split(',')[0]) for i in lst]\n",
    "Vy = [int(i.split('velocity=<')[1].split(', ')[1].split('>')[0]) for i in lst]\n",
    "\n",
    "def plussec(X,Y,Vx,Vy):\n",
    "    X = [x_i + vx_i for x_i, vx_i in zip(X, Vx)]\n",
    "    Y = [y_i + yx_i for y_i, yx_i in zip(Y, Vy)]\n",
    "    return X, Y"
   ]
  },
  {
   "cell_type": "code",
   "execution_count": 5,
   "metadata": {},
   "outputs": [
    {
     "data": {
      "text/plain": [
       "(70, 10368)"
      ]
     },
     "execution_count": 5,
     "metadata": {},
     "output_type": "execute_result"
    }
   ],
   "source": [
    "import numpy as np\n",
    "\n",
    "def getminsize(X,Y):\n",
    "    return max(X)-min(X) + max(Y)- min(Y) \n",
    "\n",
    "X1,Y1 = X.copy(), Y.copy()\n",
    "a = []\n",
    "for i in range(15000):\n",
    "    X1,Y1 = plussec(X1,Y1,Vx,Vy)\n",
    "    a.append(getminsize(X1,Y1))\n",
    "\n",
    "min(a), np.argmin(a)"
   ]
  },
  {
   "cell_type": "code",
   "execution_count": 6,
   "metadata": {},
   "outputs": [
    {
     "name": "stdout",
     "output_type": "stream",
     "text": [
      "#....#..#####......###..#....#..######..######...####...#####.\n",
      "#...#...#....#......#...#....#..#............#..#....#..#....#\n",
      "#..#....#....#......#...#....#..#............#..#.......#....#\n",
      "#.#.....#....#......#...#....#..#...........#...#.......#....#\n",
      "##......#####.......#...######..#####......#....#.......#####.\n",
      "##......#....#......#...#....#..#.........#.....#.......#....#\n",
      "#.#.....#....#......#...#....#..#........#......#.......#....#\n",
      "#..#....#....#..#...#...#....#..#.......#.......#.......#....#\n",
      "#...#...#....#..#...#...#....#..#.......#.......#....#..#....#\n",
      "#....#..#####....###....#....#..######..######...####...#####.\n"
     ]
    }
   ],
   "source": [
    "seconds_to_wait = np.argmin(a)+1\n",
    "for i in range(seconds_to_wait):\n",
    "    X,Y = plussec(X,Y,Vx,Vy)\n",
    "\n",
    "def draw(X,Y):\n",
    "    X = [i - min(X) for i in X]\n",
    "    Y = [i - min(Y) for i in Y]\n",
    "    M = [['.']*(max(X)+1) for i in range(max(Y)+1)]\n",
    "    for i in zip(X,Y):\n",
    "        M[i[1]][i[0]] = '#'\n",
    "    return M \n",
    "\n",
    "figure = draw(X,Y)\n",
    "\n",
    "for i in range(len(figure)):\n",
    "    s = ''\n",
    "    for j in figure[i]:\n",
    "        s += j\n",
    "    print(s)"
   ]
  },
  {
   "cell_type": "code",
   "execution_count": 7,
   "metadata": {},
   "outputs": [
    {
     "name": "stdout",
     "output_type": "stream",
     "text": [
      "10369\n"
     ]
    }
   ],
   "source": [
    "#2\n",
    "print(seconds_to_wait)"
   ]
  },
  {
   "cell_type": "code",
   "execution_count": null,
   "metadata": {},
   "outputs": [],
   "source": []
  },
  {
   "cell_type": "markdown",
   "metadata": {},
   "source": [
    "# Day 11"
   ]
  },
  {
   "cell_type": "code",
   "execution_count": 1,
   "metadata": {},
   "outputs": [
    {
     "data": {
      "text/plain": [
       "(235, 14)"
      ]
     },
     "execution_count": 1,
     "metadata": {},
     "output_type": "execute_result"
    }
   ],
   "source": [
    "# 1\n",
    "inp = 1133\n",
    "\n",
    "def powerlevel(x,y,serial):\n",
    "    s = str(((x + 10)*y + serial)*(x+10))\n",
    "    if len(s)>2:\n",
    "        s = int(s[-3])\n",
    "    else:\n",
    "        s = 0\n",
    "    return s - 5\n",
    "\n",
    "\n",
    "a = []\n",
    "for x in range(1,301):\n",
    "    tmp = []\n",
    "    for y in range(1,301):\n",
    "        tmp.append(powerlevel(x,y,inp))\n",
    "    a.append(tmp)\n",
    "\n",
    "def totalpower(a,x,y):\n",
    "    return a[x-1][y-1] + a[x-1][y] + a[x-1][y+1] + \\\n",
    "    a[x][y-1] + a[x][y] + a[x][y+1] + \\\n",
    "    a[x+1][y-1] + a[x+1][y] + a[x+1][y+1]\n",
    "\n",
    "\n",
    "m = totalpower(a,0,0) #init\n",
    "\n",
    "for i in range(1,299):\n",
    "    for j in range(1,299):\n",
    "        tmp = totalpower(a,i,j)\n",
    "        if tmp>m:\n",
    "            m=tmp\n",
    "            res = (i,j)\n",
    "res"
   ]
  },
  {
   "cell_type": "code",
   "execution_count": 2,
   "metadata": {
    "scrolled": true
   },
   "outputs": [
    {
     "name": "stdout",
     "output_type": "stream",
     "text": [
      "(237, 227, 14)\n",
      "111.0 seconds\n"
     ]
    }
   ],
   "source": [
    "#2 brute force solution\n",
    "import time\n",
    "s = time.time()\n",
    "import numpy as np\n",
    "npa = np.array(a)\n",
    "\n",
    "def totalpowerX(npa,x,y,d):\n",
    "    return np.sum(npa[x-1:x-1+d,y-1:y-1+d])\n",
    "\n",
    "m = 0 \n",
    "for d in range(1,301):\n",
    "    for i in range(1,301-d):\n",
    "        for j in range(1,301-d):\n",
    "            tmp = totalpowerX(npa,i,j,d)\n",
    "            if tmp>m:\n",
    "                m=tmp\n",
    "                res = (i,j,d)\n",
    "print(res)\n",
    "print(round(time.time()-s,0),'seconds')"
   ]
  },
  {
   "cell_type": "code",
   "execution_count": 3,
   "metadata": {},
   "outputs": [
    {
     "name": "stdout",
     "output_type": "stream",
     "text": [
      "(237, 227, 14)\n",
      "9.0 seconds\n"
     ]
    }
   ],
   "source": [
    "#2  https://en.wikipedia.org/wiki/Summed-area_table\n",
    "s = time.time()\n",
    "npa = np.array(a)\n",
    "sat = npa.copy()\n",
    "\n",
    "for i in range(1,len(npa)):\n",
    "    for j in range(1,len(npa[i])):\n",
    "        sat[i,j] = sat[i-1,j] + sat[i,j-1] + npa[i,j] - sat[i-1,j-1]\n",
    "\n",
    "sat_padded = np.zeros((301,301)) # to handle with [-1,-1] cases in totalpowerX\n",
    "sat_padded[:-1,:-1] = sat\n",
    "\n",
    "def totalpowerX(sat_padded,x,y,d):\n",
    "    return sat_padded[x+d-1,y+d-1] + sat_padded[x-1,y-1] - sat_padded[x-1,y+d-1] - sat_padded[x+d-1,y-1]\n",
    "    \n",
    "m=0\n",
    "for d in range(1,301):\n",
    "    for i in range(1,301-d):\n",
    "        for j in range(1,301-d):\n",
    "            tmp = totalpowerX(sat_padded,i-1,j-1,d)\n",
    "            if tmp>m:\n",
    "                m=tmp\n",
    "                res = (i,j,d)\n",
    "print(res)\n",
    "print(round(time.time()-s,0),'seconds')"
   ]
  },
  {
   "cell_type": "code",
   "execution_count": null,
   "metadata": {},
   "outputs": [],
   "source": []
  },
  {
   "cell_type": "markdown",
   "metadata": {},
   "source": [
    "# Day 12"
   ]
  },
  {
   "cell_type": "code",
   "execution_count": null,
   "metadata": {},
   "outputs": [],
   "source": [
    "# 1\n",
    "import requests\n",
    "c = open('cookie.txt').readline()\n",
    "cookie = {'session': c[:-1]}\n",
    "url = 'https://adventofcode.com/2018/day/12/input'\n",
    "r = requests.post(url, cookies=cookie)\n",
    "inp = r.text\n",
    "lst = inp.split('\\n')[:-1]"
   ]
  },
  {
   "cell_type": "code",
   "execution_count": null,
   "metadata": {},
   "outputs": [],
   "source": []
  }
 ],
 "metadata": {
  "kernelspec": {
   "display_name": "Python 3",
   "language": "python",
   "name": "python3"
  },
  "language_info": {
   "codemirror_mode": {
    "name": "ipython",
    "version": 3
   },
   "file_extension": ".py",
   "mimetype": "text/x-python",
   "name": "python",
   "nbconvert_exporter": "python",
   "pygments_lexer": "ipython3",
   "version": "3.6.6"
  }
 },
 "nbformat": 4,
 "nbformat_minor": 2
}
