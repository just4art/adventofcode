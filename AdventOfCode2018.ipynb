{
 "cells": [
  {
   "cell_type": "code",
   "execution_count": 1,
   "metadata": {},
   "outputs": [],
   "source": [
    "# copy cookie from adventofcode.com to cookie.txt to get inputs\n",
    "import requests\n",
    "c = open('cookie.txt').readline()\n",
    "cookie = {'session': c[:-1]}"
   ]
  },
  {
   "cell_type": "markdown",
   "metadata": {},
   "source": [
    "# Day 1"
   ]
  },
  {
   "cell_type": "code",
   "execution_count": 2,
   "metadata": {},
   "outputs": [],
   "source": [
    "#1\n",
    "url = 'https://adventofcode.com/2018/day/1/input'\n",
    "r = requests.post(url, cookies=cookie)\n",
    "inp = r.text"
   ]
  },
  {
   "cell_type": "code",
   "execution_count": 3,
   "metadata": {},
   "outputs": [
    {
     "data": {
      "text/plain": [
       "599"
      ]
     },
     "execution_count": 3,
     "metadata": {},
     "output_type": "execute_result"
    }
   ],
   "source": [
    "t = [int(i[1:]) if i[0]=='+' else int(i) for i in inp.split('\\n')[:-1]]\n",
    "sum(t)"
   ]
  },
  {
   "cell_type": "code",
   "execution_count": 4,
   "metadata": {},
   "outputs": [
    {
     "name": "stdout",
     "output_type": "stream",
     "text": [
      "81204\n"
     ]
    }
   ],
   "source": [
    "#2\n",
    "c = 0 \n",
    "s = []\n",
    "flag = False\n",
    "while True:\n",
    "    for i in t:\n",
    "        c += i\n",
    "        if c in s:\n",
    "            print(c)\n",
    "            flag = True\n",
    "            break\n",
    "        s.append(c)\n",
    "    if flag:\n",
    "        break"
   ]
  },
  {
   "cell_type": "markdown",
   "metadata": {},
   "source": [
    "# Day 2"
   ]
  },
  {
   "cell_type": "code",
   "execution_count": 5,
   "metadata": {},
   "outputs": [],
   "source": [
    "# 1\n",
    "url = 'https://adventofcode.com/2018/day/2/input'\n",
    "r = requests.post(url, cookies=cookie)\n",
    "inp = r.text"
   ]
  },
  {
   "cell_type": "code",
   "execution_count": 6,
   "metadata": {},
   "outputs": [
    {
     "name": "stdout",
     "output_type": "stream",
     "text": [
      "8296\n"
     ]
    }
   ],
   "source": [
    "lst = inp.split('\\n')[:-1]\n",
    "tmp2 = {}\n",
    "for i in lst:\n",
    "    tmp1 = {}\n",
    "    for j in i:\n",
    "        if j in tmp1:\n",
    "            tmp1[j] += 1\n",
    "        else:\n",
    "            tmp1[j] = 1\n",
    "    for k in list(set(tmp1.values())):\n",
    "        if k in tmp2:\n",
    "            tmp2[k] +=1\n",
    "        else:\n",
    "            tmp2[k] = 1\n",
    "\n",
    "res = 1  \n",
    "del tmp2[1]\n",
    "for l in tmp2.values():\n",
    "    res*=l\n",
    "print(res)"
   ]
  },
  {
   "cell_type": "code",
   "execution_count": 7,
   "metadata": {
    "scrolled": true
   },
   "outputs": [
    {
     "name": "stdout",
     "output_type": "stream",
     "text": [
      "25 pazvmqbfjtrbeosiecxlghkwud pazvmqbfotrbeosiecxlghkwud\n",
      "pazvmqbftrbeosiecxlghkwud\n"
     ]
    }
   ],
   "source": [
    "# 2\n",
    "def findSimilarity(l1,l2):\n",
    "    s = 0\n",
    "    for i in zip(l1,l2):\n",
    "        if i[0]==i[1]:\n",
    "            s+=1\n",
    "    return s\n",
    "\n",
    "def simletters(l1,l2):\n",
    "    s = ''\n",
    "    for i in zip(l1,l2):\n",
    "        if i[0]==i[1]:\n",
    "            s+=i[0]\n",
    "    return s\n",
    "\n",
    "m = 0\n",
    "k1, k2 = 0,0\n",
    "\n",
    "for i in range(len(lst)-1):\n",
    "    for j in range(i+1, len(lst)):\n",
    "        tmp = findSimilarity(lst[i],lst[j])\n",
    "        if tmp>m:\n",
    "            k1,k2 = i,j\n",
    "            m = tmp\n",
    "            \n",
    "print(m,lst[k1],lst[k2])\n",
    "print(simletters(lst[k1],lst[k2]))"
   ]
  },
  {
   "cell_type": "markdown",
   "metadata": {},
   "source": [
    "# Day 3"
   ]
  },
  {
   "cell_type": "code",
   "execution_count": 8,
   "metadata": {},
   "outputs": [
    {
     "data": {
      "text/plain": [
       "'#133 @ 305,659: 21x28'"
      ]
     },
     "execution_count": 8,
     "metadata": {},
     "output_type": "execute_result"
    }
   ],
   "source": [
    "# 1\n",
    "url = 'https://adventofcode.com/2018/day/3/input'\n",
    "r = requests.post(url, cookies=cookie)\n",
    "inp = r.text\n",
    "lst = inp.split('\\n')[:-1]\n",
    "lst[132]"
   ]
  },
  {
   "cell_type": "code",
   "execution_count": 9,
   "metadata": {},
   "outputs": [
    {
     "name": "stdout",
     "output_type": "stream",
     "text": [
      "117948\n"
     ]
    }
   ],
   "source": [
    "lst1 = [int(x.split('@ ')[1].split(',')[0]) for x in lst]\n",
    "lst2 = [int(x.split(',')[1].split(':')[0]) for x in lst]\n",
    "lst3 = [int(x.split(': ')[1].split('x')[0]) for x in lst]\n",
    "lst4 = [int(x.split('x')[1]) for x in lst]\n",
    "\n",
    "\n",
    "s = []\n",
    "for i in zip(lst1,lst3):\n",
    "    s.append(sum(i))\n",
    "max_h = max(s)\n",
    "\n",
    "s = []\n",
    "for i in zip(lst2,lst4):\n",
    "    s.append(sum(i))\n",
    "max_w = max(s)\n",
    "\n",
    "m = [[0]*max_w for i in range(max_h)]\n",
    "for i in range(len(lst1)):\n",
    "    for j in range(lst1[i],lst1[i]+lst3[i]):\n",
    "        for k in range(lst2[i],lst2[i]+lst4[i]):\n",
    "            m[j][k] += 1\n",
    "            \n",
    "s = 0\n",
    "for i in m:\n",
    "    for j in i:\n",
    "        if j>1:\n",
    "            s+=1\n",
    "print(s)"
   ]
  },
  {
   "cell_type": "code",
   "execution_count": 10,
   "metadata": {},
   "outputs": [
    {
     "name": "stdout",
     "output_type": "stream",
     "text": [
      "#567 @ 370,732: 23x19\n"
     ]
    }
   ],
   "source": [
    "# 2\n",
    "import numpy as np\n",
    "mm = np.asarray(m)\n",
    "for k in range(len(lst1)):\n",
    "    if np.max(mm[lst1[k]:lst1[k]+lst3[k],lst2[k]:lst2[k]+lst4[k]])==1:\n",
    "        print(lst[k])"
   ]
  },
  {
   "cell_type": "code",
   "execution_count": null,
   "metadata": {},
   "outputs": [],
   "source": []
  },
  {
   "cell_type": "markdown",
   "metadata": {},
   "source": [
    "# Day 4"
   ]
  },
  {
   "cell_type": "code",
   "execution_count": 2,
   "metadata": {},
   "outputs": [
    {
     "data": {
      "text/plain": [
       "['[1518-08-08 00:45] falls asleep',\n",
       " '[1518-05-02 00:52] falls asleep',\n",
       " '[1518-05-07 00:56] wakes up',\n",
       " '[1518-08-18 00:06] falls asleep',\n",
       " '[1518-11-11 00:04] Guard #2179 begins shift']"
      ]
     },
     "execution_count": 2,
     "metadata": {},
     "output_type": "execute_result"
    }
   ],
   "source": [
    "# 1\n",
    "url = 'https://adventofcode.com/2018/day/4/input'\n",
    "r = requests.post(url, cookies=cookie)\n",
    "inp = r.text\n",
    "lst = inp.split('\\n')[:-1]\n",
    "lst[:5]"
   ]
  },
  {
   "cell_type": "code",
   "execution_count": 3,
   "metadata": {},
   "outputs": [
    {
     "data": {
      "text/html": [
       "<div>\n",
       "<style scoped>\n",
       "    .dataframe tbody tr th:only-of-type {\n",
       "        vertical-align: middle;\n",
       "    }\n",
       "\n",
       "    .dataframe tbody tr th {\n",
       "        vertical-align: top;\n",
       "    }\n",
       "\n",
       "    .dataframe thead th {\n",
       "        text-align: right;\n",
       "    }\n",
       "</style>\n",
       "<table border=\"1\" class=\"dataframe\">\n",
       "  <thead>\n",
       "    <tr style=\"text-align: right;\">\n",
       "      <th></th>\n",
       "      <th>time</th>\n",
       "      <th>action</th>\n",
       "    </tr>\n",
       "  </thead>\n",
       "  <tbody>\n",
       "    <tr>\n",
       "      <th>0</th>\n",
       "      <td>1518-08-08 00:45</td>\n",
       "      <td>falls asleep</td>\n",
       "    </tr>\n",
       "    <tr>\n",
       "      <th>1</th>\n",
       "      <td>1518-05-02 00:52</td>\n",
       "      <td>falls asleep</td>\n",
       "    </tr>\n",
       "    <tr>\n",
       "      <th>2</th>\n",
       "      <td>1518-05-07 00:56</td>\n",
       "      <td>wakes up</td>\n",
       "    </tr>\n",
       "    <tr>\n",
       "      <th>3</th>\n",
       "      <td>1518-08-18 00:06</td>\n",
       "      <td>falls asleep</td>\n",
       "    </tr>\n",
       "    <tr>\n",
       "      <th>4</th>\n",
       "      <td>1518-11-11 00:04</td>\n",
       "      <td>Guard #2179 begins shift</td>\n",
       "    </tr>\n",
       "  </tbody>\n",
       "</table>\n",
       "</div>"
      ],
      "text/plain": [
       "               time                    action\n",
       "0  1518-08-08 00:45              falls asleep\n",
       "1  1518-05-02 00:52              falls asleep\n",
       "2  1518-05-07 00:56                  wakes up\n",
       "3  1518-08-18 00:06              falls asleep\n",
       "4  1518-11-11 00:04  Guard #2179 begins shift"
      ]
     },
     "execution_count": 3,
     "metadata": {},
     "output_type": "execute_result"
    }
   ],
   "source": [
    "import pandas as pd\n",
    "\n",
    "lst_new = [x.split('[')[1].split('] ') for x  in lst]\n",
    "df = pd.DataFrame(lst_new)\n",
    "df.columns = ['time', 'action']\n",
    "df.head()"
   ]
  },
  {
   "cell_type": "code",
   "execution_count": 4,
   "metadata": {},
   "outputs": [
    {
     "data": {
      "text/html": [
       "<div>\n",
       "<style scoped>\n",
       "    .dataframe tbody tr th:only-of-type {\n",
       "        vertical-align: middle;\n",
       "    }\n",
       "\n",
       "    .dataframe tbody tr th {\n",
       "        vertical-align: top;\n",
       "    }\n",
       "\n",
       "    .dataframe thead th {\n",
       "        text-align: right;\n",
       "    }\n",
       "</style>\n",
       "<table border=\"1\" class=\"dataframe\">\n",
       "  <thead>\n",
       "    <tr style=\"text-align: right;\">\n",
       "      <th></th>\n",
       "      <th>time</th>\n",
       "      <th>action</th>\n",
       "    </tr>\n",
       "  </thead>\n",
       "  <tbody>\n",
       "    <tr>\n",
       "      <th>292</th>\n",
       "      <td>1518-02-10 23:47:00</td>\n",
       "      <td>Guard #631 begins shift</td>\n",
       "    </tr>\n",
       "    <tr>\n",
       "      <th>465</th>\n",
       "      <td>1518-02-11 00:03:00</td>\n",
       "      <td>falls asleep</td>\n",
       "    </tr>\n",
       "    <tr>\n",
       "      <th>1002</th>\n",
       "      <td>1518-02-11 00:19:00</td>\n",
       "      <td>wakes up</td>\n",
       "    </tr>\n",
       "    <tr>\n",
       "      <th>31</th>\n",
       "      <td>1518-02-12 00:03:00</td>\n",
       "      <td>Guard #983 begins shift</td>\n",
       "    </tr>\n",
       "    <tr>\n",
       "      <th>1067</th>\n",
       "      <td>1518-02-12 00:09:00</td>\n",
       "      <td>falls asleep</td>\n",
       "    </tr>\n",
       "  </tbody>\n",
       "</table>\n",
       "</div>"
      ],
      "text/plain": [
       "                     time                   action\n",
       "292   1518-02-10 23:47:00  Guard #631 begins shift\n",
       "465   1518-02-11 00:03:00             falls asleep\n",
       "1002  1518-02-11 00:19:00                 wakes up\n",
       "31    1518-02-12 00:03:00  Guard #983 begins shift\n",
       "1067  1518-02-12 00:09:00             falls asleep"
      ]
     },
     "execution_count": 4,
     "metadata": {},
     "output_type": "execute_result"
    }
   ],
   "source": [
    "import datetime as dt\n",
    "df['time'] = df['time'].apply(lambda x: \n",
    "                                    dt.datetime.strptime(x,'%Y-%m-%d %H:%M'))\n",
    "df = df.sort_values(['time'])\n",
    "df.head()"
   ]
  },
  {
   "cell_type": "code",
   "execution_count": 5,
   "metadata": {},
   "outputs": [
    {
     "name": "stdout",
     "output_type": "stream",
     "text": [
      "Answer1 =  30630\n"
     ]
    }
   ],
   "source": [
    "res = []\n",
    "for i in range(len(df)):\n",
    "    act = df.action.iloc[i] \n",
    "    if act not in ['falls asleep','wakes up']:\n",
    "        g = act.split('#')[1].split(' ')[0]\n",
    "    \n",
    "    elif act == 'falls asleep':\n",
    "        t1 = df.time.iloc[i].minute\n",
    "    elif act == 'wakes up':\n",
    "        t2 = df.time.iloc[i].minute\n",
    "        for ts in range(t1,t2):\n",
    "            res.append([g,ts])\n",
    "            \n",
    "df_res= pd.DataFrame(res)\n",
    "df_res.columns = ['guard', 'time']\n",
    "most_guard = df_res.groupby('guard').count().sort_values(['time'],ascending=False).head(1).index[0]\n",
    "most_minutes = df_res[df_res['guard']==most_guard].groupby('time').count().sort_values(['guard'],ascending=False).head(1).index[0]\n",
    "print('Answer1 = ', int(most_guard)*most_minutes)"
   ]
  },
  {
   "cell_type": "code",
   "execution_count": 6,
   "metadata": {},
   "outputs": [
    {
     "name": "stdout",
     "output_type": "stream",
     "text": [
      "Answer2 =  136571\n"
     ]
    }
   ],
   "source": [
    "# 2\n",
    "df_res['col'] = 1\n",
    "a,b = df_res.groupby(['guard','time']).count().sort_values(['col'],ascending=False).head(1).index[0]\n",
    "print('Answer2 = ',int(a)*b)"
   ]
  },
  {
   "cell_type": "code",
   "execution_count": null,
   "metadata": {},
   "outputs": [],
   "source": []
  },
  {
   "cell_type": "markdown",
   "metadata": {},
   "source": [
    "# Day 5"
   ]
  },
  {
   "cell_type": "code",
   "execution_count": 2,
   "metadata": {},
   "outputs": [],
   "source": [
    "# 1\n",
    "url = 'https://adventofcode.com/2018/day/5/input'\n",
    "r = requests.post(url, cookies=cookie)\n",
    "inp = r.text\n",
    "lst = inp.split('\\n')[:-1]"
   ]
  },
  {
   "cell_type": "code",
   "execution_count": 3,
   "metadata": {},
   "outputs": [],
   "source": [
    "def react(s):\n",
    "    flag = False\n",
    "    s_new = ''\n",
    "    for i in range(0,len(s)):\n",
    "        if flag:\n",
    "            flag = False\n",
    "            continue    \n",
    "        elif i == len(s)-1:\n",
    "            s_new += s[i]\n",
    "        elif s[i].lower()==s[i+1].lower() and s[i]!=s[i+1]:\n",
    "            flag = True\n",
    "            continue\n",
    "        else:\n",
    "            s_new += s[i]\n",
    "    return s_new"
   ]
  },
  {
   "cell_type": "code",
   "execution_count": 4,
   "metadata": {},
   "outputs": [
    {
     "name": "stdout",
     "output_type": "stream",
     "text": [
      "11310\n"
     ]
    }
   ],
   "source": [
    "s = lst[0]\n",
    "while True:\n",
    "    s_new = react(s)\n",
    "    if s == s_new:\n",
    "        print(len(s_new))\n",
    "        break\n",
    "    else:\n",
    "        s = s_new"
   ]
  },
  {
   "cell_type": "code",
   "execution_count": 5,
   "metadata": {},
   "outputs": [
    {
     "name": "stdout",
     "output_type": "stream",
     "text": [
      "6020\n"
     ]
    }
   ],
   "source": [
    "#2\n",
    "import string\n",
    "minval = len(s)\n",
    "for i in string.ascii_lowercase:\n",
    "    s = lst[0]\n",
    "    s = s.replace(i,'')\n",
    "    s = s.replace(i.upper(),'')\n",
    "    while True:\n",
    "        s_new = react(s)\n",
    "        if s == s_new:\n",
    "            if len(s_new)<minval:\n",
    "                minval = len(s_new)\n",
    "            break\n",
    "        else:\n",
    "            s = s_new\n",
    "print(minval)"
   ]
  },
  {
   "cell_type": "code",
   "execution_count": null,
   "metadata": {},
   "outputs": [],
   "source": []
  },
  {
   "cell_type": "markdown",
   "metadata": {},
   "source": [
    "# Day 6"
   ]
  },
  {
   "cell_type": "code",
   "execution_count": 2,
   "metadata": {},
   "outputs": [],
   "source": [
    "# 1\n",
    "url = 'https://adventofcode.com/2018/day/6/input'\n",
    "r = requests.post(url, cookies=cookie)\n",
    "inp = r.text\n",
    "lst = inp.split('\\n')[:-1]"
   ]
  },
  {
   "cell_type": "code",
   "execution_count": 3,
   "metadata": {},
   "outputs": [
    {
     "name": "stdout",
     "output_type": "stream",
     "text": [
      "46 352 47 359\n",
      "0 306 0 312\n"
     ]
    }
   ],
   "source": [
    "x = [int(i.split(',')[0]) for i in lst]\n",
    "y = [int(i.split(' ')[1]) for i in lst]\n",
    "print(min(x), max(x), min(y), max(y))\n",
    "x = [i-min(x) for i in x]\n",
    "y = [i-min(y) for i in y]\n",
    "print(min(x), max(x), min(y), max(y))"
   ]
  },
  {
   "cell_type": "code",
   "execution_count": 4,
   "metadata": {},
   "outputs": [],
   "source": [
    "def mdist(x1,y1,x2,y2):\n",
    "    return abs(x1-x2)+abs(y1-y2)\n",
    "\n",
    "\n",
    "main = []\n",
    "k = 0\n",
    "for i in zip(x,y):\n",
    "    main.append([k,i[0],i[1]])\n",
    "    k+=1\n",
    "\n",
    "    \n",
    "def findmin(x,y, main):\n",
    "    res =  1e3\n",
    "    for i in range(len(main)):\n",
    "        t = mdist(x,y,main[i][1],main[i][2])\n",
    "        if t<res:\n",
    "            res = t\n",
    "            count = 0\n",
    "            point = main[i][0]\n",
    "        elif t==res:\n",
    "            count+=1\n",
    "    if count>0:\n",
    "        point = -1\n",
    "    return point\n",
    "\n",
    "\n",
    "main_dict = {}\n",
    "for i in range(max(x)):\n",
    "    for j in range(max(y)):\n",
    "        main_dict[(i,j)]=findmin(i,j,main) "
   ]
  },
  {
   "cell_type": "code",
   "execution_count": 5,
   "metadata": {},
   "outputs": [
    {
     "name": "stdout",
     "output_type": "stream",
     "text": [
      "[0, 1, 2, 5, 10, 11, 14, 16, 24, 26, 27, 33, 35, 36, 39, 41, 44, 47, 48, 49, -1]\n"
     ]
    }
   ],
   "source": [
    "infinitePoints = []\n",
    "for i in [0, max(x)-1]:\n",
    "    for j in range(max(y)):\n",
    "        infinitePoints.append(main_dict[(i,j)])\n",
    "        \n",
    "for j in [0, max(y)-1]:\n",
    "    for i in range(max(x)):\n",
    "        infinitePoints.append(main_dict[(i,j)])\n",
    "\n",
    "infinitePoints = list(set(infinitePoints))\n",
    "print(infinitePoints)"
   ]
  },
  {
   "cell_type": "code",
   "execution_count": 6,
   "metadata": {},
   "outputs": [
    {
     "data": {
      "text/html": [
       "<div>\n",
       "<style scoped>\n",
       "    .dataframe tbody tr th:only-of-type {\n",
       "        vertical-align: middle;\n",
       "    }\n",
       "\n",
       "    .dataframe tbody tr th {\n",
       "        vertical-align: top;\n",
       "    }\n",
       "\n",
       "    .dataframe thead th {\n",
       "        text-align: right;\n",
       "    }\n",
       "</style>\n",
       "<table border=\"1\" class=\"dataframe\">\n",
       "  <thead>\n",
       "    <tr style=\"text-align: right;\">\n",
       "      <th></th>\n",
       "      <th>index</th>\n",
       "    </tr>\n",
       "    <tr>\n",
       "      <th>points</th>\n",
       "      <th></th>\n",
       "    </tr>\n",
       "  </thead>\n",
       "  <tbody>\n",
       "    <tr>\n",
       "      <th>28</th>\n",
       "      <td>3449</td>\n",
       "    </tr>\n",
       "  </tbody>\n",
       "</table>\n",
       "</div>"
      ],
      "text/plain": [
       "        index\n",
       "points       \n",
       "28       3449"
      ]
     },
     "execution_count": 6,
     "metadata": {},
     "output_type": "execute_result"
    }
   ],
   "source": [
    "import pandas as pd\n",
    "main_pd = pd.DataFrame(list(main_dict.values()),columns = ['points']).reset_index()\n",
    "main_pd = main_pd[~main_pd['points'].isin(infinitePoints)]\n",
    "main_pd.groupby('points').count().sort_values('index', ascending=False).head(1)"
   ]
  },
  {
   "cell_type": "code",
   "execution_count": 7,
   "metadata": {},
   "outputs": [
    {
     "data": {
      "text/plain": [
       "44868"
      ]
     },
     "execution_count": 7,
     "metadata": {},
     "output_type": "execute_result"
    }
   ],
   "source": [
    "# 2 \n",
    "def sumdist(x,y, main):\n",
    "    summ = 0\n",
    "    for i in range(len(main)):\n",
    "        t = mdist(x,y,main[i][1],main[i][2])\n",
    "        summ += t\n",
    "    if summ<10000:\n",
    "        return 1\n",
    "    else:\n",
    "        return 0\n",
    "    \n",
    "num = 0 \n",
    "for i in range(max(x)):\n",
    "    for j in range(max(y)):\n",
    "        num += sumdist(i,j,main)\n",
    "num"
   ]
  },
  {
   "cell_type": "code",
   "execution_count": null,
   "metadata": {},
   "outputs": [],
   "source": []
  },
  {
   "cell_type": "markdown",
   "metadata": {},
   "source": [
    "# Day 7"
   ]
  },
  {
   "cell_type": "code",
   "execution_count": 2,
   "metadata": {},
   "outputs": [],
   "source": [
    "# 1\n",
    "url = 'https://adventofcode.com/2018/day/7/input'\n",
    "r = requests.post(url, cookies=cookie)\n",
    "inp = r.text\n",
    "lst = inp.split('\\n')[:-1]"
   ]
  },
  {
   "cell_type": "code",
   "execution_count": 3,
   "metadata": {},
   "outputs": [],
   "source": [
    "t1 = [i.split(' ')[1] for i in lst]\n",
    "t2 = [i.split('step ')[1].split(' ')[0] for i in lst]\n",
    "l = len(list(set(t1 + t2)))"
   ]
  },
  {
   "cell_type": "code",
   "execution_count": 4,
   "metadata": {},
   "outputs": [
    {
     "name": "stdout",
     "output_type": "stream",
     "text": [
      "GKPTSLUXBIJMNCADFOVHEWYQRZ\n"
     ]
    }
   ],
   "source": [
    "def getfirst(t1,t2):\n",
    "    free = list(set(t1)-set(t2))\n",
    "    free.sort()\n",
    "    res = free[0]\n",
    "    for i in range(len(t1)):\n",
    "        if t1[i] == res:\n",
    "            t1[i] = t2[i]\n",
    "            t2[i] = ''\n",
    "            \n",
    "    return t1,t2,res\n",
    "\n",
    "ans = ''\n",
    "for i in range(l):\n",
    "    t1,t2,a = getfirst(t1,t2)\n",
    "    ans += a\n",
    "print(ans)"
   ]
  },
  {
   "cell_type": "code",
   "execution_count": 5,
   "metadata": {},
   "outputs": [
    {
     "name": "stdout",
     "output_type": "stream",
     "text": [
      "920\n"
     ]
    }
   ],
   "source": [
    "#2\n",
    "workers = {'1':[0,''],'2':[0,''],'3':[0,''],'4':[0,''],'5':[0,'']}\n",
    "t1 = [i.split(' ')[1] for i in lst]\n",
    "t2 = [i.split('step ')[1].split(' ')[0] for i in lst]\n",
    "l = len(list(set(t1 + t2)))\n",
    "\n",
    "time = 0 \n",
    "\n",
    "import string\n",
    "def convert(letter):\n",
    "    # get time per letter \n",
    "    return 1 + list(string.ascii_uppercase).index(letter)\n",
    "\n",
    "\n",
    "while True: \n",
    "    #if work done by worker_i\n",
    "    for i in workers.keys():\n",
    "        if workers[i][0]==0 and workers[i][1]!='':\n",
    "            for j in range(len(t1)):\n",
    "                if t1[j] == workers[i][1]:\n",
    "                    t1[j] = t2[j]\n",
    "                    t2[j] = ''\n",
    "            workers[i] = [0,'']\n",
    "            l -= 1\n",
    "    \n",
    "    if l==0: \n",
    "        #all work done\n",
    "        break\n",
    "\n",
    "    # if there free workers and free jobs to do\n",
    "    free_workers_num =len([j[0] for j in workers.values() if j[0]==0])\n",
    "    if free_workers_num>0:    \n",
    "        free = set(t1)-set(t2)\n",
    "        ready = list(free - set([j[1] for j in workers.values()]))\n",
    "        ready.sort()\n",
    "        for k in range(min(len(ready), free_workers_num)):\n",
    "            for h in workers.keys():\n",
    "                if workers[h][0]==0:\n",
    "                    workers[h] = [convert(ready[k])+60, ready[k]]   \n",
    "                    break\n",
    "\n",
    "    # increment time and subtract workers time.\n",
    "    time += 1\n",
    "    for h in workers.keys():\n",
    "        if workers[h][1]!='':\n",
    "            workers[h][0] -= 1\n",
    "                \n",
    "print(time)"
   ]
  },
  {
   "cell_type": "code",
   "execution_count": null,
   "metadata": {},
   "outputs": [],
   "source": []
  },
  {
   "cell_type": "markdown",
   "metadata": {},
   "source": [
    "# Day 8"
   ]
  },
  {
   "cell_type": "code",
   "execution_count": 2,
   "metadata": {},
   "outputs": [],
   "source": [
    "# 1\n",
    "url = 'https://adventofcode.com/2018/day/8/input'\n",
    "r = requests.post(url, cookies=cookie)\n",
    "inp = r.text\n",
    "lst = inp.split('\\n')[:-1]"
   ]
  },
  {
   "cell_type": "code",
   "execution_count": 3,
   "metadata": {},
   "outputs": [
    {
     "data": {
      "text/plain": [
       "46829"
      ]
     },
     "execution_count": 3,
     "metadata": {},
     "output_type": "execute_result"
    }
   ],
   "source": [
    "inp = [int(x) for x in lst[0].split(' ')]\n",
    "\n",
    "def getMeta(inp, start):\n",
    "    s = 0\n",
    "    nodes = inp[start]\n",
    "    m = inp[start+1]\n",
    "    cursor = start+2\n",
    "    \n",
    "    while nodes>0:\n",
    "        cursor,meta = getMeta(inp, cursor)\n",
    "        s += meta\n",
    "        nodes -= 1\n",
    "        \n",
    "    if nodes == 0:\n",
    "        meta = sum(inp[cursor:cursor+m])\n",
    "\n",
    "    return cursor+m,s + meta\n",
    "\n",
    "getMeta(inp,0)[1]"
   ]
  },
  {
   "cell_type": "code",
   "execution_count": 4,
   "metadata": {},
   "outputs": [
    {
     "data": {
      "text/plain": [
       "37450"
      ]
     },
     "execution_count": 4,
     "metadata": {},
     "output_type": "execute_result"
    }
   ],
   "source": [
    "#2\n",
    "def getMeta2(inp, start):\n",
    "    s = 0\n",
    "    nodes = inp[start]\n",
    "    m = inp[start+1]\n",
    "    cursor = start+2\n",
    "    \n",
    "    meta_tmp = []\n",
    "    while nodes>0:\n",
    "        cursor,meta_tmp_val = getMeta2(inp, cursor)\n",
    "        meta_tmp.append(meta_tmp_val)\n",
    "        nodes -= 1\n",
    "        \n",
    "    meta = inp[cursor:cursor+m]\n",
    "    if len(meta_tmp)!=0:\n",
    "        meta.append(meta_tmp)\n",
    "    else:\n",
    "        meta.append(0)\n",
    "        \n",
    "    return cursor+m, meta\n",
    "\n",
    "inp2 = getMeta2(inp, 0)[1]\n",
    "\n",
    "def getvalue(inp):\n",
    "    if inp[-1]==0:\n",
    "        return sum(inp)\n",
    "    \n",
    "    s = 0\n",
    "    for i in range(len(inp)-1):\n",
    "        if inp[i]-1< len(inp[-1]):\n",
    "            s += getvalue(inp[-1][inp[i]-1])\n",
    "    return s\n",
    "\n",
    "getvalue(inp2)"
   ]
  },
  {
   "cell_type": "code",
   "execution_count": null,
   "metadata": {},
   "outputs": [],
   "source": []
  },
  {
   "cell_type": "markdown",
   "metadata": {},
   "source": [
    "# Day 9"
   ]
  },
  {
   "cell_type": "code",
   "execution_count": 2,
   "metadata": {},
   "outputs": [],
   "source": [
    "# 1\n",
    "url = 'https://adventofcode.com/2018/day/9/input'\n",
    "r = requests.post(url, cookies=cookie)\n",
    "inp = r.text\n",
    "lst = inp.split('\\n')[:-1]"
   ]
  },
  {
   "cell_type": "code",
   "execution_count": 3,
   "metadata": {},
   "outputs": [
    {
     "data": {
      "text/plain": [
       "['459 players; last marble is worth 71790 points']"
      ]
     },
     "execution_count": 3,
     "metadata": {},
     "output_type": "execute_result"
    }
   ],
   "source": [
    "lst"
   ]
  },
  {
   "cell_type": "code",
   "execution_count": 4,
   "metadata": {},
   "outputs": [
    {
     "data": {
      "text/plain": [
       "(18, 386151)"
      ]
     },
     "execution_count": 4,
     "metadata": {},
     "output_type": "execute_result"
    }
   ],
   "source": [
    "from collections import deque\n",
    "\n",
    "def marblegame(players, last):\n",
    "    s = deque([0])\n",
    "    plrs = {}\n",
    "    current = 1\n",
    "    for i in range(players):\n",
    "        plrs[i] = 0\n",
    "    while current<=last:\n",
    "        if current%23==0:\n",
    "            s.rotate(-7)\n",
    "            #pos = (pos -7)%len(s)\n",
    "            score = current + s.pop()\n",
    "            plrs[current%players] += score\n",
    "        else:\n",
    "            s.rotate(2)\n",
    "            #pos = (pos+2)%len(s)\n",
    "            s.append(current)\n",
    "        current += 1\n",
    "    return max(plrs, key=plrs.get), max(plrs.values())\n",
    "\n",
    "marblegame(459, 71790)"
   ]
  },
  {
   "cell_type": "code",
   "execution_count": 5,
   "metadata": {},
   "outputs": [
    {
     "data": {
      "text/plain": [
       "(390, 3211264152)"
      ]
     },
     "execution_count": 5,
     "metadata": {},
     "output_type": "execute_result"
    }
   ],
   "source": [
    "marblegame(459, 7179000)"
   ]
  },
  {
   "cell_type": "code",
   "execution_count": null,
   "metadata": {},
   "outputs": [],
   "source": []
  },
  {
   "cell_type": "markdown",
   "metadata": {},
   "source": [
    "# Day 10"
   ]
  },
  {
   "cell_type": "code",
   "execution_count": 2,
   "metadata": {},
   "outputs": [],
   "source": [
    "# 1\n",
    "url = 'https://adventofcode.com/2018/day/10/input'\n",
    "r = requests.post(url, cookies=cookie)\n",
    "inp = r.text\n",
    "lst = inp.split('\\n')[:-1]"
   ]
  },
  {
   "cell_type": "code",
   "execution_count": 3,
   "metadata": {},
   "outputs": [
    {
     "data": {
      "text/plain": [
       "['position=< 41660,  20869> velocity=<-4, -2>',\n",
       " 'position=< 41617,  10491> velocity=<-4, -1>']"
      ]
     },
     "execution_count": 3,
     "metadata": {},
     "output_type": "execute_result"
    }
   ],
   "source": [
    "lst[:2]"
   ]
  },
  {
   "cell_type": "code",
   "execution_count": 4,
   "metadata": {},
   "outputs": [],
   "source": [
    "X = [int(i.split('=<')[1].split(',')[0]) for i in lst]\n",
    "Y = [int(i.split(', ')[1].split('>')[0]) for i in lst]\n",
    "Vx = [int(i.split('velocity=<')[1].split(',')[0]) for i in lst]\n",
    "Vy = [int(i.split('velocity=<')[1].split(', ')[1].split('>')[0]) for i in lst]\n",
    "\n",
    "def plussec(X,Y,Vx,Vy):\n",
    "    X = [x_i + vx_i for x_i, vx_i in zip(X, Vx)]\n",
    "    Y = [y_i + yx_i for y_i, yx_i in zip(Y, Vy)]\n",
    "    return X, Y"
   ]
  },
  {
   "cell_type": "code",
   "execution_count": 5,
   "metadata": {},
   "outputs": [
    {
     "data": {
      "text/plain": [
       "(70, 10368)"
      ]
     },
     "execution_count": 5,
     "metadata": {},
     "output_type": "execute_result"
    }
   ],
   "source": [
    "import numpy as np\n",
    "\n",
    "def getminsize(X,Y):\n",
    "    return max(X)-min(X) + max(Y)- min(Y) \n",
    "\n",
    "X1,Y1 = X.copy(), Y.copy()\n",
    "a = []\n",
    "for i in range(15000):\n",
    "    X1,Y1 = plussec(X1,Y1,Vx,Vy)\n",
    "    a.append(getminsize(X1,Y1))\n",
    "\n",
    "min(a), np.argmin(a)"
   ]
  },
  {
   "cell_type": "code",
   "execution_count": 6,
   "metadata": {},
   "outputs": [
    {
     "name": "stdout",
     "output_type": "stream",
     "text": [
      "#....#..#####......###..#....#..######..######...####...#####.\n",
      "#...#...#....#......#...#....#..#............#..#....#..#....#\n",
      "#..#....#....#......#...#....#..#............#..#.......#....#\n",
      "#.#.....#....#......#...#....#..#...........#...#.......#....#\n",
      "##......#####.......#...######..#####......#....#.......#####.\n",
      "##......#....#......#...#....#..#.........#.....#.......#....#\n",
      "#.#.....#....#......#...#....#..#........#......#.......#....#\n",
      "#..#....#....#..#...#...#....#..#.......#.......#.......#....#\n",
      "#...#...#....#..#...#...#....#..#.......#.......#....#..#....#\n",
      "#....#..#####....###....#....#..######..######...####...#####.\n"
     ]
    }
   ],
   "source": [
    "seconds_to_wait = np.argmin(a)+1\n",
    "for i in range(seconds_to_wait):\n",
    "    X,Y = plussec(X,Y,Vx,Vy)\n",
    "\n",
    "def draw(X,Y):\n",
    "    X = [i - min(X) for i in X]\n",
    "    Y = [i - min(Y) for i in Y]\n",
    "    M = [['.']*(max(X)+1) for i in range(max(Y)+1)]\n",
    "    for i in zip(X,Y):\n",
    "        M[i[1]][i[0]] = '#'\n",
    "    return M \n",
    "\n",
    "figure = draw(X,Y)\n",
    "\n",
    "for i in range(len(figure)):\n",
    "    s = ''\n",
    "    for j in figure[i]:\n",
    "        s += j\n",
    "    print(s)"
   ]
  },
  {
   "cell_type": "code",
   "execution_count": 7,
   "metadata": {},
   "outputs": [
    {
     "name": "stdout",
     "output_type": "stream",
     "text": [
      "10369\n"
     ]
    }
   ],
   "source": [
    "#2\n",
    "print(seconds_to_wait)"
   ]
  },
  {
   "cell_type": "code",
   "execution_count": null,
   "metadata": {},
   "outputs": [],
   "source": []
  },
  {
   "cell_type": "markdown",
   "metadata": {},
   "source": [
    "# Day 11"
   ]
  },
  {
   "cell_type": "code",
   "execution_count": 1,
   "metadata": {},
   "outputs": [
    {
     "data": {
      "text/plain": [
       "(235, 14)"
      ]
     },
     "execution_count": 1,
     "metadata": {},
     "output_type": "execute_result"
    }
   ],
   "source": [
    "# 1\n",
    "inp = 1133\n",
    "\n",
    "def powerlevel(x,y,serial):\n",
    "    s = str(((x + 10)*y + serial)*(x+10))\n",
    "    if len(s)>2:\n",
    "        s = int(s[-3])\n",
    "    else:\n",
    "        s = 0\n",
    "    return s - 5\n",
    "\n",
    "\n",
    "a = []\n",
    "for x in range(1,301):\n",
    "    tmp = []\n",
    "    for y in range(1,301):\n",
    "        tmp.append(powerlevel(x,y,inp))\n",
    "    a.append(tmp)\n",
    "\n",
    "def totalpower(a,x,y):\n",
    "    return a[x-1][y-1] + a[x-1][y] + a[x-1][y+1] + \\\n",
    "    a[x][y-1] + a[x][y] + a[x][y+1] + \\\n",
    "    a[x+1][y-1] + a[x+1][y] + a[x+1][y+1]\n",
    "\n",
    "\n",
    "m = totalpower(a,0,0) #init\n",
    "\n",
    "for i in range(1,299):\n",
    "    for j in range(1,299):\n",
    "        tmp = totalpower(a,i,j)\n",
    "        if tmp>m:\n",
    "            m=tmp\n",
    "            res = (i,j)\n",
    "res"
   ]
  },
  {
   "cell_type": "code",
   "execution_count": 2,
   "metadata": {
    "scrolled": true
   },
   "outputs": [
    {
     "name": "stdout",
     "output_type": "stream",
     "text": [
      "(237, 227, 14)\n",
      "111.0 seconds\n"
     ]
    }
   ],
   "source": [
    "#2 brute force solution\n",
    "import time\n",
    "s = time.time()\n",
    "import numpy as np\n",
    "npa = np.array(a)\n",
    "\n",
    "def totalpowerX(npa,x,y,d):\n",
    "    return np.sum(npa[x-1:x-1+d,y-1:y-1+d])\n",
    "\n",
    "m = 0 \n",
    "for d in range(1,301):\n",
    "    for i in range(1,301-d):\n",
    "        for j in range(1,301-d):\n",
    "            tmp = totalpowerX(npa,i,j,d)\n",
    "            if tmp>m:\n",
    "                m=tmp\n",
    "                res = (i,j,d)\n",
    "print(res)\n",
    "print(round(time.time()-s,0),'seconds')"
   ]
  },
  {
   "cell_type": "code",
   "execution_count": 3,
   "metadata": {},
   "outputs": [
    {
     "name": "stdout",
     "output_type": "stream",
     "text": [
      "(237, 227, 14)\n",
      "9.0 seconds\n"
     ]
    }
   ],
   "source": [
    "#2  https://en.wikipedia.org/wiki/Summed-area_table\n",
    "s = time.time()\n",
    "npa = np.array(a)\n",
    "sat = npa.copy()\n",
    "\n",
    "for i in range(1,len(npa)):\n",
    "    for j in range(1,len(npa[i])):\n",
    "        sat[i,j] = sat[i-1,j] + sat[i,j-1] + npa[i,j] - sat[i-1,j-1]\n",
    "\n",
    "sat_padded = np.zeros((301,301)) # to handle with [-1,-1] cases in totalpowerX\n",
    "sat_padded[:-1,:-1] = sat\n",
    "\n",
    "def totalpowerX(sat_padded,x,y,d):\n",
    "    return sat_padded[x+d-1,y+d-1] + sat_padded[x-1,y-1] - sat_padded[x-1,y+d-1] - sat_padded[x+d-1,y-1]\n",
    "    \n",
    "m=0\n",
    "for d in range(1,301):\n",
    "    for i in range(1,301-d):\n",
    "        for j in range(1,301-d):\n",
    "            tmp = totalpowerX(sat_padded,i-1,j-1,d)\n",
    "            if tmp>m:\n",
    "                m=tmp\n",
    "                res = (i,j,d)\n",
    "print(res)\n",
    "print(round(time.time()-s,0),'seconds')"
   ]
  },
  {
   "cell_type": "code",
   "execution_count": null,
   "metadata": {},
   "outputs": [],
   "source": []
  },
  {
   "cell_type": "markdown",
   "metadata": {},
   "source": [
    "# Day 12"
   ]
  },
  {
   "cell_type": "code",
   "execution_count": 1,
   "metadata": {},
   "outputs": [],
   "source": [
    "# 1\n",
    "import requests\n",
    "c = open('cookie.txt').readline()\n",
    "cookie = {'session': c[:-1]}\n",
    "url = 'https://adventofcode.com/2018/day/12/input'\n",
    "r = requests.post(url, cookies=cookie)\n",
    "inp = r.text\n",
    "lst = inp.split('\\n')[:-1]"
   ]
  },
  {
   "cell_type": "code",
   "execution_count": 2,
   "metadata": {},
   "outputs": [
    {
     "data": {
      "text/plain": [
       "3051"
      ]
     },
     "execution_count": 2,
     "metadata": {},
     "output_type": "execute_result"
    }
   ],
   "source": [
    "init = lst[0].split(': ')[1]\n",
    "tr = {}\n",
    "a = [i.split(' ')[0] for i in lst[2:]]\n",
    "b = [i.split(' ')[-1] for i in lst[2:]]\n",
    "for i in zip(a,b):\n",
    "    tr[i[0]]=i[1]\n",
    "\n",
    "paddings = 40\n",
    "init = '.'*paddings + init + '.'*paddings\n",
    "\n",
    "def rules(s):\n",
    "    if s in tr.keys():\n",
    "        return tr[s]\n",
    "    else:\n",
    "        return '.'\n",
    "    \n",
    "for k in range(20):\n",
    "    init1=''\n",
    "    for i in range(len(init)-4):\n",
    "        init1 += rules(init[i:i+5])\n",
    "    init= '..'+init1+'..'\n",
    "    \n",
    "count = 0\n",
    "for i in range(paddings):\n",
    "    if init[i]=='#':\n",
    "        count-= (paddings-i)\n",
    "for i in range(len(init[paddings:])):\n",
    "    if init[paddings+i]=='#':\n",
    "        count+=i\n",
    "        \n",
    "count"
   ]
  },
  {
   "cell_type": "code",
   "execution_count": 3,
   "metadata": {
    "scrolled": false
   },
   "outputs": [
    {
     "name": "stdout",
     "output_type": "stream",
     "text": [
      "167 155 166\n",
      "168 156 166\n",
      "169 157 166\n",
      "170 158 166\n",
      "171 159 166\n",
      "172 160 166\n"
     ]
    }
   ],
   "source": [
    "#2\n",
    "init = lst[0].split(': ')[1]\n",
    "paddings = 40\n",
    "init = '.'*paddings + init + '.'*paddings\n",
    "kk = 50000000000\n",
    "sim = {}\n",
    "Z= 0\n",
    "for k in range(kk):\n",
    "    init1=''\n",
    "    for i in range(len(init)-4):\n",
    "        init1 += rules(init[i:i+5])\n",
    "    init= '..'+init1+'..'\n",
    "    # \n",
    "    if init[-5:]!='.....':\n",
    "        init+='...'\n",
    "    shift = init.find('#')\n",
    "    x = init[shift:(None if -init[::-1].find('#')==0 else -init[::-1].find('#'))]\n",
    "    if x in sim.values():\n",
    "        ind = list(sim.keys())[list(sim.values()).index(x)]\n",
    "        print(k,shift, ind)\n",
    "        Z+=1\n",
    "    else:\n",
    "        sim[k]=x\n",
    "    if Z>5:\n",
    "        break"
   ]
  },
  {
   "cell_type": "code",
   "execution_count": 4,
   "metadata": {},
   "outputs": [
    {
     "name": "stdout",
     "output_type": "stream",
     "text": [
      "5167\n",
      "1300000000669\n"
     ]
    }
   ],
   "source": [
    "count = 0\n",
    "for i in range(paddings):\n",
    "    if init[i]=='#':\n",
    "        count-= (paddings-i)\n",
    "for i in range(len(init[paddings:])):\n",
    "    if init[paddings+i]=='#':\n",
    "        count+=i\n",
    "print(count)\n",
    "\n",
    "megashift = kk - 1 - k\n",
    "print(megashift*sim[ind].count('#') + count)"
   ]
  },
  {
   "cell_type": "code",
   "execution_count": null,
   "metadata": {},
   "outputs": [],
   "source": []
  },
  {
   "cell_type": "markdown",
   "metadata": {},
   "source": [
    "# Day 13"
   ]
  },
  {
   "cell_type": "code",
   "execution_count": 1,
   "metadata": {},
   "outputs": [],
   "source": [
    "# 1 and 2 together\n",
    "import requests\n",
    "c = open('cookie.txt').readline()\n",
    "cookie = {'session': c[:-1]}\n",
    "url = 'https://adventofcode.com/2018/day/13/input'\n",
    "r = requests.post(url, cookies=cookie)\n",
    "inp = r.text\n",
    "lst = inp.split('\\n')[:-1]"
   ]
  },
  {
   "cell_type": "code",
   "execution_count": 7,
   "metadata": {},
   "outputs": [
    {
     "name": "stdout",
     "output_type": "stream",
     "text": [
      "Crash 32 8\n",
      "Crash 99 112\n",
      "Crash 123 41\n",
      "Crash 47 85\n",
      "Crash 137 54\n",
      "Crash 11 10\n",
      "Crash 34 39\n",
      "Crash 26 38\n",
      "[[38, 38, 'v', 4240]]\n"
     ]
    }
   ],
   "source": [
    "mapp = {}\n",
    "for j in range(len(lst)):\n",
    "    for i in range(len(lst[0])):\n",
    "        mapp[(i,j)] = lst[j][i]\n",
    "\n",
    "rotation_order= 'left, stright, right'\n",
    "\n",
    "carts = [] # ordered position of carts at moment zero\n",
    "for j in range(len(lst)):\n",
    "    for i in range(len(lst[0])):\n",
    "        if mapp[(i,j)] in ['<','>','^','v']:\n",
    "            carts.append([i,j,mapp[(i,j)],0])\n",
    "        \n",
    "moves = [['>^v^v',1,0],\n",
    "         ['<v^v^',-1,0],\n",
    "         ['^><<>',0,-1],\n",
    "         ['v<>><',0,1]] \n",
    "        # ['current,/,\\,+0,+2',+i,+j]\n",
    "\n",
    "def tick(cart):\n",
    "    i,j,d,r = cart         \n",
    "    for m in moves:\n",
    "        if d == m[0][0]:\n",
    "            i+=m[1]\n",
    "            j+=m[2]\n",
    "            if mapp[(i,j)]=='/':\n",
    "                d = m[0][1]\n",
    "            elif mapp[(i,j)]=='\\\\':\n",
    "                d = m[0][2]\n",
    "            elif mapp[(i,j)]=='+':\n",
    "                if r%3==0:\n",
    "                    d=m[0][3]\n",
    "                elif r%3==2:\n",
    "                    d=m[0][4]\n",
    "                r+=1\n",
    "            break\n",
    "    return [i,j,d,r]\n",
    "    \n",
    "def move(carts):\n",
    "    todel = []\n",
    "    flag = False\n",
    "    for k in range(len(carts)):\n",
    "        if k in todel:\n",
    "            continue \n",
    "        \n",
    "        carts[k] = tick(carts[k])\n",
    "        \n",
    "        i1,j1,_,_ = carts[k]\n",
    "        for h in range(len(carts)):\n",
    "            if h==k:\n",
    "                continue\n",
    "            if (i1,j1) == (carts[h][0],carts[h][1]):\n",
    "                print('Crash', i1,j1)\n",
    "                todel.extend([k,h])\n",
    "    \n",
    "    for index in sorted(todel, reverse=True):\n",
    "        del carts[index]\n",
    "    \n",
    "    if len(carts)==1:\n",
    "        flag=True\n",
    "    carts.sort(key = lambda x: (x[1],x[0]))\n",
    "    return carts, flag\n",
    "\n",
    "\n",
    "while True:\n",
    "    carts,flag = move(carts)\n",
    "    if flag:\n",
    "        print(carts)\n",
    "        break"
   ]
  },
  {
   "cell_type": "code",
   "execution_count": null,
   "metadata": {},
   "outputs": [],
   "source": []
  },
  {
   "cell_type": "markdown",
   "metadata": {},
   "source": [
    "# Day 14"
   ]
  },
  {
   "cell_type": "code",
   "execution_count": 1,
   "metadata": {},
   "outputs": [
    {
     "name": "stdout",
     "output_type": "stream",
     "text": [
      "7861362411\n"
     ]
    }
   ],
   "source": [
    "# 1\n",
    "lst = 919901\n",
    "\n",
    "s = [3,7]\n",
    "pos1=0\n",
    "pos2=1\n",
    "\n",
    "while len(s)<lst+10:\n",
    "    cur = s[pos1]+s[pos2]\n",
    "    if cur>9:\n",
    "        s.append(1)\n",
    "        s.append(cur-10)\n",
    "    else:\n",
    "        s.append(cur)\n",
    "    pos1 = (pos1  + (s[pos1]+1))%len(s)\n",
    "    pos2 = (pos2  + (s[pos2]+1))%len(s)\n",
    "res = s[lst:lst+10]\n",
    "ans=''\n",
    "for i in res:\n",
    "    ans+=str(i)\n",
    "print(ans)"
   ]
  },
  {
   "cell_type": "code",
   "execution_count": 2,
   "metadata": {},
   "outputs": [
    {
     "name": "stdout",
     "output_type": "stream",
     "text": [
      "ans 20203532\n"
     ]
    }
   ],
   "source": [
    "#2 \n",
    "s = [3,7]\n",
    "pos1=0\n",
    "pos2=1\n",
    "inp = str(lst)\n",
    "inp = [int(x) for x in inp]\n",
    "\n",
    "while True:\n",
    "    cur = s[pos1]+s[pos2]\n",
    "    if cur>9:\n",
    "        s.append(1)\n",
    "        s.append(cur-10)\n",
    "    else:\n",
    "        s.append(cur)\n",
    "    pos1 = (pos1  + (s[pos1]+1))%len(s)\n",
    "    pos2 = (pos2  + (s[pos2]+1))%len(s)\n",
    "    \n",
    "    \n",
    "    if s[-len(inp):] == inp:\n",
    "        print('ans', len(s)-len(inp))\n",
    "        break\n",
    "        \n",
    "    elif s[-len(inp)-1:-1] == inp:\n",
    "        print('ans',len(s)-1-len(inp))\n",
    "        break"
   ]
  },
  {
   "cell_type": "code",
   "execution_count": null,
   "metadata": {},
   "outputs": [],
   "source": []
  },
  {
   "cell_type": "markdown",
   "metadata": {},
   "source": [
    "# Day 15"
   ]
  },
  {
   "cell_type": "code",
   "execution_count": 1,
   "metadata": {},
   "outputs": [
    {
     "data": {
      "text/plain": [
       "['################################',\n",
       " '################.#.#..##########',\n",
       " '################.#...G##########',\n",
       " '################...#############',\n",
       " '######..##########.#..##########',\n",
       " '####.G...#########.G...#########',\n",
       " '###.........######....##########',\n",
       " '##..#.##.....#....#....#########',\n",
       " '#G.#GG..................##.#####',\n",
       " '##.##..##..G........G.........##',\n",
       " '#######......G.G...............#',\n",
       " '#######........................#',\n",
       " '########.G....#####..E#...E.G..#',\n",
       " '#########G...#######...........#',\n",
       " '#########...#########.........##',\n",
       " '#####.......#########....G...###',\n",
       " '###.........#########.....E..###',\n",
       " '#...........#########.........##',\n",
       " '#..#....G..G#########........###',\n",
       " '#..#.........#######.........###',\n",
       " '#G.##G......E.#####...E..E..####',\n",
       " '##......E...............########',\n",
       " '#.....#G.G..............E..#####',\n",
       " '#....#####....E........###.#####',\n",
       " '#...#########.........####.#####',\n",
       " '#.###########......#.#####.#####',\n",
       " '#....##########.##...###########',\n",
       " '#....#############....##########',\n",
       " '##.##############E....##########',\n",
       " '##.##############..#############',\n",
       " '##....##########################',\n",
       " '################################']"
      ]
     },
     "execution_count": 1,
     "metadata": {},
     "output_type": "execute_result"
    }
   ],
   "source": [
    "import requests\n",
    "c = open('cookie.txt').readline()\n",
    "cookie = {'session': c[:-1]}\n",
    "url = 'https://adventofcode.com/2018/day/15/input'\n",
    "r = requests.post(url, cookies=cookie)\n",
    "inp = r.text\n",
    "lst = inp.split('\\n')[:-1]\n",
    "lst"
   ]
  },
  {
   "cell_type": "code",
   "execution_count": 2,
   "metadata": {},
   "outputs": [],
   "source": [
    "import copy\n",
    "\n",
    "def radar(t,lst,k,h):\n",
    "    move = True\n",
    "    e = list({'G','E'} - {h})[0]\n",
    "    next_radar = []\n",
    "    mindist = []\n",
    "    tt = [[-1,0],[0,-1],[0,1],[1,0]]\n",
    "    for i,j in t:\n",
    "        for ix,jx in tt:\n",
    "            if lst[i+ix][j+jx]==e:\n",
    "                mindist.append([i+ix,j+jx])\n",
    "            if lst[i+ix][j+jx]=='.':\n",
    "                lst[i+ix][j+jx]=str(1+k)\n",
    "                next_radar.append([i+ix,j+jx])\n",
    "    if k>40:  # to avoid too deep recursions for elements without target\n",
    "        return lst,[],False \n",
    "    if not len(mindist):\n",
    "        lst,mindist,move = radar(next_radar,lst,k+1,h)\n",
    "    elif k==0:\n",
    "        move = False\n",
    "    return lst, mindist, move\n",
    "\n",
    "\n",
    "def nearest_enemy(mindist,lst):\n",
    "    tt = [[-1,0],[0,-1],[0,1],[1,0]]\n",
    "    c = []\n",
    "    for i,j in mindist:\n",
    "        for ix,jx in tt:\n",
    "            if lst[i+ix][j+jx] in ['.','#','G','E']:\n",
    "                continue\n",
    "            else:\n",
    "                c.append([int(lst[i+ix][j+jx]),i+ix,j+jx])\n",
    "    c.sort(key=lambda x: (x[0],x[1],x[2]))\n",
    "    if len(c)>0:\n",
    "        return c[0][1:]\n",
    "    else:\n",
    "        return []\n",
    "    \n",
    "    \n",
    "def path_back(i,j,lst):\n",
    "    tt = [[-1,0],[0,-1],[0,1],[1,0]]\n",
    "    while True:\n",
    "        if int(lst[i][j])==1:\n",
    "            break\n",
    "        c = []\n",
    "        for ix,jx in tt:\n",
    "            if lst[i+ix][j+jx] in ['.','#','G','E']:\n",
    "                c.append(99)\n",
    "            else:\n",
    "                c.append(int(lst[i+ix][j+jx]))\n",
    "        if min(c)==99:\n",
    "            print('all 99 break')\n",
    "            break\n",
    "        mn,idx = min((c[i],i) for i in range(len(c)))\n",
    "        i,j = i+tt[idx][0], j+tt[idx][1]\n",
    "        if mn==1:\n",
    "            break\n",
    "    return (i,j)\n",
    "\n",
    "\n",
    "def get_mapp(lst):\n",
    "    mapp = [] # ordered position of carts at current moment\n",
    "    for i,v in enumerate(lst):\n",
    "        for j,vv in enumerate(v):\n",
    "            if vv in ['E','G']:\n",
    "                mapp.append([i,j,200,vv])\n",
    "    return mapp"
   ]
  },
  {
   "cell_type": "code",
   "execution_count": 3,
   "metadata": {
    "scrolled": false
   },
   "outputs": [
    {
     "name": "stdout",
     "output_type": "stream",
     "text": [
      "Aftr round: 66\n",
      "################################\n",
      "################.#.#..##########\n",
      "################.#....##########\n",
      "################...#############\n",
      "######..##########.#..##########\n",
      "####.....#########.....#########\n",
      "###.........######....##########\n",
      "##..#.##.....#....#....#########\n",
      "#..#....................##.#####\n",
      "##.##..##.....................##\n",
      "#######.....................G..# ('G', 200)\n",
      "#######..............G......G..# ('G', 200) ('G', 200)\n",
      "########......#####.G.#........# ('G', 200)\n",
      "#########....#######.....GG....# ('G', 170) ('G', 113)\n",
      "#########...#########...GG.G..## ('G', 200) ('G', 71) ('G', 200)\n",
      "#####.......#########..G..G..### ('G', 200) ('G', 20)\n",
      "###.........#########.G.G....### ('G', 92) ('G', 200)\n",
      "#...........#########.........##\n",
      "#..#........#########........###\n",
      "#..#.......G.#######.........### ('G', 188)\n",
      "#..##.......G.#####.........#### ('G', 71)\n",
      "##.........G...G........######## ('G', 95) ('G', 200)\n",
      "#.....#.......G............##### ('G', 200)\n",
      "#....#####.............###.#####\n",
      "#...#########.........####.#####\n",
      "#.###########......#.#####.#####\n",
      "#....##########.##...###########\n",
      "#....#############....##########\n",
      "##.##############.....##########\n",
      "##.##############..#############\n",
      "##....##########################\n",
      "################################\n",
      "65 2820\n",
      "183300\n"
     ]
    }
   ],
   "source": [
    "def get_ans(lst_test, damage=3,log=True):\n",
    "    mapp = get_mapp(lst_test)\n",
    "    itr_ans = 0\n",
    "    itr = 0\n",
    "    while True:\n",
    "        flag = False\n",
    "        dell = []\n",
    "        for idd,m in enumerate(mapp):\n",
    "            if idd==len(mapp)-1:\n",
    "                if len(set(''.join(lst_test)))<4:\n",
    "                    itr_ans = itr\n",
    "            #move\n",
    "            i,j,w,h = m\n",
    "            t = [[i,j]]\n",
    "            lstcopy = [list(x) for x in lst_test]\n",
    "            lst_radar = copy.deepcopy(lstcopy)\n",
    "            lst_radar,min_dist_enemy,move = radar(t,lst_radar,0,h)\n",
    "            if move:\n",
    "                ne = nearest_enemy(min_dist_enemy, lst_radar)\n",
    "                if len(ne)>0:\n",
    "                    k1,k2 = path_back(*ne[:2],lst_radar)\n",
    "                    lstcopy[i][j] = '.'\n",
    "                    lstcopy[k1][k2] = h\n",
    "                    mapp[idd] = [k1,k2, *mapp[idd][2:]]\n",
    "            #fight\n",
    "            if w<=0:\n",
    "                continue \n",
    "            tt = [[-1,0],[0,-1],[0,1],[1,0]]\n",
    "            enemy = []\n",
    "            i,j = mapp[idd][0], mapp[idd][1]\n",
    "            for l1,l2 in tt:\n",
    "                for ind,mm in enumerate(mapp):\n",
    "                    if [i+l1,j+l2] == mm[:2] and h!=mm[3] and mm[2]>0:\n",
    "                        enemy.append([*mm[:3],ind])\n",
    "            enemy.sort(key=lambda x:(x[2],x[0],x[1]))\n",
    "            if len(enemy)>0:\n",
    "                ind = enemy[0][3]\n",
    "                \n",
    "                if mapp[ind][3]=='G':\n",
    "                    # condition for part2 \n",
    "                    mapp[ind][2] -= damage\n",
    "                else:\n",
    "                    mapp[ind][2] -= 3\n",
    "                if mapp[ind][2]<=0:\n",
    "                    lstcopy[mapp[ind][0]][mapp[ind][1]] = '.'\n",
    "                    lst_test = [''.join(x) for x in lstcopy]  \n",
    "                    dell.append(ind)\n",
    "\n",
    "            lst_test = [''.join(x) for x in lstcopy]    \n",
    "        dell.sort(reverse=True)\n",
    "        for delete in dell:\n",
    "            del mapp[delete]\n",
    "\n",
    "        mapp.sort(key=lambda x:(x[0],x[1]))\n",
    "        itr+=1\n",
    "        if len(set(''.join(lst_test)))<4:\n",
    "            if itr_ans ==0:\n",
    "                itr_ans= itr \n",
    "            if log:\n",
    "                print('Aftr round:', itr)\n",
    "                for ee,k in enumerate(lst_test):\n",
    "                    mappps = [x for x in mapp if x[0]==ee]\n",
    "                    mappps = [(eee[3],eee[2]) for eee in mappps]\n",
    "                    print(k , *mappps)\n",
    "            break\n",
    "        '''#outputs to check the algorithm round by round\n",
    "        if log:\n",
    "            print('Aftr round:', itr)\n",
    "            for ee,k in enumerate(lst_test):\n",
    "                mappps = [x for x in mapp if x[0]==ee]\n",
    "                mappps = [(eee[3],eee[2]) for eee in mappps]\n",
    "                print(k , *mappps)\n",
    "            print('\\n')'''\n",
    "    return itr_ans, mapp \n",
    "\n",
    "itr, mapp = get_ans(lst)\n",
    "print(itr,sum([x[2] for x in mapp]))\n",
    "print(itr*sum([x[2] for x in mapp]))"
   ]
  },
  {
   "cell_type": "code",
   "execution_count": 5,
   "metadata": {},
   "outputs": [
    {
     "name": "stdout",
     "output_type": "stream",
     "text": [
      "40625\n"
     ]
    }
   ],
   "source": [
    "#2\n",
    "TT = 4\n",
    "while True:\n",
    "    itr, mapp = get_ans(lst,TT,False)\n",
    "    if len(mapp)==10 and mapp[0][3]=='E':\n",
    "        print(itr*sum([x[2] for x in mapp]))\n",
    "        break\n",
    "    TT +=1"
   ]
  },
  {
   "cell_type": "code",
   "execution_count": null,
   "metadata": {},
   "outputs": [],
   "source": []
  },
  {
   "cell_type": "markdown",
   "metadata": {},
   "source": [
    "# Day 16 "
   ]
  },
  {
   "cell_type": "code",
   "execution_count": 1,
   "metadata": {},
   "outputs": [],
   "source": [
    "import requests\n",
    "c = open('cookie.txt').readline()\n",
    "cookie = {'session': c[:-1]}\n",
    "url = 'https://adventofcode.com/2018/day/16/input'\n",
    "r = requests.post(url, cookies=cookie)\n",
    "inp = r.text\n",
    "lst = inp.split('\\n')[:-1]"
   ]
  },
  {
   "cell_type": "code",
   "execution_count": 2,
   "metadata": {},
   "outputs": [
    {
     "data": {
      "text/plain": [
       "([1, 1, 0, 1], [0, 1, 0, 1], [1, 1, 0, 1])"
      ]
     },
     "execution_count": 2,
     "metadata": {},
     "output_type": "execute_result"
    }
   ],
   "source": [
    "# convert inputs\n",
    "bef = [x[9:-1].split(', ') for x in lst if x[:6]=='Before']\n",
    "ins = [x.split(' ') for x in lst[1::4][:len(bef)]]\n",
    "aft = [x[9:-1].split(', ') for x in lst if x[:6]=='After:']\n",
    "inp2 =  [x.split(' ') for x in lst[len(bef)*4+2:]]\n",
    "\n",
    "def convert_ll_int(ll):\n",
    "    res = []\n",
    "    for x1 in ll:\n",
    "        tmp =[]\n",
    "        for x2 in x1:\n",
    "            tmp.append(int(x2))\n",
    "        res.append(tmp)\n",
    "    return res\n",
    "\n",
    "bef = convert_ll_int(bef)\n",
    "aft = convert_ll_int(aft)\n",
    "ins = convert_ll_int(ins)\n",
    "inp2 = convert_ll_int(inp2)\n",
    "l = bef[0],ins[0],aft[0]\n",
    "l"
   ]
  },
  {
   "cell_type": "code",
   "execution_count": 3,
   "metadata": {},
   "outputs": [
    {
     "name": "stdout",
     "output_type": "stream",
     "text": [
      "531\n"
     ]
    }
   ],
   "source": [
    "import operator\n",
    "\n",
    "def addr(l1,l2):\n",
    "    res = l1.copy()\n",
    "    res[l2[3]] = l1[l2[1]] + l1[l2[2]]\n",
    "    return res\n",
    "\n",
    "def addi(l1,l2):\n",
    "    res = l1.copy()\n",
    "    res[l2[3]] = l1[l2[1]] + l2[2]\n",
    "    return res\n",
    "\n",
    "def mulr(l1,l2):\n",
    "    res = l1.copy()\n",
    "    res[l2[3]] = l1[l2[1]]*l1[l2[2]]\n",
    "    return res\n",
    "\n",
    "def muli(l1,l2):\n",
    "    res = l1.copy()\n",
    "    res[l2[3]] = l1[l2[1]]*l2[2]\n",
    "    return res\n",
    "\n",
    "def banr(l1,l2):\n",
    "    res = l1.copy()\n",
    "    res[l2[3]] = operator.and_(l1[l2[1]],l1[l2[2]])\n",
    "    return res\n",
    "\n",
    "def bani(l1,l2):\n",
    "    res = l1.copy()\n",
    "    res[l2[3]] = operator.and_(l1[l2[1]],l2[2])\n",
    "    return res\n",
    "\n",
    "def borr(l1,l2):\n",
    "    res = l1.copy()\n",
    "    res[l2[3]] = operator.or_(l1[l2[1]],l1[l2[2]])\n",
    "    return res\n",
    "\n",
    "def bori(l1,l2):\n",
    "    res = l1.copy()\n",
    "    res[l2[3]] = operator.or_(l1[l2[1]],l2[2])\n",
    "    return res\n",
    "\n",
    "def setr(l1,l2):\n",
    "    res = l1.copy()\n",
    "    res[l2[3]] = l1[l2[1]]\n",
    "    return res\n",
    "\n",
    "def seti(l1,l2):\n",
    "    res = l1.copy()\n",
    "    res[l2[3]] = l2[1]\n",
    "    return res\n",
    "\n",
    "\n",
    "def gtir(l1,l2):\n",
    "    res = l1.copy()\n",
    "    if l2[1]>l1[l2[2]]:\n",
    "        res[l2[3]] = 1\n",
    "    else:\n",
    "        res[l2[3]] = 0\n",
    "    return res\n",
    "\n",
    "def gtri(l1,l2):\n",
    "    res = l1.copy()\n",
    "    if l1[l2[1]]>l2[2]:\n",
    "        res[l2[3]] = 1\n",
    "    else:\n",
    "        res[l2[3]] = 0\n",
    "    return res\n",
    "\n",
    "def gtrr(l1,l2):\n",
    "    res = l1.copy()\n",
    "    if l1[l2[1]]>l1[l2[2]]:\n",
    "        res[l2[3]] = 1\n",
    "    else:\n",
    "        res[l2[3]] = 0\n",
    "    return res\n",
    "\n",
    "def eqir(l1,l2):\n",
    "    res = l1.copy()\n",
    "    if l2[1]==l1[l2[2]]:\n",
    "        res[l2[3]] = 1\n",
    "    else:\n",
    "        res[l2[3]] = 0\n",
    "    return res\n",
    "\n",
    "def eqri(l1,l2):\n",
    "    res = l1.copy()\n",
    "    if l1[l2[1]]==l2[2]:\n",
    "        res[l2[3]] = 1\n",
    "    else:\n",
    "        res[l2[3]] = 0\n",
    "    return res\n",
    "\n",
    "def eqrr(l1,l2):\n",
    "    res = l1.copy()\n",
    "    if l1[l2[1]]==l1[l2[2]]:\n",
    "        res[l2[3]] = 1\n",
    "    else:\n",
    "        res[l2[3]] = 0\n",
    "    return res\n",
    "\n",
    "func = [addr, addi, mulr, muli, \n",
    "        banr, bani, borr, bori, setr, seti, \n",
    "        gtir, gtri, gtrr, eqir, eqri, eqrr] \n",
    "\n",
    "\n",
    "counter = []\n",
    "for i in range(len(bef)):\n",
    "    c = 0\n",
    "    l = bef[i],ins[i],aft[i]\n",
    "    for f in func:\n",
    "        if f(*l[:2]) == l[2]:\n",
    "            c+=1\n",
    "    counter.append(c)\n",
    "print(len([x for x in counter if x>=3]))"
   ]
  },
  {
   "cell_type": "code",
   "execution_count": 4,
   "metadata": {},
   "outputs": [
    {
     "name": "stdout",
     "output_type": "stream",
     "text": [
      "649\n"
     ]
    }
   ],
   "source": [
    "#2\n",
    "res = [] # opcodes and possible functions\n",
    "for i in range(len(bef)):\n",
    "    l = bef[i],ins[i],aft[i]\n",
    "    tmp = []\n",
    "    for f in func:\n",
    "        if f(*l[:2]) == l[2]:\n",
    "            tmp.append(f.__name__) \n",
    "    res.append([l[1][0],*tmp])\n",
    "    \n",
    "ss = [] # opcodes and possible functions that we saw in every same opcode\n",
    "for opt in range(16):\n",
    "    x = [x[1:] for x in res if x[0]==opt]\n",
    "    s = set(x[0])\n",
    "    for j in x:\n",
    "        s.union(set(j))\n",
    "    ss.append(list(s))\n",
    "    \n",
    "    \n",
    "d = {} #dict with key as func name and possible opcodes as values\n",
    "for i, o in enumerate(ss):\n",
    "    for oo in o:\n",
    "        if oo in d.keys():\n",
    "            d[oo].append(i)\n",
    "        else:\n",
    "            d[oo] = [i]\n",
    "\n",
    "# if there is only one value for some key, then opcode for that key is found ..\n",
    "# .. then del that opcode from other keys and repeat. \n",
    "done = []\n",
    "while True:\n",
    "    dels = []\n",
    "    for k in d.keys():\n",
    "        if len(d[k])==1 and k not in done:\n",
    "            dels.append(d[k])\n",
    "            done.append(k)\n",
    "    if len(dels)==0:\n",
    "        break\n",
    "    if len(done)==16:\n",
    "        break\n",
    "    for v in dels:\n",
    "        for kk in d.keys():\n",
    "            if kk in done:\n",
    "                continue\n",
    "            d[kk] = list(set(d[kk]) - set(v))\n",
    "\n",
    "# sort opcodes ..\n",
    "opts = []\n",
    "for k in d.keys():\n",
    "    opts.append([d[k][0],k])\n",
    "opts.sort()\n",
    "\n",
    "# .. and get opcodes ordered in func_new \n",
    "func_new = []\n",
    "while len(func_new)<16:\n",
    "    for f in func:\n",
    "        if f.__name__ == opts[0][1]:\n",
    "            func_new.append(f)\n",
    "            break\n",
    "    del opts[0]\n",
    "    \n",
    "# The registers start with the value 0.\n",
    "res = [0,0,0,0]\n",
    "for i in inp2:\n",
    "    res = func_new[i[0]](res,i)\n",
    "print(res[0])"
   ]
  },
  {
   "cell_type": "code",
   "execution_count": null,
   "metadata": {},
   "outputs": [],
   "source": []
  },
  {
   "cell_type": "markdown",
   "metadata": {},
   "source": [
    "# Day 17"
   ]
  },
  {
   "cell_type": "code",
   "execution_count": 1,
   "metadata": {},
   "outputs": [
    {
     "data": {
      "text/plain": [
       "['x=599, y=1555..1570', 'x=558, y=575..582', 'y=310, x=635..639']"
      ]
     },
     "execution_count": 1,
     "metadata": {},
     "output_type": "execute_result"
    }
   ],
   "source": [
    "import requests\n",
    "c = open('cookie.txt').readline()\n",
    "cookie = {'session': c[:-1]}\n",
    "url = 'https://adventofcode.com/2018/day/17/input'\n",
    "r = requests.post(url, cookies=cookie)\n",
    "inp = r.text\n",
    "lst = inp.split('\\n')[:-1]\n",
    "lst[:3]"
   ]
  },
  {
   "cell_type": "code",
   "execution_count": 2,
   "metadata": {},
   "outputs": [],
   "source": [
    "def flowstep(d,ymax):\n",
    "    flag = False\n",
    "    flowdown = []\n",
    "    noflow = []\n",
    "    for (x,y), v in d.items():\n",
    "        if v=='|':\n",
    "            flowdown.append([x,y])\n",
    "    flowdown.sort(key=lambda x: x[1])\n",
    "    for x,y in flowdown:\n",
    "        j = 1\n",
    "        while True:\n",
    "            if y+j> ymax:\n",
    "                flag = True\n",
    "                break\n",
    "            if (x,y+j) not in d.keys():\n",
    "                d[(x,y+j)] = '|'\n",
    "                j+=1\n",
    "                \n",
    "            elif d[(x,y+j)] in ['|','-']:\n",
    "                break\n",
    "                \n",
    "            elif d[(x,y+j)] =='#':\n",
    "                d[(x,y+j-1)] = '~'\n",
    "                noflow.append([x,y+j-1])\n",
    "                break\n",
    "                \n",
    "            elif d[(x,y+j)]=='~':\n",
    "                f2 = False\n",
    "                kk = 1 #right\n",
    "                while True: \n",
    "                    if d[(x+kk, y+j)]=='~':\n",
    "                        kk += 1\n",
    "                        continue \n",
    "                    elif d[(x+kk, y+j)] == '#':\n",
    "                        break\n",
    "                    elif d[(x+kk, y+j)] in ['-','|']:\n",
    "                        d[(x,y+j)] = '-'\n",
    "                        f2 = True\n",
    "                        break\n",
    "                kk = -1 #left\n",
    "                while True: \n",
    "                    if d[(x+kk, y+j)]=='~':\n",
    "                        kk -= 1\n",
    "                        continue \n",
    "                    elif d[(x+kk, y+j)] == '#':\n",
    "                        break\n",
    "                    elif d[(x+kk, y+j)] in ['-','|']:\n",
    "                        d[(x,y+j)] = '-'\n",
    "                        f2 = True\n",
    "                        break\n",
    "                        \n",
    "                if not f2:\n",
    "                    d[(x,y+j-1)] = '~'\n",
    "                    noflow.append([x,y+j-1])\n",
    "                    break\n",
    "                break\n",
    "\n",
    "    for (x,y) in noflow:\n",
    "        #left \n",
    "        i = 1\n",
    "        while True:\n",
    "            #is there smth on left of '~'\n",
    "            if (x-i,y) in d.keys():\n",
    "                if d[(x-i,y)] == '~':\n",
    "                    pass\n",
    "                elif d[(x-i,y)]=='-':\n",
    "                    d[(x-i,y)] = '~'\n",
    "                else:\n",
    "                    break\n",
    "            #if not, is there smth down on left\n",
    "            elif (x-i,y+1) in d.keys():\n",
    "                d[(x-i,y)]='~'\n",
    "            else:\n",
    "                d[(x-i,y)]='|'\n",
    "                d[(x,y)] = '|'\n",
    "                break\n",
    "            i += 1            \n",
    "            \n",
    "        #right\n",
    "        i = -1\n",
    "        while True:\n",
    "            if (x-i,y) in d.keys():\n",
    "                if d[(x-i,y)] == '~':\n",
    "                    pass\n",
    "                elif d[(x-i,y)]=='-':\n",
    "                    d[(x-i,y)]= '~'\n",
    "                else:\n",
    "                    break\n",
    "            elif (x-i,y+1) in d.keys():\n",
    "                d[(x-i,y)]='~'\n",
    "            else:\n",
    "                d[(x-i,y)]='|'\n",
    "                d[(x,y)] = '-'\n",
    "                break\n",
    "            i -= 1  \n",
    "    return d, flag"
   ]
  },
  {
   "cell_type": "code",
   "execution_count": 62,
   "metadata": {},
   "outputs": [
    {
     "data": {
      "text/plain": [
       "6"
      ]
     },
     "execution_count": 62,
     "metadata": {},
     "output_type": "execute_result"
    }
   ],
   "source": [
    "ymin"
   ]
  },
  {
   "cell_type": "code",
   "execution_count": 3,
   "metadata": {},
   "outputs": [
    {
     "name": "stdout",
     "output_type": "stream",
     "text": [
      "done in 969 steps\n",
      "29063\n"
     ]
    }
   ],
   "source": [
    "def viz_limit(d,mx1,mx2,my1,my2):\n",
    "    xs,ys = [],[]\n",
    "    \n",
    "    for x,y in d.keys():\n",
    "        if x in range(mx1,mx2) and y in range(my1,my2):\n",
    "            xs.append(x)\n",
    "            ys.append(y)\n",
    "    for i in range(min(ys), max(ys)+1): \n",
    "        s = ''\n",
    "        for j in range(min(xs),max(xs)+1):\n",
    "            if (j,i) in d.keys():\n",
    "                s+= d[(j,i)]\n",
    "            else:\n",
    "                s+='.'\n",
    "        print(s)\n",
    "        \n",
    "        \n",
    "xs = []\n",
    "for i in lst:\n",
    "    if i[0]=='x':\n",
    "        x = int(i.split('=')[1].split(',')[0])\n",
    "        yr = i.split('y=')[1].split('..')\n",
    "        yr = [int(y) for y in yr]\n",
    "        xs.append([x,x, *yr])\n",
    "    elif i[0]=='y':\n",
    "        y = int(i.split('=')[1].split(',')[0])\n",
    "        xr = i.split('x=')[1].split('..')\n",
    "        xr = [int(x) for x in xr]\n",
    "        xs.append([*xr,y,y])\n",
    "ymin= min([min(x[2],x[3]) for x in xs])\n",
    "ymax= max([max(x[2],x[3]) for x in xs])\n",
    "\n",
    "d = {}\n",
    "for i in xs:\n",
    "    for k1 in range(i[0],i[1]+1):\n",
    "        for k2 in range(i[2],i[3]+1):\n",
    "            d[(k1,k2)] = '#'\n",
    "d[(500,0)] = '|'\n",
    "\n",
    "flag= False\n",
    "i = 0\n",
    "while True:\n",
    "    i += 1\n",
    "    if i%10000==0:\n",
    "        print(i)\n",
    "    d_copy = d.copy()\n",
    "    d,flag = flowstep(d,ymax)\n",
    "    if d == d_copy:\n",
    "        print(f'done in {i} steps')\n",
    "        break\n",
    "#viz_limit(d,470,600,0,5000)\n",
    "c = 0 \n",
    "for (x,y),v in d.items():\n",
    "    if y<ymin or y > ymax:\n",
    "        continue \n",
    "    if v in ['|','~','-']:\n",
    "        c+=1\n",
    "print(c)"
   ]
  },
  {
   "cell_type": "code",
   "execution_count": 4,
   "metadata": {},
   "outputs": [
    {
     "name": "stdout",
     "output_type": "stream",
     "text": [
      "23811\n"
     ]
    }
   ],
   "source": [
    "#delete '~' that are near '-'\n",
    "def delt(d2):\n",
    "    flowdown = []\n",
    "    for (x,y),v in d.items():\n",
    "        if v=='-':\n",
    "            flowdown.append([x,y])\n",
    "            \n",
    "    for x,y in flowdown:\n",
    "        kk = 1\n",
    "        while True:\n",
    "            if (x+kk,y) in d2.keys():\n",
    "                if d2[(x+kk, y)]=='~':\n",
    "                    d2[(x+kk, y)]='-'\n",
    "                    kk+=1\n",
    "                else:\n",
    "                    break\n",
    "            else:\n",
    "                break\n",
    "        kk = -1\n",
    "        while True:\n",
    "            if (x+kk,y) in d2.keys():\n",
    "                if d2[(x+kk, y)]=='~':\n",
    "                    d2[(x+kk, y)]='-'\n",
    "                    kk-=1\n",
    "                else:\n",
    "                    break\n",
    "            else:\n",
    "                break\n",
    "    return d2\n",
    "\n",
    "d = delt(d)\n",
    "c = 0\n",
    "for k,v in d.items():\n",
    "    if v=='~':\n",
    "        c+=1\n",
    "print(c)"
   ]
  },
  {
   "cell_type": "code",
   "execution_count": null,
   "metadata": {},
   "outputs": [],
   "source": []
  },
  {
   "cell_type": "markdown",
   "metadata": {},
   "source": [
    "# DAY 18"
   ]
  },
  {
   "cell_type": "code",
   "execution_count": 1,
   "metadata": {},
   "outputs": [
    {
     "data": {
      "text/plain": [
       "['|....|....||.##|.|.|.##.|....|..#|#|#.#|.#|#|....#',\n",
       " '.#...#.#....#|..#.#||........|.#.#.###.|.#||##..#.',\n",
       " '....|..#####...|.##.#.|.|.|||.|#...|..|....##|#.||']"
      ]
     },
     "execution_count": 1,
     "metadata": {},
     "output_type": "execute_result"
    }
   ],
   "source": [
    "import requests\n",
    "c = open('cookie.txt').readline()\n",
    "cookie = {'session': c[:-1]}\n",
    "url = 'https://adventofcode.com/2018/day/18/input'\n",
    "r = requests.post(url, cookies=cookie)\n",
    "inp = r.text\n",
    "lst = inp.split('\\n')[:-1]\n",
    "lst[:3]"
   ]
  },
  {
   "cell_type": "code",
   "execution_count": 2,
   "metadata": {},
   "outputs": [],
   "source": [
    "def opentotree(d_new, d,i,j):\n",
    "    tree = 0\n",
    "    for k1 in [1,0,-1]:\n",
    "        for k2 in [1,0,-1]:\n",
    "            if k1==k2==0:\n",
    "                continue\n",
    "            if (k1+i,k2+j) in d.keys():\n",
    "                if d[(k1+i,k2+j)] == '|':\n",
    "                    tree += 1\n",
    "    if tree>=3:\n",
    "        d_new[(i,j)]='|'\n",
    "    return d_new\n",
    "\n",
    "\n",
    "def treetolum(d_new, d,i,j):\n",
    "    lum = 0\n",
    "    for k1 in [1,0,-1]:\n",
    "        for k2 in [1,0,-1]:\n",
    "            if k1==k2==0:\n",
    "                continue\n",
    "            if (k1+i,k2+j) in d.keys():\n",
    "                if d[(k1+i,k2+j)] == '#':\n",
    "                    lum += 1\n",
    "    if lum>=3:\n",
    "        d_new[(i,j)]='#'\n",
    "    return d_new\n",
    "\n",
    "\n",
    "def lumtoopen(d_new, d,i,j):\n",
    "    lum = 0\n",
    "    trees = 0\n",
    "    for k1 in [1,0,-1]:\n",
    "        for k2 in [1,0,-1]:\n",
    "            if k1==k2==0:\n",
    "                continue\n",
    "            if (k1+i,k2+j) in d.keys():\n",
    "                if d[(k1+i,k2+j)] == '#':\n",
    "                    lum += 1\n",
    "                if d[(k1+i,k2+j)] == '|':\n",
    "                    trees += 1\n",
    "    if lum<1 or trees<1:\n",
    "        d_new[(i,j)]='.'\n",
    "    return d_new"
   ]
  },
  {
   "cell_type": "code",
   "execution_count": 3,
   "metadata": {
    "scrolled": false
   },
   "outputs": [
    {
     "name": "stdout",
     "output_type": "stream",
     "text": [
      "cicle: 502 475 28\n",
      "ans1: 519478\n",
      "ans2: 205320\n"
     ]
    }
   ],
   "source": [
    "inp= [list(x) for x in lst]\n",
    "d = {}\n",
    "for i in range(len(inp)):\n",
    "    for j in range(len(inp[i])):\n",
    "        d[(i,j)] = inp[i][j]\n",
    "        \n",
    "import copy\n",
    "\n",
    "tt = 1000000000\n",
    "ll = []\n",
    "for h in range(tt):\n",
    "    d_new = d.copy()# copy.deepcopy(d)\n",
    "    for (i,j),v in d.items():\n",
    "        if v=='.':\n",
    "            d_new = opentotree(d_new, d,i,j)\n",
    "        if v=='|':\n",
    "            d_new = treetolum(d_new, d,i,j)\n",
    "        if v=='#':\n",
    "            d_new = lumtoopen(d_new,d,i,j)\n",
    "    d = copy.deepcopy(d_new)\n",
    "    \n",
    "    s = ''\n",
    "    for k1 in range(50):\n",
    "        for k2 in range(50):\n",
    "            s += d[(k1,k2)]\n",
    "    if s in ll:\n",
    "        k = ll.index(s)\n",
    "        print('cicle:',h, k+1, h-k)\n",
    "        break\n",
    "    ll.append(s)\n",
    "    \n",
    "print('ans1:', ll[9].count('|') * ll[9].count('#'))\n",
    "print('ans2:', ll[(tt+1-k)%(h-k) + k].count('|') * ll[(tt+1-k)%(h-k) + k].count('#'))"
   ]
  },
  {
   "cell_type": "code",
   "execution_count": null,
   "metadata": {},
   "outputs": [],
   "source": []
  },
  {
   "cell_type": "markdown",
   "metadata": {},
   "source": [
    "# Day 19"
   ]
  },
  {
   "cell_type": "code",
   "execution_count": 1,
   "metadata": {},
   "outputs": [
    {
     "data": {
      "text/plain": [
       "['#ip 4', 'addi 4 16 4', 'seti 1 5 3']"
      ]
     },
     "execution_count": 1,
     "metadata": {},
     "output_type": "execute_result"
    }
   ],
   "source": [
    "import requests\n",
    "c = open('cookie.txt').readline()\n",
    "cookie = {'session': c[:-1]}\n",
    "url = 'https://adventofcode.com/2018/day/19/input'\n",
    "r = requests.post(url, cookies=cookie)\n",
    "inp = r.text\n",
    "lst = inp.split('\\n')[:-1]\n",
    "lst[:3]"
   ]
  },
  {
   "cell_type": "code",
   "execution_count": 2,
   "metadata": {},
   "outputs": [
    {
     "name": "stdout",
     "output_type": "stream",
     "text": [
      "[930, 930, 1, 930, 257, 929] 257\n"
     ]
    }
   ],
   "source": [
    "def addr(l1,l2):\n",
    "    res = l1.copy()\n",
    "    res[l2[3]] = l1[l2[1]] + l1[l2[2]]\n",
    "    return res\n",
    "\n",
    "def addi(l1,l2):\n",
    "    res = l1.copy()\n",
    "    res[l2[3]] = l1[l2[1]] + l2[2]\n",
    "    return res\n",
    "\n",
    "def setr(l1,l2):\n",
    "    res = l1.copy()\n",
    "    res[l2[3]] = l1[l2[1]]\n",
    "    return res\n",
    "\n",
    "def seti(l1,l2):\n",
    "    res = l1.copy()\n",
    "    res[l2[3]] = l2[1]\n",
    "    return res\n",
    "\n",
    "\n",
    "def mulr(l1,l2):\n",
    "    res = l1.copy()\n",
    "    res[l2[3]] = l1[l2[1]]*l1[l2[2]]\n",
    "    return res\n",
    "\n",
    "def muli(l1,l2):\n",
    "    res = l1.copy()\n",
    "    res[l2[3]] = l1[l2[1]]*l2[2]\n",
    "    return res\n",
    "\n",
    "\n",
    "def gtrr(l1,l2):\n",
    "    res = l1.copy()\n",
    "    if l1[l2[1]]>l1[l2[2]]:\n",
    "        res[l2[3]] = 1\n",
    "    else:\n",
    "        res[l2[3]] = 0\n",
    "    return res\n",
    "\n",
    "def eqrr(l1,l2):\n",
    "    res = l1.copy()\n",
    "    if l1[l2[1]]==l1[l2[2]]:\n",
    "        res[l2[3]] = 1\n",
    "    else:\n",
    "        res[l2[3]] = 0\n",
    "    return res\n",
    "\n",
    "func = [addr, addi, setr, seti, mulr, muli, gtrr, eqrr]\n",
    "\n",
    "def get_reg(lst, reg=[0,0,0,0,0,0], maxiter= 10000000, log= False):\n",
    "    r = int(lst[0][-1])\n",
    "    instr_name = [x.split(' ')[0] for x in lst[1:]]\n",
    "    instr = [[int(x.split(' ')[1]),int(x.split(' ')[2]),int(x.split(' ')[3])] for x in lst[1:]]\n",
    "    ip = 0\n",
    "    c = 0\n",
    "    while c<maxiter:\n",
    "        c+=1\n",
    "        if ip >= len(instr_name):\n",
    "            print(reg, ip)\n",
    "            break\n",
    "        for f in func:\n",
    "            if f.__name__ == instr_name[ip]:\n",
    "                reg[r] = ip\n",
    "                reg = f(reg,[0,*instr[ip]])\n",
    "                reg[r]+=1\n",
    "                ip = reg[r]\n",
    "                break\n",
    "                \n",
    "    if log:\n",
    "        print(f'After {c} iteration: reg,ip = {reg}, {ip}')\n",
    "        \n",
    "    \n",
    "get_reg(lst)"
   ]
  },
  {
   "cell_type": "code",
   "execution_count": 3,
   "metadata": {},
   "outputs": [
    {
     "name": "stdout",
     "output_type": "stream",
     "text": [
      "After 10000 iteration: reg,ip = [0, 1248, 0, 1, 6, 10551329], 6\n",
      "2 seti 1 9 1\n",
      "3 mulr 3 1 2\n",
      "4 eqrr 2 5 2\n",
      "5 addr 2 4 4\n",
      "6 addi 4 1 4\n",
      "7 addr 3 0 0\n",
      "8 addi 1 1 1\n",
      "9 gtrr 1 5 2\n",
      "10 addr 4 2 4\n",
      "11 seti 2 9 4\n",
      "12 addi 3 1 3\n",
      "13 gtrr 3 5 2\n",
      "14 addr 2 4 4\n",
      "15 seti 1 8 4\n",
      "16 mulr 4 4 4\n"
     ]
    }
   ],
   "source": [
    "#2\n",
    "get_reg(lst,[1,0,0,0,0,0],10000,True)\n",
    "\n",
    "# main istructions:\n",
    "for i,v in enumerate(lst[1:]):\n",
    "    if i in range(2,17):\n",
    "        print(i,v)"
   ]
  },
  {
   "cell_type": "code",
   "execution_count": 4,
   "metadata": {},
   "outputs": [
    {
     "name": "stdout",
     "output_type": "stream",
     "text": [
      "ans2:10628484\n"
     ]
    }
   ],
   "source": [
    "N = 10551329\n",
    "\n",
    "'''\n",
    "After analyzing rules above: \n",
    "#3-7 rules summary \n",
    "if reg[3]*reg[1]==N:  #WHEN? For all N%i ==0, where  1<=i<=N. \n",
    "    reg[0]+=reg[3]    # so add all i together and thats the answer\n",
    "\n",
    "#2,8-16 rules summary\n",
    "if reg[1]> N and reg[3] > N: \n",
    "    finish\n",
    "elif reg[1]>N: \n",
    "    reg[3] += 1\n",
    "    reg[1] = 1\n",
    "else: reg[1] += 1''';\n",
    "\n",
    "s = N\n",
    "for i in range(1,int(N+1/2)):\n",
    "    if N%i==0:\n",
    "        s+=i\n",
    "print(f'ans2:{s}')"
   ]
  },
  {
   "cell_type": "code",
   "execution_count": null,
   "metadata": {},
   "outputs": [],
   "source": []
  },
  {
   "cell_type": "markdown",
   "metadata": {},
   "source": [
    "# Day 20"
   ]
  },
  {
   "cell_type": "code",
   "execution_count": 1,
   "metadata": {},
   "outputs": [],
   "source": [
    "import requests\n",
    "c = open('cookie.txt').readline()\n",
    "cookie = {'session': c[:-1]}\n",
    "url = 'https://adventofcode.com/2018/day/20/input'\n",
    "r = requests.post(url, cookies=cookie)\n",
    "inp = r.text\n",
    "lst = inp.split('\\n')[:-1]"
   ]
  },
  {
   "cell_type": "code",
   "execution_count": 2,
   "metadata": {},
   "outputs": [],
   "source": [
    "lst_test = ['^WSSEESWWWNW(S|NENNEEEENN(ESSSSW(NWSW|SSEN)|WSWWN(E|WWS(E|SS))))$']\n",
    "lst_test = lst\n",
    "news = {'N':[0,-1,'-'], 'E':[1,0,'|'],'W':[-1,0,'|'],'S':[0,1,'-']}\n",
    "\n",
    "def viz(d):\n",
    "    xs,ys = [],[]\n",
    "    for x,y in d.keys():\n",
    "        xs.append(x)\n",
    "        ys.append(y)\n",
    "    for i in range(min(ys)-1, max(ys)+2): \n",
    "        s = ''\n",
    "        for j in range(min(xs)-1,max(xs)+2):\n",
    "            if (j,i) in d.keys():\n",
    "                s+= d[(j,i)]\n",
    "            else:\n",
    "                s+='#'\n",
    "        print(s)"
   ]
  },
  {
   "cell_type": "code",
   "execution_count": 3,
   "metadata": {},
   "outputs": [],
   "source": [
    "path = lst_test[0][1:-1]\n",
    "mapp = {(0,0):'X'}\n",
    "x1,x2 = 0,0\n",
    "\n",
    "tmp = []\n",
    "for k in path:\n",
    "    if k =='(':\n",
    "        tmp.append([x1,x2])\n",
    "    elif k =='|':\n",
    "        x1,x2 = tmp[-1]\n",
    "    elif k == ')':\n",
    "        tmp.pop()\n",
    "    else:\n",
    "        i,j,door = news.get(k,[0,0])\n",
    "        x1+=i\n",
    "        x2+=j\n",
    "        mapp[(x1,x2)] = door\n",
    "        x1+=i\n",
    "        x2+=j\n",
    "        mapp[(x1,x2)] = '.'\n",
    "        \n",
    "#viz(mapp)"
   ]
  },
  {
   "cell_type": "code",
   "execution_count": 4,
   "metadata": {},
   "outputs": [
    {
     "name": "stdout",
     "output_type": "stream",
     "text": [
      "4122\n"
     ]
    }
   ],
   "source": [
    "def radar(k):\n",
    "    flag = False\n",
    "    iters =[]\n",
    "    for (x1,x2),v in mapp.items():\n",
    "        if v==k:\n",
    "            tt = [[-1,0],[0,-1],[0,1],[1,0]]\n",
    "            for i,j in tt:\n",
    "                if mapp.get((x1+i,x2+j),0) in ['|','-']:\n",
    "                    if mapp.get((x1+i*2,x2+j*2),0) == '.':\n",
    "                        flag = True\n",
    "                        mapp[(x1+i*2,x2+j*2)] = k+1\n",
    "    return flag\n",
    "\n",
    "flag = True\n",
    "k = 0\n",
    "mapp[(0,0)] = 0\n",
    "while flag:\n",
    "    flag = radar(k)\n",
    "    k+=1\n",
    "print(k)"
   ]
  },
  {
   "cell_type": "code",
   "execution_count": 5,
   "metadata": {
    "scrolled": false
   },
   "outputs": [
    {
     "data": {
      "text/plain": [
       "8636"
      ]
     },
     "execution_count": 5,
     "metadata": {},
     "output_type": "execute_result"
    }
   ],
   "source": [
    "#2\n",
    "len([x for x in mapp.values() if type(x) == int and x>=1000])"
   ]
  },
  {
   "cell_type": "code",
   "execution_count": null,
   "metadata": {},
   "outputs": [],
   "source": []
  },
  {
   "cell_type": "markdown",
   "metadata": {},
   "source": [
    "# Day 21"
   ]
  },
  {
   "cell_type": "code",
   "execution_count": null,
   "metadata": {},
   "outputs": [],
   "source": [
    "import requests\n",
    "c = open('cookie.txt').readline()\n",
    "cookie = {'session': c[:-1]}\n",
    "url = 'https://adventofcode.com/2018/day/21/input'\n",
    "r = requests.post(url, cookies=cookie)\n",
    "inp = r.text\n",
    "lst = inp.split('\\n')[:-1]\n",
    "lst[-3:]"
   ]
  },
  {
   "cell_type": "code",
   "execution_count": null,
   "metadata": {},
   "outputs": [],
   "source": [
    "# later. my solution was not optimal"
   ]
  },
  {
   "cell_type": "code",
   "execution_count": null,
   "metadata": {},
   "outputs": [],
   "source": []
  },
  {
   "cell_type": "markdown",
   "metadata": {},
   "source": [
    "# Day 22"
   ]
  },
  {
   "cell_type": "code",
   "execution_count": 1,
   "metadata": {},
   "outputs": [
    {
     "data": {
      "text/plain": [
       "['depth: 3558', 'target: 15,740']"
      ]
     },
     "execution_count": 1,
     "metadata": {},
     "output_type": "execute_result"
    }
   ],
   "source": [
    "import requests\n",
    "c = open('cookie.txt').readline()\n",
    "cookie = {'session': c[:-1]}\n",
    "url = 'https://adventofcode.com/2018/day/22/input'\n",
    "r = requests.post(url, cookies=cookie)\n",
    "inp = r.text\n",
    "lst = inp.split('\\n')[:-1]\n",
    "lst[-3:]"
   ]
  },
  {
   "cell_type": "code",
   "execution_count": 2,
   "metadata": {},
   "outputs": [
    {
     "name": "stdout",
     "output_type": "stream",
     "text": [
      "ans1:11810\n"
     ]
    }
   ],
   "source": [
    "d = {}\n",
    "tx = 15 \n",
    "ty = 740\n",
    "depth = 3558\n",
    "m = 20183\n",
    "for y in range(0,ty*2+1):\n",
    "    d[0,y] = (48271*y)\n",
    "for x in range(1,tx*2+1):\n",
    "    d[x,0] = (16807*x)\n",
    "\n",
    "for x in range(1,tx*2+1):\n",
    "    for y in range(1,ty*2+1):\n",
    "        d[x,y] = ((d[x-1,y]+depth)%m)*((d[x,y-1]+depth)%m)%m\n",
    "d[tx,ty]=0\n",
    "\n",
    "\n",
    "r = {}\n",
    "for k in d.keys():\n",
    "    r[k] = ((d[k] + depth)%m)%3\n",
    "    \n",
    "s = 0    \n",
    "for (x,y),v in r.items():\n",
    "    if x<=tx and y<=ty:\n",
    "        s+=v\n",
    "print(f'ans1:{s}')"
   ]
  },
  {
   "cell_type": "code",
   "execution_count": 3,
   "metadata": {},
   "outputs": [],
   "source": [
    "tools = {0:(0,1),1:(1,2),2:(2,0)}\n",
    "\n",
    "mapp = {}\n",
    "mapp[0,0,0]=0\n",
    "mapp[0,0,1]=7\n",
    "\n",
    "def nextstep(k):\n",
    "    tt = [[-1,0],[0,-1],[0,1],[1,0]]\n",
    "    itr =[]\n",
    "    for (x,y,t),v in mapp.items():\n",
    "        if v==k:\n",
    "            itr.append([x,y,t])\n",
    "    for x,y,t in itr:\n",
    "        for i,j in tt:\n",
    "            nxt = r.get((x+i,y+j),-1)\n",
    "            if nxt == -1:\n",
    "                continue # out of map\n",
    "\n",
    "            t1,t2 = tools[nxt]\n",
    "            if t1 == t or t2 == t:\n",
    "                mapp[x+i,y+j,t] = min(k+1, mapp.get((x+i,y+j,t),k+20))\n",
    "                t_new = list({t1,t2}-{t})[0]\n",
    "                mapp[x+i,y+j,t_new] = min(k+1+7, mapp.get((x+i,y+j,t_new),k+20))"
   ]
  },
  {
   "cell_type": "code",
   "execution_count": 4,
   "metadata": {},
   "outputs": [
    {
     "name": "stdout",
     "output_type": "stream",
     "text": [
      "ans2:1015\n"
     ]
    }
   ],
   "source": [
    "k = 0\n",
    "while True:\n",
    "    if mapp.get((15,740,0),99999)<=k:\n",
    "        print(f'ans2:{mapp.get((15,740,0),99999)}')\n",
    "        break\n",
    "    nextstep(k)\n",
    "    k+=1"
   ]
  },
  {
   "cell_type": "code",
   "execution_count": null,
   "metadata": {},
   "outputs": [],
   "source": []
  },
  {
   "cell_type": "markdown",
   "metadata": {},
   "source": [
    "# Day 23"
   ]
  },
  {
   "cell_type": "code",
   "execution_count": 1,
   "metadata": {},
   "outputs": [
    {
     "data": {
      "text/plain": [
       "['pos=<80143628,11749428,23783625>, r=80580637',\n",
       " 'pos=<6394591,3685499,44357523>, r=56790052',\n",
       " 'pos=<76041420,32327825,30892337>, r=66873672']"
      ]
     },
     "execution_count": 1,
     "metadata": {},
     "output_type": "execute_result"
    }
   ],
   "source": [
    "import requests\n",
    "c = open('cookie.txt').readline()\n",
    "cookie = {'session': c[:-1]}\n",
    "url = 'https://adventofcode.com/2018/day/23/input'\n",
    "r = requests.post(url, cookies=cookie)\n",
    "inp = r.text\n",
    "lst = inp.split('\\n')[:-1]\n",
    "lst[-3:]"
   ]
  },
  {
   "cell_type": "code",
   "execution_count": 2,
   "metadata": {},
   "outputs": [],
   "source": [
    "x = [[int(x.split('<')[1].split(',')[0]), int(x.split(',')[1]), int(x.split(',')[2].split('>')[0]), int(x.split('r=')[1])] for x in lst]"
   ]
  },
  {
   "cell_type": "code",
   "execution_count": 3,
   "metadata": {},
   "outputs": [
    {
     "name": "stdout",
     "output_type": "stream",
     "text": [
      "ans1:588\n"
     ]
    }
   ],
   "source": [
    "x.sort(key =lambda x:x[3], reverse=True)\n",
    "x1,x2,x3,r = x[0]\n",
    "\n",
    "ans1 = 0\n",
    "for c1,c2,c3,_ in x:\n",
    "    if abs(c1-x1) + abs(c2-x2) + abs(c3-x3) <=r:\n",
    "        ans1+=1\n",
    "print(f'ans1:{ans1}')"
   ]
  },
  {
   "cell_type": "code",
   "execution_count": 4,
   "metadata": {},
   "outputs": [],
   "source": [
    "def nanobotsNum(x1,x2,x3):\n",
    "    res = 0\n",
    "    for c1,c2,c3,r in x:\n",
    "        if abs(c1-x1) + abs(c2-x2) + abs(c3-x3) <=r:\n",
    "            res+=1\n",
    "    return res\n",
    "\n",
    "\n",
    "def fixcoords(x1=0,x2=0,x3=0,coord=0):\n",
    "    # fix two coords and iterate third from min to max value\n",
    "    N = 1000000\n",
    "    s = 0\n",
    "    for z in range(min([k[coord]-k[3] for k in x]), max([k[coord]+k[3] for k in x]),N):\n",
    "        if coord == 0:\n",
    "            x1 = z\n",
    "        elif coord == 1:\n",
    "            x2 = z\n",
    "        else:\n",
    "            x3 = z\n",
    "        if nanobotsNum(x1,x2,x3)>s:\n",
    "            s = nanobotsNum(x1,x2,x3)\n",
    "            m = [x1,x2,x3]        \n",
    "            \n",
    "\n",
    "    s = 0\n",
    "    while N >1:\n",
    "        for z in range(m[coord]-N, m[coord]+N, int(N/10)):\n",
    "            if coord == 0:\n",
    "                x1 = z\n",
    "            elif coord == 1:\n",
    "                x2 = z\n",
    "            else:\n",
    "                x3 = z\n",
    "            if nanobotsNum(x1,x2,x3)>s:\n",
    "                s = nanobotsNum(x1,x2,x3)\n",
    "                m = [x1,x2,x3]\n",
    "        N = int(N/10)           \n",
    "    return m,s "
   ]
  },
  {
   "cell_type": "code",
   "execution_count": 5,
   "metadata": {},
   "outputs": [
    {
     "name": "stdout",
     "output_type": "stream",
     "text": [
      "ans2:111227643, max nanobots:893\n"
     ]
    }
   ],
   "source": [
    "def findmax(coord=0, delta=1):\n",
    "    #iterate fixcoords function, while all three coords stop change if any two is fixed\n",
    "    x1,x2,x3 =0,0,0\n",
    "    flag = False\n",
    "    while True:\n",
    "        (c1,c2,c3),c4 = fixcoords(x1,x2,x3,coord)\n",
    "        if (c1,c2,c3) == (x1,x2,x3):\n",
    "            if flag:\n",
    "                break\n",
    "            else:\n",
    "                flag = True\n",
    "        else:\n",
    "            x1,x2,x3 = c1,c2,c3\n",
    "            flag = False\n",
    "        coord = (coord+delta)%3\n",
    "    return c4,sum([c1,c2,c3])\n",
    "\n",
    "c,res =0,0\n",
    "# different starting axes and different change order to find max \n",
    "for coord in [0,1,2]:\n",
    "    for delta in [1,2]:\n",
    "        cx, resx = findmax(coord, delta)\n",
    "        if cx>c:\n",
    "            c = cx\n",
    "            res = resx\n",
    "print(f'ans2:{res}, max nanobots:{c}')\n",
    "#worked for me, but still not sure that this trick can work on any input... "
   ]
  },
  {
   "cell_type": "code",
   "execution_count": null,
   "metadata": {},
   "outputs": [],
   "source": []
  },
  {
   "cell_type": "markdown",
   "metadata": {},
   "source": [
    "# Day 24"
   ]
  },
  {
   "cell_type": "code",
   "execution_count": 1,
   "metadata": {},
   "outputs": [],
   "source": [
    "import requests\n",
    "c = open('cookie.txt').readline()\n",
    "cookie = {'session': c[:-1]}\n",
    "url = 'https://adventofcode.com/2018/day/24/input'\n",
    "r = requests.post(url, cookies=cookie)\n",
    "inp = r.text\n",
    "lst = inp.split('\\n')[:-1]"
   ]
  },
  {
   "cell_type": "code",
   "execution_count": 2,
   "metadata": {},
   "outputs": [],
   "source": [
    "Immune = lst[1:11]\n",
    "Infection  = lst[13:]\n",
    "ll = len(Immune)\n",
    "def parseline(i,x):\n",
    "    x1 = []\n",
    "    x2 = []\n",
    "    if 'immune to ' in x:\n",
    "        x1 =x.split('immune to ')[1]\n",
    "        if ';' in x1:\n",
    "            x1 = x1.split(';')[0].split(',')\n",
    "        else:\n",
    "            x1 = x1.split(')')[0].split(',')\n",
    "    if 'weak to ' in x:\n",
    "        x2 = x.split('weak to ')[1]\n",
    "        if ';' in x2:\n",
    "            x2 = x2.split(';')[0].split(',')\n",
    "        else:\n",
    "            x2 = x2.split(')')[0].split(',')\n",
    "            \n",
    "    x1 = [x.strip() for x in x1]\n",
    "    x2 = [x.strip() for x in x2]\n",
    "    return [i,int(x.split(' ')[0]), int(x.split('with ')[1].split(' ')[0]), \n",
    "           int(x.split('does ')[1].split(' ')[0]), int(x.split(' ')[-1]), \n",
    "           x.split(' damage')[0].split(' ')[-1] ,x1,x2]\n",
    "\n",
    "Immune = [parseline(i,x) for i,x in enumerate(Immune)]\n",
    "Infection =[parseline(i+len(Immune),x) for i,x in enumerate(Infection)]\n",
    "#'id, units, hp, attack, initiative, damage type, immunes_list, weakness_list'"
   ]
  },
  {
   "cell_type": "code",
   "execution_count": 3,
   "metadata": {},
   "outputs": [],
   "source": [
    "def targetSelection(A,B):\n",
    "    A.sort(key=lambda x: (x[1]*x[3],x[4]), reverse=True)\n",
    "    B.sort(key=lambda x: (x[1]*x[3],x[4]), reverse=True)\n",
    "    \n",
    "    targets = [] #attack,attack_init,defense, attack_val\n",
    "    def targethelper(AA,BB):\n",
    "        for i in AA:\n",
    "            tmp  = []\n",
    "            damage = i[5]\n",
    "            for j in BB:\n",
    "                if j[0] in [x[2] for x in targets] or damage in j[6]:\n",
    "                    tmp.append([0,j[1]*j[3], j[4]])\n",
    "                elif damage in j[7]:\n",
    "                    tmp.append([2,j[1]*j[3], j[4]])\n",
    "                else:\n",
    "                    tmp.append([1,j[1]*j[3], j[4]])\n",
    "                    \n",
    "            tmp = list(enumerate(tmp))\n",
    "            tmp.sort(key=lambda x:(x[1][0],x[1][1],x[1][2]),reverse=True)\n",
    "            ind, value = tmp[0]\n",
    "            #print('tmp', i[0], 'Bind',BB[ind][0], tmp)\n",
    "            if value[0]!=0:\n",
    "                targets.append([i[0],i[4],BB[ind][0],value[0]])\n",
    "            \n",
    "    targethelper(A,B)\n",
    "    targethelper(B,A)\n",
    "    return targets \n",
    "\n",
    "def attack(Immune,Infection,targets):\n",
    "    targets.sort(key=lambda x:x[1], reverse=True)\n",
    "    main = Immune + Infection\n",
    "    for i in targets:\n",
    "        attackk = 0\n",
    "        if i[0] not in [x[0] for x in main]:\n",
    "            continue \n",
    "        \n",
    "        else:\n",
    "            for kk in main:\n",
    "                if kk[0] == i[0]:\n",
    "                    attackk = kk[1]*kk[3]*i[3]\n",
    "                    break\n",
    "            \n",
    "        for j in main:\n",
    "            if j[0] == i[2]:\n",
    "                j[1] -= int(attackk/j[2])\n",
    "                if j[1]<=0:\n",
    "                    main.remove(j)\n",
    "                break\n",
    "                \n",
    "    Immune  = [x for x in main if x[0]<ll]\n",
    "    Infection = [x for x in main if x[0]>=ll]\n",
    "    return Immune,Infection\n",
    "\n",
    "def winnerscore(A):\n",
    "    return sum([x[1] for x in A])"
   ]
  },
  {
   "cell_type": "code",
   "execution_count": 4,
   "metadata": {},
   "outputs": [
    {
     "data": {
      "text/plain": [
       "('Infection', 17738)"
      ]
     },
     "execution_count": 4,
     "metadata": {},
     "output_type": "execute_result"
    }
   ],
   "source": [
    "def res(Immune, Infection):\n",
    "    c= 0\n",
    "    while True:\n",
    "        if len(Immune)==0:\n",
    "            return 'Infection', winnerscore(Infection)\n",
    "            break\n",
    "\n",
    "        elif len(Infection)==0:\n",
    "            return 'Immune', winnerscore(Immune)\n",
    "            break\n",
    "\n",
    "        else:    \n",
    "            targets = targetSelection(Immune,Infection)\n",
    "            Immune,Infection = attack(Immune,Infection,targets)\n",
    "            #for i in targets:\n",
    "            #    print('targets', i)\n",
    "            #print('len:',len(Immune),len(Infection),'\\n')\n",
    "            #print('Immune:', Immune)\n",
    "            #print('Infection:',Infection,'\\n')\n",
    "        c += 1\n",
    "        if c >10000:  # better to check if Immune and Infection didn't change after attack. \n",
    "            return 'NeverEndingWar', 0\n",
    "\n",
    "res(Immune, Infection)"
   ]
  },
  {
   "cell_type": "code",
   "execution_count": 5,
   "metadata": {},
   "outputs": [
    {
     "name": "stdout",
     "output_type": "stream",
     "text": [
      "3057 31\n"
     ]
    }
   ],
   "source": [
    "for i in range(1,10000):\n",
    "    Immune = [parseline(i,x) for i,x in enumerate(lst[1:11])]\n",
    "    ll = len(Immune)\n",
    "    Infection =[parseline(i+ll,x) for i,x in enumerate(lst[13:])]\n",
    "\n",
    "    for x in Immune:\n",
    "        x[3] += i\n",
    "    \n",
    "    tp, rs = res(Immune,Infection)\n",
    "    if tp =='Immune':\n",
    "        print(rs,i)\n",
    "        break"
   ]
  },
  {
   "cell_type": "code",
   "execution_count": null,
   "metadata": {},
   "outputs": [],
   "source": []
  },
  {
   "cell_type": "markdown",
   "metadata": {},
   "source": [
    "# Day 25"
   ]
  },
  {
   "cell_type": "code",
   "execution_count": 1,
   "metadata": {},
   "outputs": [],
   "source": [
    "import requests\n",
    "c = open('cookie.txt').readline()\n",
    "cookie = {'session': c[:-1]}\n",
    "url = 'https://adventofcode.com/2018/day/25/input'\n",
    "r = requests.post(url, cookies=cookie)\n",
    "inp = r.text\n",
    "lst = inp.split('\\n')[:-1]"
   ]
  },
  {
   "cell_type": "code",
   "execution_count": 2,
   "metadata": {},
   "outputs": [],
   "source": [
    "#parse input\n",
    "main = []\n",
    "for x in lst:\n",
    "    tmp =[]\n",
    "    for j in x.split(','):\n",
    "        tmp.append(int(j))\n",
    "    main.append(tmp)\n",
    "    \n",
    "def dist(point1, point2):\n",
    "    d = 0\n",
    "    for i,j in zip(point1,point2):\n",
    "        d+= abs(i-j)\n",
    "    if d<=3:\n",
    "        return True\n",
    "    else:\n",
    "        return False\n",
    "    \n",
    "c = [[main[0]]]\n",
    "for point in main[1:]:\n",
    "    breakflag = False\n",
    "    for group in c:\n",
    "        if breakflag:\n",
    "            break\n",
    "        for p in group:\n",
    "            if dist(p,point):\n",
    "                group.append(point)\n",
    "                breakflag = True\n",
    "                break\n",
    "    if not breakflag:\n",
    "        c.append([point])\n",
    "\n",
    "#convert to dict\n",
    "cc ={} \n",
    "for i,group in enumerate(c):\n",
    "    cc[i] = group"
   ]
  },
  {
   "cell_type": "code",
   "execution_count": 3,
   "metadata": {},
   "outputs": [
    {
     "data": {
      "text/plain": [
       "375"
      ]
     },
     "execution_count": 3,
     "metadata": {},
     "output_type": "execute_result"
    }
   ],
   "source": [
    "# find all pairs\n",
    "tmp = []\n",
    "pairs = []\n",
    "for k,v in cc.items():\n",
    "    tmp.append(k)\n",
    "    for point in v:\n",
    "        for k2,v2 in cc.items():\n",
    "            if k2 not in tmp:\n",
    "                for point2 in v2:\n",
    "                    if dist(point,point2):\n",
    "                        pairs.append((k,k2))\n",
    "pairs= list(set(pairs))\n",
    "pairs.sort(key=lambda x:(x[0],x[1]))\n",
    "pairs = [[x[0],x[1]] for x in pairs]\n",
    "\n",
    "\n",
    "# connect all pairs with same elements \n",
    "while True:\n",
    "    pairs1 = pairs.copy()\n",
    "    todel = []\n",
    "    for i,v in enumerate(pairs[:-1]):\n",
    "        if i in todel:\n",
    "            continue\n",
    "        for j,v2 in enumerate(pairs[i+1:]):\n",
    "            if i+j+1 in todel:\n",
    "                continue\n",
    "            for x in v:\n",
    "                if x in v2:\n",
    "                    todel.append(i+j+1)\n",
    "                    pairs[i].extend(v2)\n",
    "                    break\n",
    "    todel.sort(reverse=True)\n",
    "    for i in todel:\n",
    "        pairs.pop(i)\n",
    "        \n",
    "    if pairs == pairs1:\n",
    "        break\n",
    "\n",
    "pairs = [list(set(x)) for x in pairs]\n",
    "\n",
    "#group all pairs in cc dict\n",
    "for v in pairs:\n",
    "    for x in v[1:]:\n",
    "        cc[v[0]].append(x)\n",
    "        del cc[x] \n",
    "len(cc)"
   ]
  },
  {
   "cell_type": "code",
   "execution_count": null,
   "metadata": {},
   "outputs": [],
   "source": []
  },
  {
   "cell_type": "code",
   "execution_count": null,
   "metadata": {},
   "outputs": [],
   "source": []
  }
 ],
 "metadata": {
  "kernelspec": {
   "display_name": "Python 3",
   "language": "python",
   "name": "python3"
  },
  "language_info": {
   "codemirror_mode": {
    "name": "ipython",
    "version": 3
   },
   "file_extension": ".py",
   "mimetype": "text/x-python",
   "name": "python",
   "nbconvert_exporter": "python",
   "pygments_lexer": "ipython3",
   "version": "3.6.5"
  }
 },
 "nbformat": 4,
 "nbformat_minor": 2
}
