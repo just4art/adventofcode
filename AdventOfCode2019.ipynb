{
 "cells": [
  {
   "cell_type": "code",
   "execution_count": 21,
   "metadata": {},
   "outputs": [],
   "source": [
    "# copy cookie from adventofcode.com to cookie.txt to get inputs\n",
    "import requests\n",
    "c = open('cookie.txt').readline()\n",
    "cookie = {'session': c[:-1]}"
   ]
  },
  {
   "cell_type": "markdown",
   "metadata": {},
   "source": [
    "# Day 1"
   ]
  },
  {
   "cell_type": "code",
   "execution_count": 22,
   "metadata": {},
   "outputs": [],
   "source": [
    "#1\n",
    "url = 'https://adventofcode.com/2019/day/1/input'\n",
    "r = requests.post(url, cookies=cookie)\n",
    "inp = r.text"
   ]
  },
  {
   "cell_type": "code",
   "execution_count": 44,
   "metadata": {},
   "outputs": [],
   "source": [
    "t = [int(x) for x in inp.split('\\n')[:-1]]"
   ]
  },
  {
   "cell_type": "code",
   "execution_count": 45,
   "metadata": {},
   "outputs": [
    {
     "data": {
      "text/plain": [
       "3337604"
      ]
     },
     "execution_count": 45,
     "metadata": {},
     "output_type": "execute_result"
    }
   ],
   "source": [
    "#1 \n",
    "sum([(int(x/3)-2) for x in t])"
   ]
  },
  {
   "cell_type": "code",
   "execution_count": 46,
   "metadata": {},
   "outputs": [
    {
     "name": "stdout",
     "output_type": "stream",
     "text": [
      "5003530\n"
     ]
    }
   ],
   "source": [
    "#2\n",
    "def nextmass(t):\n",
    "    tnew = [(int(x/3)-2) for x in t]\n",
    "    tnew = [x for x in tnew if x>0]\n",
    "    mass = sum(tnew)\n",
    "    return mass, tnew\n",
    "\n",
    "m = 0\n",
    "while len(t)>0:\n",
    "    m0, t = nextmass(t)\n",
    "    m += m0\n",
    "print(m)"
   ]
  },
  {
   "cell_type": "markdown",
   "metadata": {},
   "source": [
    "# Day 2"
   ]
  },
  {
   "cell_type": "code",
   "execution_count": null,
   "metadata": {},
   "outputs": [],
   "source": [
    "import requests\n",
    "c = open('cookie.txt').readline()\n",
    "cookie = {'session': c[:-1]}\n",
    "url = 'https://adventofcode.com/2019/day/2/input'\n",
    "r = requests.post(url, cookies=cookie)\n",
    "inp = r.text"
   ]
  },
  {
   "cell_type": "code",
   "execution_count": null,
   "metadata": {},
   "outputs": [],
   "source": []
  },
  {
   "cell_type": "code",
   "execution_count": null,
   "metadata": {},
   "outputs": [],
   "source": []
  },
  {
   "cell_type": "code",
   "execution_count": null,
   "metadata": {},
   "outputs": [],
   "source": []
  }
 ],
 "metadata": {
  "kernelspec": {
   "display_name": "Python 3",
   "language": "python",
   "name": "python3"
  },
  "language_info": {
   "codemirror_mode": {
    "name": "ipython",
    "version": 3
   },
   "file_extension": ".py",
   "mimetype": "text/x-python",
   "name": "python",
   "nbconvert_exporter": "python",
   "pygments_lexer": "ipython3",
   "version": "3.7.5"
  }
 },
 "nbformat": 4,
 "nbformat_minor": 2
}
