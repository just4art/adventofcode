{
 "cells": [
  {
   "cell_type": "code",
   "execution_count": 1,
   "metadata": {},
   "outputs": [],
   "source": [
    "# copy cookie from adventofcode.com to cookie.txt to get inputs\n",
    "import requests\n",
    "c = open('cookie.txt').readline()\n",
    "cookie = {'session': c[:-1]}"
   ]
  },
  {
   "cell_type": "markdown",
   "metadata": {},
   "source": [
    "# Day 1"
   ]
  },
  {
   "cell_type": "code",
   "execution_count": 2,
   "metadata": {},
   "outputs": [],
   "source": [
    "#1\n",
    "url = 'https://adventofcode.com/2019/day/1/input'\n",
    "r = requests.post(url, cookies=cookie)\n",
    "inp = r.text"
   ]
  },
  {
   "cell_type": "code",
   "execution_count": 3,
   "metadata": {},
   "outputs": [
    {
     "data": {
      "text/plain": [
       "3337604"
      ]
     },
     "execution_count": 3,
     "metadata": {},
     "output_type": "execute_result"
    }
   ],
   "source": [
    "#1 \n",
    "t = [int(x) for x in inp.split('\\n')[:-1]]\n",
    "sum([(int(x/3)-2) for x in t])"
   ]
  },
  {
   "cell_type": "code",
   "execution_count": 4,
   "metadata": {},
   "outputs": [
    {
     "name": "stdout",
     "output_type": "stream",
     "text": [
      "5003530\n"
     ]
    }
   ],
   "source": [
    "#2\n",
    "def nextmass(t):\n",
    "    tnew = [(int(x/3)-2) for x in t]\n",
    "    tnew = [x for x in tnew if x>0]\n",
    "    mass = sum(tnew)\n",
    "    return mass, tnew\n",
    "\n",
    "m = 0\n",
    "while len(t)>0:\n",
    "    m0, t = nextmass(t)\n",
    "    m += m0\n",
    "print(m)"
   ]
  },
  {
   "cell_type": "markdown",
   "metadata": {},
   "source": [
    "# Day 2"
   ]
  },
  {
   "cell_type": "code",
   "execution_count": 1,
   "metadata": {},
   "outputs": [],
   "source": [
    "import requests\n",
    "c = open('cookie.txt').readline()\n",
    "cookie = {'session': c[:-1]}\n",
    "url = 'https://adventofcode.com/2019/day/2/input'\n",
    "r = requests.post(url, cookies=cookie)\n",
    "inp = r.text"
   ]
  },
  {
   "cell_type": "code",
   "execution_count": 2,
   "metadata": {},
   "outputs": [
    {
     "name": "stdout",
     "output_type": "stream",
     "text": [
      "3931283\n"
     ]
    }
   ],
   "source": [
    "t = inp.split(',')\n",
    "t = [int(x) for x in t]\n",
    "t[1]=12\n",
    "t[2]=2\n",
    "\n",
    "def prog(t, i):\n",
    "    if t[i] == 1:\n",
    "        t[t[i+3]] = t[t[i+1]] + t[t[i+2]]\n",
    "    elif t[i] == 2:\n",
    "        t[t[i+3]] = t[t[i+1]]*t[t[i+2]]\n",
    "    elif t == 99:\n",
    "        return (False,t)\n",
    "    else:\n",
    "        return (False,t)\n",
    "    return (True, t)\n",
    "\n",
    "def findt0(t):\n",
    "    for i in range(int(len(t)/4)):\n",
    "        flag, t = prog(t,4*i)\n",
    "        if flag == False:\n",
    "            break\n",
    "    return t[0]\n",
    "\n",
    "print(findt0(t))"
   ]
  },
  {
   "cell_type": "code",
   "execution_count": 3,
   "metadata": {},
   "outputs": [
    {
     "name": "stdout",
     "output_type": "stream",
     "text": [
      "6979\n"
     ]
    }
   ],
   "source": [
    "def reset():\n",
    "    t = inp.split(',')\n",
    "    t = [int(x) for x in t]\n",
    "    return t \n",
    "\n",
    "def findX(t):\n",
    "    for k in range(100):\n",
    "        for j in range(100):  \n",
    "            t = reset()\n",
    "            t[1] = k\n",
    "            t[2] = j\n",
    "            if findt0(t) == 19690720:\n",
    "                return (k*100+j)\n",
    "            \n",
    "print(findX(t))"
   ]
  },
  {
   "cell_type": "markdown",
   "metadata": {},
   "source": [
    "# Day 3"
   ]
  },
  {
   "cell_type": "code",
   "execution_count": null,
   "metadata": {},
   "outputs": [],
   "source": [
    "import requests\n",
    "c = open('cookie.txt').readline()\n",
    "cookie = {'session': c[:-1]}\n",
    "url = 'https://adventofcode.com/2019/day/3/input'\n",
    "r = requests.post(url, cookies=cookie)\n",
    "inp = r.text"
   ]
  },
  {
   "cell_type": "code",
   "execution_count": null,
   "metadata": {},
   "outputs": [],
   "source": []
  }
 ],
 "metadata": {
  "kernelspec": {
   "display_name": "Python 3",
   "language": "python",
   "name": "python3"
  },
  "language_info": {
   "codemirror_mode": {
    "name": "ipython",
    "version": 3
   },
   "file_extension": ".py",
   "mimetype": "text/x-python",
   "name": "python",
   "nbconvert_exporter": "python",
   "pygments_lexer": "ipython3",
   "version": "3.7.5"
  }
 },
 "nbformat": 4,
 "nbformat_minor": 2
}
