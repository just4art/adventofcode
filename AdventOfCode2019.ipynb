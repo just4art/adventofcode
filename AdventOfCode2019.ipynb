{
 "cells": [
  {
   "cell_type": "code",
   "execution_count": 5,
   "metadata": {},
   "outputs": [],
   "source": [
    "# copy cookie from adventofcode.com to cookie.txt to get inputs\n",
    "import requests\n",
    "c = open('cookie.txt').readline()\n",
    "cookie = {'session': c[:-1]}"
   ]
  },
  {
   "cell_type": "markdown",
   "metadata": {},
   "source": [
    "# Day 1"
   ]
  },
  {
   "cell_type": "code",
   "execution_count": 2,
   "metadata": {},
   "outputs": [],
   "source": [
    "#1\n",
    "url = 'https://adventofcode.com/2019/day/1/input'\n",
    "r = requests.post(url, cookies=cookie)\n",
    "inp = r.text"
   ]
  },
  {
   "cell_type": "code",
   "execution_count": 3,
   "metadata": {},
   "outputs": [
    {
     "data": {
      "text/plain": [
       "3337604"
      ]
     },
     "execution_count": 3,
     "metadata": {},
     "output_type": "execute_result"
    }
   ],
   "source": [
    "#1 \n",
    "t = [int(x) for x in inp.split('\\n')[:-1]]\n",
    "sum([(int(x/3)-2) for x in t])"
   ]
  },
  {
   "cell_type": "code",
   "execution_count": 4,
   "metadata": {},
   "outputs": [
    {
     "name": "stdout",
     "output_type": "stream",
     "text": [
      "5003530\n"
     ]
    }
   ],
   "source": [
    "#2\n",
    "def nextmass(t):\n",
    "    tnew = [(int(x/3)-2) for x in t]\n",
    "    tnew = [x for x in tnew if x>0]\n",
    "    mass = sum(tnew)\n",
    "    return mass, tnew\n",
    "\n",
    "m = 0\n",
    "while len(t)>0:\n",
    "    m0, t = nextmass(t)\n",
    "    m += m0\n",
    "print(m)"
   ]
  },
  {
   "cell_type": "markdown",
   "metadata": {},
   "source": [
    "# Day 2"
   ]
  },
  {
   "cell_type": "code",
   "execution_count": 1,
   "metadata": {},
   "outputs": [],
   "source": [
    "import requests\n",
    "c = open('cookie.txt').readline()\n",
    "cookie = {'session': c[:-1]}\n",
    "url = 'https://adventofcode.com/2019/day/2/input'\n",
    "r = requests.post(url, cookies=cookie)\n",
    "inp = r.text"
   ]
  },
  {
   "cell_type": "code",
   "execution_count": 2,
   "metadata": {},
   "outputs": [
    {
     "name": "stdout",
     "output_type": "stream",
     "text": [
      "3931283\n"
     ]
    }
   ],
   "source": [
    "t = inp.split(',')\n",
    "t = [int(x) for x in t]\n",
    "t[1]=12\n",
    "t[2]=2\n",
    "\n",
    "def prog(t, i):\n",
    "    if t[i] == 1:\n",
    "        t[t[i+3]] = t[t[i+1]] + t[t[i+2]]\n",
    "    elif t[i] == 2:\n",
    "        t[t[i+3]] = t[t[i+1]]*t[t[i+2]]\n",
    "    elif t == 99:\n",
    "        return (False,t)\n",
    "    else:\n",
    "        return (False,t)\n",
    "    return (True, t)\n",
    "\n",
    "def findt0(t):\n",
    "    for i in range(int(len(t)/4)):\n",
    "        flag, t = prog(t,4*i)\n",
    "        if flag == False:\n",
    "            break\n",
    "    return t[0]\n",
    "\n",
    "print(findt0(t))"
   ]
  },
  {
   "cell_type": "code",
   "execution_count": 3,
   "metadata": {},
   "outputs": [
    {
     "name": "stdout",
     "output_type": "stream",
     "text": [
      "6979\n"
     ]
    }
   ],
   "source": [
    "def reset():\n",
    "    t = inp.split(',')\n",
    "    t = [int(x) for x in t]\n",
    "    return t \n",
    "\n",
    "def findX(t):\n",
    "    for k in range(100):\n",
    "        for j in range(100):  \n",
    "            t = reset()\n",
    "            t[1] = k\n",
    "            t[2] = j\n",
    "            if findt0(t) == 19690720:\n",
    "                return (k*100+j)\n",
    "            \n",
    "print(findX(t))"
   ]
  },
  {
   "cell_type": "markdown",
   "metadata": {},
   "source": [
    "# Day 3"
   ]
  },
  {
   "cell_type": "code",
   "execution_count": 1,
   "metadata": {},
   "outputs": [],
   "source": [
    "import requests\n",
    "c = open('cookie.txt').readline()\n",
    "cookie = {'session': c[:-1]}\n",
    "url = 'https://adventofcode.com/2019/day/3/input'\n",
    "r = requests.post(url, cookies=cookie)\n",
    "inp = r.text"
   ]
  },
  {
   "cell_type": "code",
   "execution_count": 2,
   "metadata": {},
   "outputs": [],
   "source": [
    "#1\n",
    "t = inp.split('\\n')\n",
    "t1 = t[0].split(',')\n",
    "t2 = t[1].split(',')\n",
    "\n",
    "\n",
    "def getdots(t):\n",
    "    d = {}\n",
    "    x,y = 0,0 \n",
    "    for i in t:\n",
    "        if i[0] == 'R':\n",
    "            for j in range(int(i[1:])):\n",
    "                x += 1\n",
    "                d[(x,y)] = 1\n",
    "        if i[0] == 'L':\n",
    "            for j in range(int(i[1:])):\n",
    "                x -= 1\n",
    "                d[(x,y)] = 1\n",
    "        if i[0] == 'U':\n",
    "            for j in range(int(i[1:])):\n",
    "                y += 1\n",
    "                d[(x,y)] = 1\n",
    "        if i[0] == 'D':\n",
    "            for j in range(int(i[1:])):\n",
    "                y -= 1\n",
    "                d[(x,y)] = 1       \n",
    "    return d\n",
    "\n",
    "d1 = getdots(t1)\n",
    "d2 = getdots(t2)"
   ]
  },
  {
   "cell_type": "code",
   "execution_count": 3,
   "metadata": {},
   "outputs": [
    {
     "data": {
      "text/plain": [
       "1064"
      ]
     },
     "execution_count": 3,
     "metadata": {},
     "output_type": "execute_result"
    }
   ],
   "source": [
    "intersections = {}\n",
    "for key in d1.keys():\n",
    "    if key in d2.keys():\n",
    "        intersections[key] = 1\n",
    "\n",
    "mindist = None \n",
    "for key in intersections.keys():\n",
    "    dist = abs(key[0])+abs(key[1])\n",
    "    if mindist is None:\n",
    "        mindist = dist\n",
    "    elif mindist > dist:\n",
    "        mindist = dist \n",
    "mindist"
   ]
  },
  {
   "cell_type": "code",
   "execution_count": 4,
   "metadata": {},
   "outputs": [],
   "source": [
    "#2\n",
    "def getdots(t):\n",
    "    d = {}\n",
    "    x,y = 0,0 \n",
    "    counter = 0\n",
    "    for i in t:\n",
    "        if i[0] == 'R':\n",
    "            for j in range(int(i[1:])):\n",
    "                x += 1\n",
    "                counter += 1\n",
    "                if (x,y) in d.keys():\n",
    "                    pass\n",
    "                else:\n",
    "                    d[(x,y)] = counter \n",
    "        if i[0] == 'L':\n",
    "            for j in range(int(i[1:])):\n",
    "                x -= 1\n",
    "                counter += 1\n",
    "                if (x,y) in d.keys():\n",
    "                    pass\n",
    "                else:\n",
    "                    d[(x,y)] = counter \n",
    "        if i[0] == 'U':\n",
    "            for j in range(int(i[1:])):\n",
    "                y += 1\n",
    "                counter += 1\n",
    "                if (x,y) in d.keys():\n",
    "                    pass\n",
    "                else:\n",
    "                    d[(x,y)] = counter \n",
    "        if i[0] == 'D':\n",
    "            for j in range(int(i[1:])):\n",
    "                y -= 1\n",
    "                counter += 1\n",
    "                if (x,y) in d.keys():\n",
    "                    pass\n",
    "                else:\n",
    "                    d[(x,y)] = counter    \n",
    "    return d\n",
    "\n",
    "d1 = getdots(t1)\n",
    "d2 = getdots(t2)"
   ]
  },
  {
   "cell_type": "code",
   "execution_count": 5,
   "metadata": {},
   "outputs": [
    {
     "data": {
      "text/plain": [
       "25676"
      ]
     },
     "execution_count": 5,
     "metadata": {},
     "output_type": "execute_result"
    }
   ],
   "source": [
    "intersections = {}\n",
    "for key in d1.keys():\n",
    "    if key in d2.keys():\n",
    "        intersections[key] = d1[key]+d2[key]\n",
    "min(intersections.values())"
   ]
  },
  {
   "cell_type": "markdown",
   "metadata": {},
   "source": [
    "# Day 4"
   ]
  },
  {
   "cell_type": "code",
   "execution_count": 1,
   "metadata": {},
   "outputs": [
    {
     "name": "stdout",
     "output_type": "stream",
     "text": [
      "1790\n"
     ]
    }
   ],
   "source": [
    "def hasdouble(s):\n",
    "    for i in range(len(s)-1):\n",
    "        if s[i] == s[i+1]:\n",
    "            return True\n",
    "    return False\n",
    "\n",
    "\n",
    "def increasing(s):\n",
    "    for i in range(len(s)-1):\n",
    "        if s[i]>s[i+1]:\n",
    "            return False\n",
    "    return True\n",
    "\n",
    "\n",
    "count = 0\n",
    "for i in range(147981, 691424):\n",
    "    s = [int(x) for x in str(i)]\n",
    "    if hasdouble(s) and increasing(s):\n",
    "        count += 1\n",
    "\n",
    "print(count)"
   ]
  },
  {
   "cell_type": "code",
   "execution_count": 2,
   "metadata": {},
   "outputs": [
    {
     "name": "stdout",
     "output_type": "stream",
     "text": [
      "1206\n"
     ]
    }
   ],
   "source": [
    "#2 \n",
    "def hasdouble(s):\n",
    "    c = 0 \n",
    "    for i in range(len(s)-1):\n",
    "        if s[i] == s[i+1]:\n",
    "            c += 1  \n",
    "        elif c==1:\n",
    "            return True\n",
    "        else:\n",
    "            c = 0\n",
    "    if c == 1:\n",
    "        return True\n",
    "    return False\n",
    "            \n",
    "count = 0\n",
    "for i in range(147981, 691424):\n",
    "    s = [int(x) for x in str(i)]\n",
    "    if hasdouble(s) and increasing(s):\n",
    "        count += 1\n",
    "\n",
    "print(count)"
   ]
  },
  {
   "cell_type": "markdown",
   "metadata": {},
   "source": [
    "# Day 5"
   ]
  },
  {
   "cell_type": "code",
   "execution_count": 1,
   "metadata": {},
   "outputs": [],
   "source": [
    "import requests\n",
    "c = open('cookie.txt').readline()\n",
    "cookie = {'session': c[:-1]}\n",
    "url = 'https://adventofcode.com/2019/day/5/input'\n",
    "r = requests.post(url, cookies=cookie)\n",
    "inp = r.text"
   ]
  },
  {
   "cell_type": "code",
   "execution_count": 2,
   "metadata": {},
   "outputs": [
    {
     "name": "stdout",
     "output_type": "stream",
     "text": [
      "3\n",
      "0\n",
      "0\n",
      "0\n",
      "0\n",
      "0\n",
      "0\n",
      "0\n",
      "0\n",
      "11193703\n",
      "12410607\n"
     ]
    }
   ],
   "source": [
    "def modefunc(mode,position,t,i):\n",
    "    if mode[position] == '0':\n",
    "        return t[t[i]]\n",
    "    else:\n",
    "        return t[i]\n",
    "    \n",
    "    \n",
    "def prog(t, i, inp):\n",
    "    pointer = i\n",
    "    \n",
    "    opt = str(t[i])[-2:]\n",
    "    while len(opt)!= 2:\n",
    "        opt = '0'+ opt\n",
    "        \n",
    "    mode = str(t[i])[:-2]\n",
    "    while len(mode)!=2:\n",
    "        mode = '0' + mode\n",
    "    \n",
    "    if opt == '01':\n",
    "        t[t[i+3]] = modefunc(mode,1,t,i+1) + modefunc(mode,0,t,i+2)\n",
    "        pointer += 4\n",
    "        \n",
    "    elif opt == '02':\n",
    "        t[t[i+3]] = modefunc(mode,1,t,i+1)*modefunc(mode,0,t,i+2)\n",
    "        pointer += 4\n",
    "        \n",
    "    elif opt == '03':\n",
    "        t[t[i+1]] = inp \n",
    "        pointer += 2\n",
    "        \n",
    "    elif opt == '04':\n",
    "        print(t[t[i+1]])\n",
    "        pointer += 2\n",
    "        \n",
    "    elif opt == '05':\n",
    "        if modefunc(mode,1,t,i+1)!=0:\n",
    "            pointer = modefunc(mode,0,t,i+2)\n",
    "        else:\n",
    "            pointer += 3\n",
    "            \n",
    "    elif opt == '06':\n",
    "        if modefunc(mode,1,t,i+1)==0:\n",
    "            pointer = modefunc(mode,0,t,i+2)\n",
    "        else:\n",
    "            pointer += 3\n",
    "            \n",
    "    elif opt == '07':\n",
    "        if modefunc(mode,1,t,i+1)< modefunc(mode,0,t,i+2):\n",
    "            t[t[i+3]] = 1\n",
    "        else:\n",
    "            t[t[i+3]] = 0\n",
    "        pointer += 4\n",
    "\n",
    "    elif opt == '08':\n",
    "        if modefunc(mode,1,t,i+1) == modefunc(mode,0,t,i+2):\n",
    "            t[t[i+3]] = 1\n",
    "        else:\n",
    "            t[t[i+3]] = 0\n",
    "        pointer += 4\n",
    "\n",
    "    elif opt == '99':\n",
    "        pointer += 1\n",
    "        return (False, t, pointer)        \n",
    "    \n",
    "    else:\n",
    "        print('error')\n",
    "        return (False, t, pointer)\n",
    "    \n",
    "    return (True,t,pointer)\n",
    "\n",
    "def findt(t, inp_val):\n",
    "    pointer = 0\n",
    "    while True:\n",
    "        flag, t, pointer = prog(t,pointer,inp_val)\n",
    "        if flag == False:\n",
    "            break\n",
    "    return None\n",
    "\n",
    "#1\n",
    "t = inp.split(',')\n",
    "t = [int(x) for x in t]\n",
    "findt(t,1)\n",
    "\n",
    "#2 \n",
    "t = inp.split(',')\n",
    "t = [int(x) for x in t]\n",
    "findt(t,5)"
   ]
  },
  {
   "cell_type": "markdown",
   "metadata": {},
   "source": [
    "# Day 6"
   ]
  },
  {
   "cell_type": "code",
   "execution_count": null,
   "metadata": {},
   "outputs": [],
   "source": [
    "import requests\n",
    "c = open('cookie.txt').readline()\n",
    "cookie = {'session': c[:-1]}\n",
    "url = 'https://adventofcode.com/2019/day/6/input'\n",
    "r = requests.post(url, cookies=cookie)\n",
    "inp = r.text"
   ]
  },
  {
   "cell_type": "code",
   "execution_count": null,
   "metadata": {},
   "outputs": [],
   "source": [
    "--- "
   ]
  },
  {
   "cell_type": "code",
   "execution_count": null,
   "metadata": {},
   "outputs": [],
   "source": []
  }
 ],
 "metadata": {
  "kernelspec": {
   "display_name": "Python 3",
   "language": "python",
   "name": "python3"
  },
  "language_info": {
   "codemirror_mode": {
    "name": "ipython",
    "version": 3
   },
   "file_extension": ".py",
   "mimetype": "text/x-python",
   "name": "python",
   "nbconvert_exporter": "python",
   "pygments_lexer": "ipython3",
   "version": "3.7.5"
  }
 },
 "nbformat": 4,
 "nbformat_minor": 2
}
